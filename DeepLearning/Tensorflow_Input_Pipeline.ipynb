{
  "nbformat": 4,
  "nbformat_minor": 0,
  "metadata": {
    "colab": {
      "provenance": [],
      "gpuType": "T4",
      "toc_visible": true
    },
    "kernelspec": {
      "name": "python3",
      "display_name": "Python 3"
    },
    "language_info": {
      "name": "python"
    },
    "accelerator": "GPU"
  },
  "cells": [
    {
      "cell_type": "code",
      "source": [
        "import tensorflow as tf"
      ],
      "metadata": {
        "id": "ccJnacmJXBig"
      },
      "execution_count": null,
      "outputs": []
    },
    {
      "cell_type": "code",
      "source": [
        "daily_sales_numbers = [19, 56, -69, 36, 72, 101, -18, -55, 420, 365]"
      ],
      "metadata": {
        "id": "ABIaBMufXLsY"
      },
      "execution_count": null,
      "outputs": []
    },
    {
      "cell_type": "code",
      "source": [
        "# converting python list into tf dataset where each value is converted into a tensor\n",
        "tf_dataset = tf.data.Dataset.from_tensor_slices(daily_sales_numbers)"
      ],
      "metadata": {
        "id": "jodBoMSjXbIx"
      },
      "execution_count": null,
      "outputs": []
    },
    {
      "cell_type": "code",
      "source": [
        "for x in tf_dataset.as_numpy_iterator():\n",
        "  print(x)"
      ],
      "metadata": {
        "colab": {
          "base_uri": "https://localhost:8080/"
        },
        "id": "QUaWQPSwXvbR",
        "outputId": "62200855-a22d-4c59-c787-da9c69481af2"
      },
      "execution_count": null,
      "outputs": [
        {
          "output_type": "stream",
          "name": "stdout",
          "text": [
            "19\n",
            "56\n",
            "-69\n",
            "36\n",
            "72\n",
            "101\n",
            "-18\n",
            "-55\n",
            "420\n",
            "365\n"
          ]
        }
      ]
    },
    {
      "cell_type": "code",
      "source": [
        "# getting rid of invalid/negative data points\n",
        "tf_dataset = tf_dataset.filter(lambda x:x>0)\n",
        "for x in tf_dataset.as_numpy_iterator():\n",
        "  print(x)"
      ],
      "metadata": {
        "colab": {
          "base_uri": "https://localhost:8080/"
        },
        "id": "3tzblkoBX5CH",
        "outputId": "c9e55197-d06f-4dbb-cebd-231969b52f95"
      },
      "execution_count": null,
      "outputs": [
        {
          "output_type": "stream",
          "name": "stdout",
          "text": [
            "19\n",
            "56\n",
            "36\n",
            "72\n",
            "101\n",
            "420\n",
            "365\n"
          ]
        }
      ]
    },
    {
      "cell_type": "code",
      "source": [
        "#  converting USD in PKR\n",
        "tf_dataset = tf_dataset.map(lambda x:x*288)\n",
        "for x in tf_dataset.as_numpy_iterator():\n",
        "  print(x)"
      ],
      "metadata": {
        "colab": {
          "base_uri": "https://localhost:8080/"
        },
        "id": "1TOtb4pm-rA8",
        "outputId": "fee6bbae-7e13-4dcd-9822-f95f793b1c6e"
      },
      "execution_count": null,
      "outputs": [
        {
          "output_type": "stream",
          "name": "stdout",
          "text": [
            "5472\n",
            "16128\n",
            "10368\n",
            "20736\n",
            "29088\n",
            "120960\n",
            "105120\n"
          ]
        }
      ]
    },
    {
      "cell_type": "code",
      "source": [
        "# shuffling the dataset with buffer size: n where buffer is a selection of random values of number n and from these values a random value is picked\n",
        "tf_dataset = tf_dataset.shuffle(3)\n",
        "for x in tf_dataset.as_numpy_iterator():\n",
        "  print(x)"
      ],
      "metadata": {
        "colab": {
          "base_uri": "https://localhost:8080/"
        },
        "id": "AQFGX73__TmM",
        "outputId": "353cd716-c3bf-43d1-b1a7-a541df9be6e8"
      },
      "execution_count": null,
      "outputs": [
        {
          "output_type": "stream",
          "name": "stdout",
          "text": [
            "16128\n",
            "5472\n",
            "29088\n",
            "20736\n",
            "105120\n",
            "10368\n",
            "120960\n"
          ]
        }
      ]
    },
    {
      "cell_type": "code",
      "source": [
        "# creating batches of size n\n",
        "for sales_batch in tf_dataset.batch(2):\n",
        "  print(sales_batch.numpy())"
      ],
      "metadata": {
        "colab": {
          "base_uri": "https://localhost:8080/"
        },
        "id": "xvXAMxhGBjms",
        "outputId": "ad5fb67b-163f-4e83-998b-491e142ed50b"
      },
      "execution_count": null,
      "outputs": [
        {
          "output_type": "stream",
          "name": "stdout",
          "text": [
            "[ 5472 10368]\n",
            "[20736 16128]\n",
            "[120960 105120]\n",
            "[29088]\n"
          ]
        }
      ]
    },
    {
      "cell_type": "code",
      "source": [
        "# creating dataset again and combining all methods into one single line\n",
        "tf_dataset2 = tf.data.Dataset.from_tensor_slices(daily_sales_numbers)\n",
        "tf_dataset2 = tf_dataset2.filter(lambda x:x>0).map(lambda y:y*288).shuffle(3).batch(2)\n",
        "for x in tf_dataset2.as_numpy_iterator():\n",
        "  print(x)\n"
      ],
      "metadata": {
        "id": "v-X3oEClCOT6",
        "colab": {
          "base_uri": "https://localhost:8080/"
        },
        "outputId": "83efe1a3-e032-4554-cb07-6f8737e1881c"
      },
      "execution_count": null,
      "outputs": [
        {
          "output_type": "stream",
          "name": "stdout",
          "text": [
            "[10368 20736]\n",
            "[ 5472 16128]\n",
            "[ 29088 105120]\n",
            "[120960]\n"
          ]
        }
      ]
    },
    {
      "cell_type": "code",
      "source": [
        "# Downloading Kaggle dataset\n",
        "! pip install Kaggle"
      ],
      "metadata": {
        "id": "bc-DZI0RDCOr",
        "colab": {
          "base_uri": "https://localhost:8080/"
        },
        "outputId": "aa88ba82-c005-4268-b1ff-841c4f88a2ad"
      },
      "execution_count": null,
      "outputs": [
        {
          "output_type": "stream",
          "name": "stdout",
          "text": [
            "Requirement already satisfied: Kaggle in /usr/local/lib/python3.10/dist-packages (1.5.16)\n",
            "Requirement already satisfied: six>=1.10 in /usr/local/lib/python3.10/dist-packages (from Kaggle) (1.16.0)\n",
            "Requirement already satisfied: certifi in /usr/local/lib/python3.10/dist-packages (from Kaggle) (2023.7.22)\n",
            "Requirement already satisfied: python-dateutil in /usr/local/lib/python3.10/dist-packages (from Kaggle) (2.8.2)\n",
            "Requirement already satisfied: requests in /usr/local/lib/python3.10/dist-packages (from Kaggle) (2.31.0)\n",
            "Requirement already satisfied: tqdm in /usr/local/lib/python3.10/dist-packages (from Kaggle) (4.66.0)\n",
            "Requirement already satisfied: python-slugify in /usr/local/lib/python3.10/dist-packages (from Kaggle) (8.0.1)\n",
            "Requirement already satisfied: urllib3 in /usr/local/lib/python3.10/dist-packages (from Kaggle) (2.0.4)\n",
            "Requirement already satisfied: bleach in /usr/local/lib/python3.10/dist-packages (from Kaggle) (6.0.0)\n",
            "Requirement already satisfied: webencodings in /usr/local/lib/python3.10/dist-packages (from bleach->Kaggle) (0.5.1)\n",
            "Requirement already satisfied: text-unidecode>=1.3 in /usr/local/lib/python3.10/dist-packages (from python-slugify->Kaggle) (1.3)\n",
            "Requirement already satisfied: charset-normalizer<4,>=2 in /usr/local/lib/python3.10/dist-packages (from requests->Kaggle) (3.2.0)\n",
            "Requirement already satisfied: idna<4,>=2.5 in /usr/local/lib/python3.10/dist-packages (from requests->Kaggle) (3.4)\n"
          ]
        }
      ]
    },
    {
      "cell_type": "code",
      "source": [
        " from google.colab import files\n",
        "\n",
        "files.upload()"
      ],
      "metadata": {
        "colab": {
          "base_uri": "https://localhost:8080/",
          "height": 90
        },
        "id": "TnBd6fx_l5KJ",
        "outputId": "b7abac73-50c3-497f-ac15-6156bcb55367"
      },
      "execution_count": null,
      "outputs": [
        {
          "output_type": "display_data",
          "data": {
            "text/plain": [
              "<IPython.core.display.HTML object>"
            ],
            "text/html": [
              "\n",
              "     <input type=\"file\" id=\"files-7e4d4ac9-c827-4215-8c6a-bc27ba6ae216\" name=\"files[]\" multiple disabled\n",
              "        style=\"border:none\" />\n",
              "     <output id=\"result-7e4d4ac9-c827-4215-8c6a-bc27ba6ae216\">\n",
              "      Upload widget is only available when the cell has been executed in the\n",
              "      current browser session. Please rerun this cell to enable.\n",
              "      </output>\n",
              "      <script>// Copyright 2017 Google LLC\n",
              "//\n",
              "// Licensed under the Apache License, Version 2.0 (the \"License\");\n",
              "// you may not use this file except in compliance with the License.\n",
              "// You may obtain a copy of the License at\n",
              "//\n",
              "//      http://www.apache.org/licenses/LICENSE-2.0\n",
              "//\n",
              "// Unless required by applicable law or agreed to in writing, software\n",
              "// distributed under the License is distributed on an \"AS IS\" BASIS,\n",
              "// WITHOUT WARRANTIES OR CONDITIONS OF ANY KIND, either express or implied.\n",
              "// See the License for the specific language governing permissions and\n",
              "// limitations under the License.\n",
              "\n",
              "/**\n",
              " * @fileoverview Helpers for google.colab Python module.\n",
              " */\n",
              "(function(scope) {\n",
              "function span(text, styleAttributes = {}) {\n",
              "  const element = document.createElement('span');\n",
              "  element.textContent = text;\n",
              "  for (const key of Object.keys(styleAttributes)) {\n",
              "    element.style[key] = styleAttributes[key];\n",
              "  }\n",
              "  return element;\n",
              "}\n",
              "\n",
              "// Max number of bytes which will be uploaded at a time.\n",
              "const MAX_PAYLOAD_SIZE = 100 * 1024;\n",
              "\n",
              "function _uploadFiles(inputId, outputId) {\n",
              "  const steps = uploadFilesStep(inputId, outputId);\n",
              "  const outputElement = document.getElementById(outputId);\n",
              "  // Cache steps on the outputElement to make it available for the next call\n",
              "  // to uploadFilesContinue from Python.\n",
              "  outputElement.steps = steps;\n",
              "\n",
              "  return _uploadFilesContinue(outputId);\n",
              "}\n",
              "\n",
              "// This is roughly an async generator (not supported in the browser yet),\n",
              "// where there are multiple asynchronous steps and the Python side is going\n",
              "// to poll for completion of each step.\n",
              "// This uses a Promise to block the python side on completion of each step,\n",
              "// then passes the result of the previous step as the input to the next step.\n",
              "function _uploadFilesContinue(outputId) {\n",
              "  const outputElement = document.getElementById(outputId);\n",
              "  const steps = outputElement.steps;\n",
              "\n",
              "  const next = steps.next(outputElement.lastPromiseValue);\n",
              "  return Promise.resolve(next.value.promise).then((value) => {\n",
              "    // Cache the last promise value to make it available to the next\n",
              "    // step of the generator.\n",
              "    outputElement.lastPromiseValue = value;\n",
              "    return next.value.response;\n",
              "  });\n",
              "}\n",
              "\n",
              "/**\n",
              " * Generator function which is called between each async step of the upload\n",
              " * process.\n",
              " * @param {string} inputId Element ID of the input file picker element.\n",
              " * @param {string} outputId Element ID of the output display.\n",
              " * @return {!Iterable<!Object>} Iterable of next steps.\n",
              " */\n",
              "function* uploadFilesStep(inputId, outputId) {\n",
              "  const inputElement = document.getElementById(inputId);\n",
              "  inputElement.disabled = false;\n",
              "\n",
              "  const outputElement = document.getElementById(outputId);\n",
              "  outputElement.innerHTML = '';\n",
              "\n",
              "  const pickedPromise = new Promise((resolve) => {\n",
              "    inputElement.addEventListener('change', (e) => {\n",
              "      resolve(e.target.files);\n",
              "    });\n",
              "  });\n",
              "\n",
              "  const cancel = document.createElement('button');\n",
              "  inputElement.parentElement.appendChild(cancel);\n",
              "  cancel.textContent = 'Cancel upload';\n",
              "  const cancelPromise = new Promise((resolve) => {\n",
              "    cancel.onclick = () => {\n",
              "      resolve(null);\n",
              "    };\n",
              "  });\n",
              "\n",
              "  // Wait for the user to pick the files.\n",
              "  const files = yield {\n",
              "    promise: Promise.race([pickedPromise, cancelPromise]),\n",
              "    response: {\n",
              "      action: 'starting',\n",
              "    }\n",
              "  };\n",
              "\n",
              "  cancel.remove();\n",
              "\n",
              "  // Disable the input element since further picks are not allowed.\n",
              "  inputElement.disabled = true;\n",
              "\n",
              "  if (!files) {\n",
              "    return {\n",
              "      response: {\n",
              "        action: 'complete',\n",
              "      }\n",
              "    };\n",
              "  }\n",
              "\n",
              "  for (const file of files) {\n",
              "    const li = document.createElement('li');\n",
              "    li.append(span(file.name, {fontWeight: 'bold'}));\n",
              "    li.append(span(\n",
              "        `(${file.type || 'n/a'}) - ${file.size} bytes, ` +\n",
              "        `last modified: ${\n",
              "            file.lastModifiedDate ? file.lastModifiedDate.toLocaleDateString() :\n",
              "                                    'n/a'} - `));\n",
              "    const percent = span('0% done');\n",
              "    li.appendChild(percent);\n",
              "\n",
              "    outputElement.appendChild(li);\n",
              "\n",
              "    const fileDataPromise = new Promise((resolve) => {\n",
              "      const reader = new FileReader();\n",
              "      reader.onload = (e) => {\n",
              "        resolve(e.target.result);\n",
              "      };\n",
              "      reader.readAsArrayBuffer(file);\n",
              "    });\n",
              "    // Wait for the data to be ready.\n",
              "    let fileData = yield {\n",
              "      promise: fileDataPromise,\n",
              "      response: {\n",
              "        action: 'continue',\n",
              "      }\n",
              "    };\n",
              "\n",
              "    // Use a chunked sending to avoid message size limits. See b/62115660.\n",
              "    let position = 0;\n",
              "    do {\n",
              "      const length = Math.min(fileData.byteLength - position, MAX_PAYLOAD_SIZE);\n",
              "      const chunk = new Uint8Array(fileData, position, length);\n",
              "      position += length;\n",
              "\n",
              "      const base64 = btoa(String.fromCharCode.apply(null, chunk));\n",
              "      yield {\n",
              "        response: {\n",
              "          action: 'append',\n",
              "          file: file.name,\n",
              "          data: base64,\n",
              "        },\n",
              "      };\n",
              "\n",
              "      let percentDone = fileData.byteLength === 0 ?\n",
              "          100 :\n",
              "          Math.round((position / fileData.byteLength) * 100);\n",
              "      percent.textContent = `${percentDone}% done`;\n",
              "\n",
              "    } while (position < fileData.byteLength);\n",
              "  }\n",
              "\n",
              "  // All done.\n",
              "  yield {\n",
              "    response: {\n",
              "      action: 'complete',\n",
              "    }\n",
              "  };\n",
              "}\n",
              "\n",
              "scope.google = scope.google || {};\n",
              "scope.google.colab = scope.google.colab || {};\n",
              "scope.google.colab._files = {\n",
              "  _uploadFiles,\n",
              "  _uploadFilesContinue,\n",
              "};\n",
              "})(self);\n",
              "</script> "
            ]
          },
          "metadata": {}
        },
        {
          "output_type": "stream",
          "name": "stdout",
          "text": [
            "Saving kaggle.json to kaggle.json\n"
          ]
        },
        {
          "output_type": "execute_result",
          "data": {
            "text/plain": [
              "{'kaggle.json': b'{\"username\":\"yousafhashmi\",\"key\":\"dcd0d7799cb271ce399cc286939b3b03\"}'}"
            ]
          },
          "metadata": {},
          "execution_count": 3
        }
      ]
    },
    {
      "cell_type": "code",
      "source": [
        "! cp kaggle.json ~/.kaggle/"
      ],
      "metadata": {
        "id": "y9SLGywYmSuT"
      },
      "execution_count": null,
      "outputs": []
    },
    {
      "cell_type": "code",
      "source": [
        " ! chmod 600 ~/.kaggle/kaggle.json"
      ],
      "metadata": {
        "id": "rCBl_dLAnJWo"
      },
      "execution_count": null,
      "outputs": []
    },
    {
      "cell_type": "code",
      "source": [
        "! kaggle datasets list"
      ],
      "metadata": {
        "id": "pEL0q0N5nldH"
      },
      "execution_count": null,
      "outputs": []
    },
    {
      "cell_type": "code",
      "source": [
        "import os\n",
        "\n",
        "# Navigate to the target folder\n",
        "os.chdir('/content/drive/MyDrive/Kaggle datasets')\n",
        "!kaggle datasets download -d samuelcortinhas/cats-and-dogs-image-classification"
      ],
      "metadata": {
        "colab": {
          "base_uri": "https://localhost:8080/"
        },
        "id": "rX-YYjkXoBNY",
        "outputId": "17dadb2d-50e5-4ab6-ae03-b92a8d4686cf"
      },
      "execution_count": null,
      "outputs": [
        {
          "output_type": "stream",
          "name": "stdout",
          "text": [
            "Downloading cats-and-dogs-image-classification.zip to /content/drive/MyDrive/Kaggle datasets\n",
            " 88% 57.0M/64.4M [00:01<00:00, 50.7MB/s]\n",
            "100% 64.4M/64.4M [00:01<00:00, 50.6MB/s]\n"
          ]
        }
      ]
    },
    {
      "cell_type": "code",
      "source": [
        "#  Unzipping the dataset\n",
        "!unzip $'/content/drive/MyDrive/Kaggle datasets/cats-and-dogs-image-classification.zip' -d '/content/drive/MyDrive/Kaggle datasets/Cats and Dogs'"
      ],
      "metadata": {
        "id": "pLHywn-ZoqEX"
      },
      "execution_count": null,
      "outputs": []
    },
    {
      "cell_type": "code",
      "source": [
        "# Delete File COmmand\n",
        "# import shutil\n",
        "# shutil.rmtree('/content/drive/MyDrive/Kaggle datasets/Cats and Dogs/test')\n"
      ],
      "metadata": {
        "id": "na6Nbex-qM4B"
      },
      "execution_count": null,
      "outputs": []
    },
    {
      "cell_type": "code",
      "source": [
        "# storing images filepaths where filepaths are in form of tensors\n",
        "ds_images_path = tf.data.Dataset.list_files('/content/drive/MyDrive/Kaggle datasets/Cats and Dogs/Cats and Dogs/*/*', shuffle=False)\n",
        "for x in ds_images_path:\n",
        "  print(x.numpy())"
      ],
      "metadata": {
        "colab": {
          "base_uri": "https://localhost:8080/"
        },
        "id": "8FTrNPWaqtKW",
        "outputId": "e095e578-8bb0-4ae3-de8d-e62247a35917"
      },
      "execution_count": null,
      "outputs": [
        {
          "output_type": "stream",
          "name": "stdout",
          "text": [
            "b'/content/drive/MyDrive/Kaggle datasets/Cats and Dogs/Cats and Dogs/cats/cat_10.jpg'\n",
            "b'/content/drive/MyDrive/Kaggle datasets/Cats and Dogs/Cats and Dogs/cats/cat_100.jpg'\n",
            "b'/content/drive/MyDrive/Kaggle datasets/Cats and Dogs/Cats and Dogs/cats/cat_101.jpg'\n",
            "b'/content/drive/MyDrive/Kaggle datasets/Cats and Dogs/Cats and Dogs/cats/cat_102.jpg'\n",
            "b'/content/drive/MyDrive/Kaggle datasets/Cats and Dogs/Cats and Dogs/cats/cat_103.jpg'\n",
            "b'/content/drive/MyDrive/Kaggle datasets/Cats and Dogs/Cats and Dogs/cats/cat_104.jpg'\n",
            "b'/content/drive/MyDrive/Kaggle datasets/Cats and Dogs/Cats and Dogs/cats/cat_11.jpg'\n",
            "b'/content/drive/MyDrive/Kaggle datasets/Cats and Dogs/Cats and Dogs/cats/cat_111.jpg'\n",
            "b'/content/drive/MyDrive/Kaggle datasets/Cats and Dogs/Cats and Dogs/cats/cat_12.jpg'\n",
            "b'/content/drive/MyDrive/Kaggle datasets/Cats and Dogs/Cats and Dogs/cats/cat_120.jpg'\n",
            "b'/content/drive/MyDrive/Kaggle datasets/Cats and Dogs/Cats and Dogs/cats/cat_123.jpg'\n",
            "b'/content/drive/MyDrive/Kaggle datasets/Cats and Dogs/Cats and Dogs/cats/cat_129.jpg'\n",
            "b'/content/drive/MyDrive/Kaggle datasets/Cats and Dogs/Cats and Dogs/cats/cat_13.jpg'\n",
            "b'/content/drive/MyDrive/Kaggle datasets/Cats and Dogs/Cats and Dogs/cats/cat_132.jpg'\n",
            "b'/content/drive/MyDrive/Kaggle datasets/Cats and Dogs/Cats and Dogs/cats/cat_133.jpg'\n",
            "b'/content/drive/MyDrive/Kaggle datasets/Cats and Dogs/Cats and Dogs/cats/cat_134.jpg'\n",
            "b'/content/drive/MyDrive/Kaggle datasets/Cats and Dogs/Cats and Dogs/cats/cat_137.jpg'\n",
            "b'/content/drive/MyDrive/Kaggle datasets/Cats and Dogs/Cats and Dogs/cats/cat_138.jpg'\n",
            "b'/content/drive/MyDrive/Kaggle datasets/Cats and Dogs/Cats and Dogs/cats/cat_139.jpg'\n",
            "b'/content/drive/MyDrive/Kaggle datasets/Cats and Dogs/Cats and Dogs/cats/cat_14.jpg'\n",
            "b'/content/drive/MyDrive/Kaggle datasets/Cats and Dogs/Cats and Dogs/cats/cat_141.jpg'\n",
            "b'/content/drive/MyDrive/Kaggle datasets/Cats and Dogs/Cats and Dogs/cats/cat_146.jpg'\n",
            "b'/content/drive/MyDrive/Kaggle datasets/Cats and Dogs/Cats and Dogs/cats/cat_148.jpg'\n",
            "b'/content/drive/MyDrive/Kaggle datasets/Cats and Dogs/Cats and Dogs/cats/cat_149.jpg'\n",
            "b'/content/drive/MyDrive/Kaggle datasets/Cats and Dogs/Cats and Dogs/cats/cat_15.jpg'\n",
            "b'/content/drive/MyDrive/Kaggle datasets/Cats and Dogs/Cats and Dogs/cats/cat_151.jpg'\n",
            "b'/content/drive/MyDrive/Kaggle datasets/Cats and Dogs/Cats and Dogs/cats/cat_152.jpg'\n",
            "b'/content/drive/MyDrive/Kaggle datasets/Cats and Dogs/Cats and Dogs/cats/cat_153.jpg'\n",
            "b'/content/drive/MyDrive/Kaggle datasets/Cats and Dogs/Cats and Dogs/cats/cat_159.jpg'\n",
            "b'/content/drive/MyDrive/Kaggle datasets/Cats and Dogs/Cats and Dogs/cats/cat_16.jpg'\n",
            "b'/content/drive/MyDrive/Kaggle datasets/Cats and Dogs/Cats and Dogs/cats/cat_160.jpg'\n",
            "b'/content/drive/MyDrive/Kaggle datasets/Cats and Dogs/Cats and Dogs/cats/cat_161.jpg'\n",
            "b'/content/drive/MyDrive/Kaggle datasets/Cats and Dogs/Cats and Dogs/cats/cat_163.jpg'\n",
            "b'/content/drive/MyDrive/Kaggle datasets/Cats and Dogs/Cats and Dogs/cats/cat_164.jpg'\n",
            "b'/content/drive/MyDrive/Kaggle datasets/Cats and Dogs/Cats and Dogs/cats/cat_165.jpg'\n",
            "b'/content/drive/MyDrive/Kaggle datasets/Cats and Dogs/Cats and Dogs/cats/cat_168.jpg'\n",
            "b'/content/drive/MyDrive/Kaggle datasets/Cats and Dogs/Cats and Dogs/cats/cat_169.jpg'\n",
            "b'/content/drive/MyDrive/Kaggle datasets/Cats and Dogs/Cats and Dogs/cats/cat_170.jpg'\n",
            "b'/content/drive/MyDrive/Kaggle datasets/Cats and Dogs/Cats and Dogs/cats/cat_172.jpg'\n",
            "b'/content/drive/MyDrive/Kaggle datasets/Cats and Dogs/Cats and Dogs/cats/cat_177.jpg'\n",
            "b'/content/drive/MyDrive/Kaggle datasets/Cats and Dogs/Cats and Dogs/cats/cat_179.jpg'\n",
            "b'/content/drive/MyDrive/Kaggle datasets/Cats and Dogs/Cats and Dogs/cats/cat_180.jpg'\n",
            "b'/content/drive/MyDrive/Kaggle datasets/Cats and Dogs/Cats and Dogs/cats/cat_183.jpg'\n",
            "b'/content/drive/MyDrive/Kaggle datasets/Cats and Dogs/Cats and Dogs/cats/cat_184.jpg'\n",
            "b'/content/drive/MyDrive/Kaggle datasets/Cats and Dogs/Cats and Dogs/cats/cat_189.jpg'\n",
            "b'/content/drive/MyDrive/Kaggle datasets/Cats and Dogs/Cats and Dogs/cats/cat_191.jpg'\n",
            "b'/content/drive/MyDrive/Kaggle datasets/Cats and Dogs/Cats and Dogs/cats/cat_194.jpg'\n",
            "b'/content/drive/MyDrive/Kaggle datasets/Cats and Dogs/Cats and Dogs/cats/cat_195.jpg'\n",
            "b'/content/drive/MyDrive/Kaggle datasets/Cats and Dogs/Cats and Dogs/cats/cat_198.jpg'\n",
            "b'/content/drive/MyDrive/Kaggle datasets/Cats and Dogs/Cats and Dogs/cats/cat_2.jpg'\n",
            "b'/content/drive/MyDrive/Kaggle datasets/Cats and Dogs/Cats and Dogs/cats/cat_200.jpg'\n",
            "b'/content/drive/MyDrive/Kaggle datasets/Cats and Dogs/Cats and Dogs/cats/cat_201.jpg'\n",
            "b'/content/drive/MyDrive/Kaggle datasets/Cats and Dogs/Cats and Dogs/cats/cat_202.jpg'\n",
            "b'/content/drive/MyDrive/Kaggle datasets/Cats and Dogs/Cats and Dogs/cats/cat_207.jpg'\n",
            "b'/content/drive/MyDrive/Kaggle datasets/Cats and Dogs/Cats and Dogs/cats/cat_208.jpg'\n",
            "b'/content/drive/MyDrive/Kaggle datasets/Cats and Dogs/Cats and Dogs/cats/cat_209.jpg'\n",
            "b'/content/drive/MyDrive/Kaggle datasets/Cats and Dogs/Cats and Dogs/cats/cat_21.jpg'\n",
            "b'/content/drive/MyDrive/Kaggle datasets/Cats and Dogs/Cats and Dogs/cats/cat_211.jpg'\n",
            "b'/content/drive/MyDrive/Kaggle datasets/Cats and Dogs/Cats and Dogs/cats/cat_213.jpg'\n",
            "b'/content/drive/MyDrive/Kaggle datasets/Cats and Dogs/Cats and Dogs/cats/cat_214.jpg'\n",
            "b'/content/drive/MyDrive/Kaggle datasets/Cats and Dogs/Cats and Dogs/cats/cat_215.jpg'\n",
            "b'/content/drive/MyDrive/Kaggle datasets/Cats and Dogs/Cats and Dogs/cats/cat_217.jpg'\n",
            "b'/content/drive/MyDrive/Kaggle datasets/Cats and Dogs/Cats and Dogs/cats/cat_218.jpg'\n",
            "b'/content/drive/MyDrive/Kaggle datasets/Cats and Dogs/Cats and Dogs/cats/cat_219.jpg'\n",
            "b'/content/drive/MyDrive/Kaggle datasets/Cats and Dogs/Cats and Dogs/cats/cat_220.jpg'\n",
            "b'/content/drive/MyDrive/Kaggle datasets/Cats and Dogs/Cats and Dogs/cats/cat_221.jpg'\n",
            "b'/content/drive/MyDrive/Kaggle datasets/Cats and Dogs/Cats and Dogs/cats/cat_222.jpg'\n",
            "b'/content/drive/MyDrive/Kaggle datasets/Cats and Dogs/Cats and Dogs/cats/cat_224.jpg'\n",
            "b'/content/drive/MyDrive/Kaggle datasets/Cats and Dogs/Cats and Dogs/cats/cat_225.jpg'\n",
            "b'/content/drive/MyDrive/Kaggle datasets/Cats and Dogs/Cats and Dogs/cats/cat_227.jpg'\n",
            "b'/content/drive/MyDrive/Kaggle datasets/Cats and Dogs/Cats and Dogs/cats/cat_228.jpg'\n",
            "b'/content/drive/MyDrive/Kaggle datasets/Cats and Dogs/Cats and Dogs/cats/cat_229.jpg'\n",
            "b'/content/drive/MyDrive/Kaggle datasets/Cats and Dogs/Cats and Dogs/cats/cat_230.jpg'\n",
            "b'/content/drive/MyDrive/Kaggle datasets/Cats and Dogs/Cats and Dogs/cats/cat_232.jpg'\n",
            "b'/content/drive/MyDrive/Kaggle datasets/Cats and Dogs/Cats and Dogs/cats/cat_235.jpg'\n",
            "b'/content/drive/MyDrive/Kaggle datasets/Cats and Dogs/Cats and Dogs/cats/cat_238.jpg'\n",
            "b'/content/drive/MyDrive/Kaggle datasets/Cats and Dogs/Cats and Dogs/cats/cat_24.jpg'\n",
            "b'/content/drive/MyDrive/Kaggle datasets/Cats and Dogs/Cats and Dogs/cats/cat_240.jpg'\n",
            "b'/content/drive/MyDrive/Kaggle datasets/Cats and Dogs/Cats and Dogs/cats/cat_243.jpg'\n",
            "b'/content/drive/MyDrive/Kaggle datasets/Cats and Dogs/Cats and Dogs/cats/cat_246.jpg'\n",
            "b'/content/drive/MyDrive/Kaggle datasets/Cats and Dogs/Cats and Dogs/cats/cat_247.jpg'\n",
            "b'/content/drive/MyDrive/Kaggle datasets/Cats and Dogs/Cats and Dogs/cats/cat_248.jpg'\n",
            "b'/content/drive/MyDrive/Kaggle datasets/Cats and Dogs/Cats and Dogs/cats/cat_253.jpg'\n",
            "b'/content/drive/MyDrive/Kaggle datasets/Cats and Dogs/Cats and Dogs/cats/cat_257.jpg'\n",
            "b'/content/drive/MyDrive/Kaggle datasets/Cats and Dogs/Cats and Dogs/cats/cat_26.jpg'\n",
            "b'/content/drive/MyDrive/Kaggle datasets/Cats and Dogs/Cats and Dogs/cats/cat_260.jpg'\n",
            "b'/content/drive/MyDrive/Kaggle datasets/Cats and Dogs/Cats and Dogs/cats/cat_261.jpg'\n",
            "b'/content/drive/MyDrive/Kaggle datasets/Cats and Dogs/Cats and Dogs/cats/cat_263.jpg'\n",
            "b'/content/drive/MyDrive/Kaggle datasets/Cats and Dogs/Cats and Dogs/cats/cat_265.jpg'\n",
            "b'/content/drive/MyDrive/Kaggle datasets/Cats and Dogs/Cats and Dogs/cats/cat_269.jpg'\n",
            "b'/content/drive/MyDrive/Kaggle datasets/Cats and Dogs/Cats and Dogs/cats/cat_27.jpg'\n",
            "b'/content/drive/MyDrive/Kaggle datasets/Cats and Dogs/Cats and Dogs/cats/cat_270.jpg'\n",
            "b'/content/drive/MyDrive/Kaggle datasets/Cats and Dogs/Cats and Dogs/cats/cat_271.jpg'\n",
            "b'/content/drive/MyDrive/Kaggle datasets/Cats and Dogs/Cats and Dogs/cats/cat_273.jpg'\n",
            "b'/content/drive/MyDrive/Kaggle datasets/Cats and Dogs/Cats and Dogs/cats/cat_274.jpg'\n",
            "b'/content/drive/MyDrive/Kaggle datasets/Cats and Dogs/Cats and Dogs/cats/cat_275.jpg'\n",
            "b'/content/drive/MyDrive/Kaggle datasets/Cats and Dogs/Cats and Dogs/cats/cat_276.jpg'\n",
            "b'/content/drive/MyDrive/Kaggle datasets/Cats and Dogs/Cats and Dogs/cats/cat_280.jpg'\n",
            "b'/content/drive/MyDrive/Kaggle datasets/Cats and Dogs/Cats and Dogs/cats/cat_284.jpg'\n",
            "b'/content/drive/MyDrive/Kaggle datasets/Cats and Dogs/Cats and Dogs/cats/cat_285.jpg'\n",
            "b'/content/drive/MyDrive/Kaggle datasets/Cats and Dogs/Cats and Dogs/cats/cat_289.jpg'\n",
            "b'/content/drive/MyDrive/Kaggle datasets/Cats and Dogs/Cats and Dogs/cats/cat_292.jpg'\n",
            "b'/content/drive/MyDrive/Kaggle datasets/Cats and Dogs/Cats and Dogs/cats/cat_293.jpg'\n",
            "b'/content/drive/MyDrive/Kaggle datasets/Cats and Dogs/Cats and Dogs/cats/cat_297.jpg'\n",
            "b'/content/drive/MyDrive/Kaggle datasets/Cats and Dogs/Cats and Dogs/cats/cat_298.jpg'\n",
            "b'/content/drive/MyDrive/Kaggle datasets/Cats and Dogs/Cats and Dogs/cats/cat_3.jpg'\n",
            "b'/content/drive/MyDrive/Kaggle datasets/Cats and Dogs/Cats and Dogs/cats/cat_303.jpg'\n",
            "b'/content/drive/MyDrive/Kaggle datasets/Cats and Dogs/Cats and Dogs/cats/cat_304.jpg'\n",
            "b'/content/drive/MyDrive/Kaggle datasets/Cats and Dogs/Cats and Dogs/cats/cat_307.jpg'\n",
            "b'/content/drive/MyDrive/Kaggle datasets/Cats and Dogs/Cats and Dogs/cats/cat_310.jpg'\n",
            "b'/content/drive/MyDrive/Kaggle datasets/Cats and Dogs/Cats and Dogs/cats/cat_311.jpg'\n",
            "b'/content/drive/MyDrive/Kaggle datasets/Cats and Dogs/Cats and Dogs/cats/cat_316.jpg'\n",
            "b'/content/drive/MyDrive/Kaggle datasets/Cats and Dogs/Cats and Dogs/cats/cat_317.jpg'\n",
            "b'/content/drive/MyDrive/Kaggle datasets/Cats and Dogs/Cats and Dogs/cats/cat_318.jpg'\n",
            "b'/content/drive/MyDrive/Kaggle datasets/Cats and Dogs/Cats and Dogs/cats/cat_320.jpg'\n",
            "b'/content/drive/MyDrive/Kaggle datasets/Cats and Dogs/Cats and Dogs/cats/cat_321.jpg'\n",
            "b'/content/drive/MyDrive/Kaggle datasets/Cats and Dogs/Cats and Dogs/cats/cat_325.jpg'\n",
            "b'/content/drive/MyDrive/Kaggle datasets/Cats and Dogs/Cats and Dogs/cats/cat_327.jpg'\n",
            "b'/content/drive/MyDrive/Kaggle datasets/Cats and Dogs/Cats and Dogs/cats/cat_329.jpg'\n",
            "b'/content/drive/MyDrive/Kaggle datasets/Cats and Dogs/Cats and Dogs/cats/cat_33.jpg'\n",
            "b'/content/drive/MyDrive/Kaggle datasets/Cats and Dogs/Cats and Dogs/cats/cat_330.jpg'\n",
            "b'/content/drive/MyDrive/Kaggle datasets/Cats and Dogs/Cats and Dogs/cats/cat_331.jpg'\n",
            "b'/content/drive/MyDrive/Kaggle datasets/Cats and Dogs/Cats and Dogs/cats/cat_333.jpg'\n",
            "b'/content/drive/MyDrive/Kaggle datasets/Cats and Dogs/Cats and Dogs/cats/cat_336.jpg'\n",
            "b'/content/drive/MyDrive/Kaggle datasets/Cats and Dogs/Cats and Dogs/cats/cat_34.jpg'\n",
            "b'/content/drive/MyDrive/Kaggle datasets/Cats and Dogs/Cats and Dogs/cats/cat_343.jpg'\n",
            "b'/content/drive/MyDrive/Kaggle datasets/Cats and Dogs/Cats and Dogs/cats/cat_344.jpg'\n",
            "b'/content/drive/MyDrive/Kaggle datasets/Cats and Dogs/Cats and Dogs/cats/cat_345.jpg'\n",
            "b'/content/drive/MyDrive/Kaggle datasets/Cats and Dogs/Cats and Dogs/cats/cat_348.jpg'\n",
            "b'/content/drive/MyDrive/Kaggle datasets/Cats and Dogs/Cats and Dogs/cats/cat_35.jpg'\n",
            "b'/content/drive/MyDrive/Kaggle datasets/Cats and Dogs/Cats and Dogs/cats/cat_350.jpg'\n",
            "b'/content/drive/MyDrive/Kaggle datasets/Cats and Dogs/Cats and Dogs/cats/cat_351.jpg'\n",
            "b'/content/drive/MyDrive/Kaggle datasets/Cats and Dogs/Cats and Dogs/cats/cat_352.jpg'\n",
            "b'/content/drive/MyDrive/Kaggle datasets/Cats and Dogs/Cats and Dogs/cats/cat_359.jpg'\n",
            "b'/content/drive/MyDrive/Kaggle datasets/Cats and Dogs/Cats and Dogs/cats/cat_361.jpg'\n",
            "b'/content/drive/MyDrive/Kaggle datasets/Cats and Dogs/Cats and Dogs/cats/cat_362.jpg'\n",
            "b'/content/drive/MyDrive/Kaggle datasets/Cats and Dogs/Cats and Dogs/cats/cat_363.jpg'\n",
            "b'/content/drive/MyDrive/Kaggle datasets/Cats and Dogs/Cats and Dogs/cats/cat_367.jpg'\n",
            "b'/content/drive/MyDrive/Kaggle datasets/Cats and Dogs/Cats and Dogs/cats/cat_369.jpg'\n",
            "b'/content/drive/MyDrive/Kaggle datasets/Cats and Dogs/Cats and Dogs/cats/cat_37.jpg'\n",
            "b'/content/drive/MyDrive/Kaggle datasets/Cats and Dogs/Cats and Dogs/cats/cat_370.jpg'\n",
            "b'/content/drive/MyDrive/Kaggle datasets/Cats and Dogs/Cats and Dogs/cats/cat_372.jpg'\n",
            "b'/content/drive/MyDrive/Kaggle datasets/Cats and Dogs/Cats and Dogs/cats/cat_373.jpg'\n",
            "b'/content/drive/MyDrive/Kaggle datasets/Cats and Dogs/Cats and Dogs/cats/cat_376.jpg'\n",
            "b'/content/drive/MyDrive/Kaggle datasets/Cats and Dogs/Cats and Dogs/cats/cat_377.jpg'\n",
            "b'/content/drive/MyDrive/Kaggle datasets/Cats and Dogs/Cats and Dogs/cats/cat_38.jpg'\n",
            "b'/content/drive/MyDrive/Kaggle datasets/Cats and Dogs/Cats and Dogs/cats/cat_380.jpg'\n",
            "b'/content/drive/MyDrive/Kaggle datasets/Cats and Dogs/Cats and Dogs/cats/cat_381.jpg'\n",
            "b'/content/drive/MyDrive/Kaggle datasets/Cats and Dogs/Cats and Dogs/cats/cat_385.jpg'\n",
            "b'/content/drive/MyDrive/Kaggle datasets/Cats and Dogs/Cats and Dogs/cats/cat_386.jpg'\n",
            "b'/content/drive/MyDrive/Kaggle datasets/Cats and Dogs/Cats and Dogs/cats/cat_387.jpg'\n",
            "b'/content/drive/MyDrive/Kaggle datasets/Cats and Dogs/Cats and Dogs/cats/cat_388.jpg'\n",
            "b'/content/drive/MyDrive/Kaggle datasets/Cats and Dogs/Cats and Dogs/cats/cat_39.jpg'\n",
            "b'/content/drive/MyDrive/Kaggle datasets/Cats and Dogs/Cats and Dogs/cats/cat_391.jpg'\n",
            "b'/content/drive/MyDrive/Kaggle datasets/Cats and Dogs/Cats and Dogs/cats/cat_393.jpg'\n",
            "b'/content/drive/MyDrive/Kaggle datasets/Cats and Dogs/Cats and Dogs/cats/cat_396.jpg'\n",
            "b'/content/drive/MyDrive/Kaggle datasets/Cats and Dogs/Cats and Dogs/cats/cat_397.jpg'\n",
            "b'/content/drive/MyDrive/Kaggle datasets/Cats and Dogs/Cats and Dogs/cats/cat_399.jpg'\n",
            "b'/content/drive/MyDrive/Kaggle datasets/Cats and Dogs/Cats and Dogs/cats/cat_4.jpg'\n",
            "b'/content/drive/MyDrive/Kaggle datasets/Cats and Dogs/Cats and Dogs/cats/cat_400.jpg'\n",
            "b'/content/drive/MyDrive/Kaggle datasets/Cats and Dogs/Cats and Dogs/cats/cat_402.jpg'\n",
            "b'/content/drive/MyDrive/Kaggle datasets/Cats and Dogs/Cats and Dogs/cats/cat_403.jpg'\n",
            "b'/content/drive/MyDrive/Kaggle datasets/Cats and Dogs/Cats and Dogs/cats/cat_405.jpg'\n",
            "b'/content/drive/MyDrive/Kaggle datasets/Cats and Dogs/Cats and Dogs/cats/cat_407.jpg'\n",
            "b'/content/drive/MyDrive/Kaggle datasets/Cats and Dogs/Cats and Dogs/cats/cat_408.jpg'\n",
            "b'/content/drive/MyDrive/Kaggle datasets/Cats and Dogs/Cats and Dogs/cats/cat_413.jpg'\n",
            "b'/content/drive/MyDrive/Kaggle datasets/Cats and Dogs/Cats and Dogs/cats/cat_414.jpg'\n",
            "b'/content/drive/MyDrive/Kaggle datasets/Cats and Dogs/Cats and Dogs/cats/cat_416.jpg'\n",
            "b'/content/drive/MyDrive/Kaggle datasets/Cats and Dogs/Cats and Dogs/cats/cat_419.jpg'\n",
            "b'/content/drive/MyDrive/Kaggle datasets/Cats and Dogs/Cats and Dogs/cats/cat_42.jpg'\n",
            "b'/content/drive/MyDrive/Kaggle datasets/Cats and Dogs/Cats and Dogs/cats/cat_420.jpg'\n",
            "b'/content/drive/MyDrive/Kaggle datasets/Cats and Dogs/Cats and Dogs/cats/cat_423.jpg'\n",
            "b'/content/drive/MyDrive/Kaggle datasets/Cats and Dogs/Cats and Dogs/cats/cat_426.jpg'\n",
            "b'/content/drive/MyDrive/Kaggle datasets/Cats and Dogs/Cats and Dogs/cats/cat_427.jpg'\n",
            "b'/content/drive/MyDrive/Kaggle datasets/Cats and Dogs/Cats and Dogs/cats/cat_428.jpg'\n",
            "b'/content/drive/MyDrive/Kaggle datasets/Cats and Dogs/Cats and Dogs/cats/cat_429.jpg'\n",
            "b'/content/drive/MyDrive/Kaggle datasets/Cats and Dogs/Cats and Dogs/cats/cat_43.jpg'\n",
            "b'/content/drive/MyDrive/Kaggle datasets/Cats and Dogs/Cats and Dogs/cats/cat_434.jpg'\n",
            "b'/content/drive/MyDrive/Kaggle datasets/Cats and Dogs/Cats and Dogs/cats/cat_435.jpg'\n",
            "b'/content/drive/MyDrive/Kaggle datasets/Cats and Dogs/Cats and Dogs/cats/cat_438.jpg'\n",
            "b'/content/drive/MyDrive/Kaggle datasets/Cats and Dogs/Cats and Dogs/cats/cat_440.jpg'\n",
            "b'/content/drive/MyDrive/Kaggle datasets/Cats and Dogs/Cats and Dogs/cats/cat_443.jpg'\n",
            "b'/content/drive/MyDrive/Kaggle datasets/Cats and Dogs/Cats and Dogs/cats/cat_445.jpg'\n",
            "b'/content/drive/MyDrive/Kaggle datasets/Cats and Dogs/Cats and Dogs/cats/cat_450.jpg'\n",
            "b'/content/drive/MyDrive/Kaggle datasets/Cats and Dogs/Cats and Dogs/cats/cat_452.jpg'\n",
            "b'/content/drive/MyDrive/Kaggle datasets/Cats and Dogs/Cats and Dogs/cats/cat_453.jpg'\n",
            "b'/content/drive/MyDrive/Kaggle datasets/Cats and Dogs/Cats and Dogs/cats/cat_455.jpg'\n",
            "b'/content/drive/MyDrive/Kaggle datasets/Cats and Dogs/Cats and Dogs/cats/cat_456.jpg'\n",
            "b'/content/drive/MyDrive/Kaggle datasets/Cats and Dogs/Cats and Dogs/cats/cat_46.jpg'\n",
            "b'/content/drive/MyDrive/Kaggle datasets/Cats and Dogs/Cats and Dogs/cats/cat_461.jpg'\n",
            "b'/content/drive/MyDrive/Kaggle datasets/Cats and Dogs/Cats and Dogs/cats/cat_463.jpg'\n",
            "b'/content/drive/MyDrive/Kaggle datasets/Cats and Dogs/Cats and Dogs/cats/cat_465.jpg'\n",
            "b'/content/drive/MyDrive/Kaggle datasets/Cats and Dogs/Cats and Dogs/cats/cat_466.jpg'\n",
            "b'/content/drive/MyDrive/Kaggle datasets/Cats and Dogs/Cats and Dogs/cats/cat_467.jpg'\n",
            "b'/content/drive/MyDrive/Kaggle datasets/Cats and Dogs/Cats and Dogs/cats/cat_469.jpg'\n",
            "b'/content/drive/MyDrive/Kaggle datasets/Cats and Dogs/Cats and Dogs/cats/cat_474.jpg'\n",
            "b'/content/drive/MyDrive/Kaggle datasets/Cats and Dogs/Cats and Dogs/cats/cat_482.jpg'\n",
            "b'/content/drive/MyDrive/Kaggle datasets/Cats and Dogs/Cats and Dogs/cats/cat_483.jpg'\n",
            "b'/content/drive/MyDrive/Kaggle datasets/Cats and Dogs/Cats and Dogs/cats/cat_485.jpg'\n",
            "b'/content/drive/MyDrive/Kaggle datasets/Cats and Dogs/Cats and Dogs/cats/cat_487.jpg'\n",
            "b'/content/drive/MyDrive/Kaggle datasets/Cats and Dogs/Cats and Dogs/cats/cat_489.jpg'\n",
            "b'/content/drive/MyDrive/Kaggle datasets/Cats and Dogs/Cats and Dogs/cats/cat_49.jpg'\n",
            "b'/content/drive/MyDrive/Kaggle datasets/Cats and Dogs/Cats and Dogs/cats/cat_490.jpg'\n",
            "b'/content/drive/MyDrive/Kaggle datasets/Cats and Dogs/Cats and Dogs/cats/cat_492.jpg'\n",
            "b'/content/drive/MyDrive/Kaggle datasets/Cats and Dogs/Cats and Dogs/cats/cat_493.jpg'\n",
            "b'/content/drive/MyDrive/Kaggle datasets/Cats and Dogs/Cats and Dogs/cats/cat_494.jpg'\n",
            "b'/content/drive/MyDrive/Kaggle datasets/Cats and Dogs/Cats and Dogs/cats/cat_495.jpg'\n",
            "b'/content/drive/MyDrive/Kaggle datasets/Cats and Dogs/Cats and Dogs/cats/cat_497.jpg'\n",
            "b'/content/drive/MyDrive/Kaggle datasets/Cats and Dogs/Cats and Dogs/cats/cat_498.jpg'\n",
            "b'/content/drive/MyDrive/Kaggle datasets/Cats and Dogs/Cats and Dogs/cats/cat_499.jpg'\n",
            "b'/content/drive/MyDrive/Kaggle datasets/Cats and Dogs/Cats and Dogs/cats/cat_50.jpg'\n",
            "b'/content/drive/MyDrive/Kaggle datasets/Cats and Dogs/Cats and Dogs/cats/cat_500.jpg'\n",
            "b'/content/drive/MyDrive/Kaggle datasets/Cats and Dogs/Cats and Dogs/cats/cat_505.jpg'\n",
            "b'/content/drive/MyDrive/Kaggle datasets/Cats and Dogs/Cats and Dogs/cats/cat_506.jpg'\n",
            "b'/content/drive/MyDrive/Kaggle datasets/Cats and Dogs/Cats and Dogs/cats/cat_508.jpg'\n",
            "b'/content/drive/MyDrive/Kaggle datasets/Cats and Dogs/Cats and Dogs/cats/cat_510.jpg'\n",
            "b'/content/drive/MyDrive/Kaggle datasets/Cats and Dogs/Cats and Dogs/cats/cat_511.jpg'\n",
            "b'/content/drive/MyDrive/Kaggle datasets/Cats and Dogs/Cats and Dogs/cats/cat_518.jpg'\n",
            "b'/content/drive/MyDrive/Kaggle datasets/Cats and Dogs/Cats and Dogs/cats/cat_519.jpg'\n",
            "b'/content/drive/MyDrive/Kaggle datasets/Cats and Dogs/Cats and Dogs/cats/cat_52.jpg'\n",
            "b'/content/drive/MyDrive/Kaggle datasets/Cats and Dogs/Cats and Dogs/cats/cat_524.jpg'\n",
            "b'/content/drive/MyDrive/Kaggle datasets/Cats and Dogs/Cats and Dogs/cats/cat_526.jpg'\n",
            "b'/content/drive/MyDrive/Kaggle datasets/Cats and Dogs/Cats and Dogs/cats/cat_53.jpg'\n",
            "b'/content/drive/MyDrive/Kaggle datasets/Cats and Dogs/Cats and Dogs/cats/cat_531.jpg'\n",
            "b'/content/drive/MyDrive/Kaggle datasets/Cats and Dogs/Cats and Dogs/cats/cat_532.jpg'\n",
            "b'/content/drive/MyDrive/Kaggle datasets/Cats and Dogs/Cats and Dogs/cats/cat_533.jpg'\n",
            "b'/content/drive/MyDrive/Kaggle datasets/Cats and Dogs/Cats and Dogs/cats/cat_535.jpg'\n",
            "b'/content/drive/MyDrive/Kaggle datasets/Cats and Dogs/Cats and Dogs/cats/cat_536.jpg'\n",
            "b'/content/drive/MyDrive/Kaggle datasets/Cats and Dogs/Cats and Dogs/cats/cat_54.jpg'\n",
            "b'/content/drive/MyDrive/Kaggle datasets/Cats and Dogs/Cats and Dogs/cats/cat_540.jpg'\n",
            "b'/content/drive/MyDrive/Kaggle datasets/Cats and Dogs/Cats and Dogs/cats/cat_543.jpg'\n",
            "b'/content/drive/MyDrive/Kaggle datasets/Cats and Dogs/Cats and Dogs/cats/cat_544.jpg'\n",
            "b'/content/drive/MyDrive/Kaggle datasets/Cats and Dogs/Cats and Dogs/cats/cat_546.jpg'\n",
            "b'/content/drive/MyDrive/Kaggle datasets/Cats and Dogs/Cats and Dogs/cats/cat_547.jpg'\n",
            "b'/content/drive/MyDrive/Kaggle datasets/Cats and Dogs/Cats and Dogs/cats/cat_548.jpg'\n",
            "b'/content/drive/MyDrive/Kaggle datasets/Cats and Dogs/Cats and Dogs/cats/cat_549.jpg'\n",
            "b'/content/drive/MyDrive/Kaggle datasets/Cats and Dogs/Cats and Dogs/cats/cat_553.jpg'\n",
            "b'/content/drive/MyDrive/Kaggle datasets/Cats and Dogs/Cats and Dogs/cats/cat_556.jpg'\n",
            "b'/content/drive/MyDrive/Kaggle datasets/Cats and Dogs/Cats and Dogs/cats/cat_557.jpg'\n",
            "b'/content/drive/MyDrive/Kaggle datasets/Cats and Dogs/Cats and Dogs/cats/cat_558.jpg'\n",
            "b'/content/drive/MyDrive/Kaggle datasets/Cats and Dogs/Cats and Dogs/cats/cat_559.jpg'\n",
            "b'/content/drive/MyDrive/Kaggle datasets/Cats and Dogs/Cats and Dogs/cats/cat_560.jpg'\n",
            "b'/content/drive/MyDrive/Kaggle datasets/Cats and Dogs/Cats and Dogs/cats/cat_565.jpg'\n",
            "b'/content/drive/MyDrive/Kaggle datasets/Cats and Dogs/Cats and Dogs/cats/cat_567.jpg'\n",
            "b'/content/drive/MyDrive/Kaggle datasets/Cats and Dogs/Cats and Dogs/cats/cat_569.jpg'\n",
            "b'/content/drive/MyDrive/Kaggle datasets/Cats and Dogs/Cats and Dogs/cats/cat_570.jpg'\n",
            "b'/content/drive/MyDrive/Kaggle datasets/Cats and Dogs/Cats and Dogs/cats/cat_573.jpg'\n",
            "b'/content/drive/MyDrive/Kaggle datasets/Cats and Dogs/Cats and Dogs/cats/cat_577.jpg'\n",
            "b'/content/drive/MyDrive/Kaggle datasets/Cats and Dogs/Cats and Dogs/cats/cat_58.jpg'\n",
            "b'/content/drive/MyDrive/Kaggle datasets/Cats and Dogs/Cats and Dogs/cats/cat_580.jpg'\n",
            "b'/content/drive/MyDrive/Kaggle datasets/Cats and Dogs/Cats and Dogs/cats/cat_581.jpg'\n",
            "b'/content/drive/MyDrive/Kaggle datasets/Cats and Dogs/Cats and Dogs/cats/cat_589.jpg'\n",
            "b'/content/drive/MyDrive/Kaggle datasets/Cats and Dogs/Cats and Dogs/cats/cat_59.jpg'\n",
            "b'/content/drive/MyDrive/Kaggle datasets/Cats and Dogs/Cats and Dogs/cats/cat_590.jpg'\n",
            "b'/content/drive/MyDrive/Kaggle datasets/Cats and Dogs/Cats and Dogs/cats/cat_591.jpg'\n",
            "b'/content/drive/MyDrive/Kaggle datasets/Cats and Dogs/Cats and Dogs/cats/cat_592.jpg'\n",
            "b'/content/drive/MyDrive/Kaggle datasets/Cats and Dogs/Cats and Dogs/cats/cat_6.jpg'\n",
            "b'/content/drive/MyDrive/Kaggle datasets/Cats and Dogs/Cats and Dogs/cats/cat_601.jpg'\n",
            "b'/content/drive/MyDrive/Kaggle datasets/Cats and Dogs/Cats and Dogs/cats/cat_602.jpg'\n",
            "b'/content/drive/MyDrive/Kaggle datasets/Cats and Dogs/Cats and Dogs/cats/cat_604.jpg'\n",
            "b'/content/drive/MyDrive/Kaggle datasets/Cats and Dogs/Cats and Dogs/cats/cat_605.jpg'\n",
            "b'/content/drive/MyDrive/Kaggle datasets/Cats and Dogs/Cats and Dogs/cats/cat_61.jpg'\n",
            "b'/content/drive/MyDrive/Kaggle datasets/Cats and Dogs/Cats and Dogs/cats/cat_64.jpg'\n",
            "b'/content/drive/MyDrive/Kaggle datasets/Cats and Dogs/Cats and Dogs/cats/cat_66.jpg'\n",
            "b'/content/drive/MyDrive/Kaggle datasets/Cats and Dogs/Cats and Dogs/cats/cat_67.jpg'\n",
            "b'/content/drive/MyDrive/Kaggle datasets/Cats and Dogs/Cats and Dogs/cats/cat_69.jpg'\n",
            "b'/content/drive/MyDrive/Kaggle datasets/Cats and Dogs/Cats and Dogs/cats/cat_70.jpg'\n",
            "b'/content/drive/MyDrive/Kaggle datasets/Cats and Dogs/Cats and Dogs/cats/cat_74.jpg'\n",
            "b'/content/drive/MyDrive/Kaggle datasets/Cats and Dogs/Cats and Dogs/cats/cat_75.jpg'\n",
            "b'/content/drive/MyDrive/Kaggle datasets/Cats and Dogs/Cats and Dogs/cats/cat_77.jpg'\n",
            "b'/content/drive/MyDrive/Kaggle datasets/Cats and Dogs/Cats and Dogs/cats/cat_78.jpg'\n",
            "b'/content/drive/MyDrive/Kaggle datasets/Cats and Dogs/Cats and Dogs/cats/cat_80.jpg'\n",
            "b'/content/drive/MyDrive/Kaggle datasets/Cats and Dogs/Cats and Dogs/cats/cat_84.jpg'\n",
            "b'/content/drive/MyDrive/Kaggle datasets/Cats and Dogs/Cats and Dogs/cats/cat_87.jpg'\n",
            "b'/content/drive/MyDrive/Kaggle datasets/Cats and Dogs/Cats and Dogs/cats/cat_9.jpg'\n",
            "b'/content/drive/MyDrive/Kaggle datasets/Cats and Dogs/Cats and Dogs/cats/cat_93.jpg'\n",
            "b'/content/drive/MyDrive/Kaggle datasets/Cats and Dogs/Cats and Dogs/cats/cat_95.jpg'\n",
            "b'/content/drive/MyDrive/Kaggle datasets/Cats and Dogs/Cats and Dogs/cats/cat_97.jpg'\n",
            "b'/content/drive/MyDrive/Kaggle datasets/Cats and Dogs/Cats and Dogs/cats/cat_98.jpg'\n",
            "b'/content/drive/MyDrive/Kaggle datasets/Cats and Dogs/Cats and Dogs/dogs/dog_0.jpg'\n",
            "b'/content/drive/MyDrive/Kaggle datasets/Cats and Dogs/Cats and Dogs/dogs/dog_10.jpg'\n",
            "b'/content/drive/MyDrive/Kaggle datasets/Cats and Dogs/Cats and Dogs/dogs/dog_100.jpg'\n",
            "b'/content/drive/MyDrive/Kaggle datasets/Cats and Dogs/Cats and Dogs/dogs/dog_102.jpg'\n",
            "b'/content/drive/MyDrive/Kaggle datasets/Cats and Dogs/Cats and Dogs/dogs/dog_103.jpg'\n",
            "b'/content/drive/MyDrive/Kaggle datasets/Cats and Dogs/Cats and Dogs/dogs/dog_106.jpg'\n",
            "b'/content/drive/MyDrive/Kaggle datasets/Cats and Dogs/Cats and Dogs/dogs/dog_109.jpg'\n",
            "b'/content/drive/MyDrive/Kaggle datasets/Cats and Dogs/Cats and Dogs/dogs/dog_11.jpg'\n",
            "b'/content/drive/MyDrive/Kaggle datasets/Cats and Dogs/Cats and Dogs/dogs/dog_110.jpg'\n",
            "b'/content/drive/MyDrive/Kaggle datasets/Cats and Dogs/Cats and Dogs/dogs/dog_113.jpg'\n",
            "b'/content/drive/MyDrive/Kaggle datasets/Cats and Dogs/Cats and Dogs/dogs/dog_116.jpg'\n",
            "b'/content/drive/MyDrive/Kaggle datasets/Cats and Dogs/Cats and Dogs/dogs/dog_120.jpg'\n",
            "b'/content/drive/MyDrive/Kaggle datasets/Cats and Dogs/Cats and Dogs/dogs/dog_122.jpg'\n",
            "b'/content/drive/MyDrive/Kaggle datasets/Cats and Dogs/Cats and Dogs/dogs/dog_125.jpg'\n",
            "b'/content/drive/MyDrive/Kaggle datasets/Cats and Dogs/Cats and Dogs/dogs/dog_128.jpg'\n",
            "b'/content/drive/MyDrive/Kaggle datasets/Cats and Dogs/Cats and Dogs/dogs/dog_129.jpg'\n",
            "b'/content/drive/MyDrive/Kaggle datasets/Cats and Dogs/Cats and Dogs/dogs/dog_13.jpg'\n",
            "b'/content/drive/MyDrive/Kaggle datasets/Cats and Dogs/Cats and Dogs/dogs/dog_133.jpg'\n",
            "b'/content/drive/MyDrive/Kaggle datasets/Cats and Dogs/Cats and Dogs/dogs/dog_136.jpg'\n",
            "b'/content/drive/MyDrive/Kaggle datasets/Cats and Dogs/Cats and Dogs/dogs/dog_138.jpg'\n",
            "b'/content/drive/MyDrive/Kaggle datasets/Cats and Dogs/Cats and Dogs/dogs/dog_139.jpg'\n",
            "b'/content/drive/MyDrive/Kaggle datasets/Cats and Dogs/Cats and Dogs/dogs/dog_140.jpg'\n",
            "b'/content/drive/MyDrive/Kaggle datasets/Cats and Dogs/Cats and Dogs/dogs/dog_144.jpg'\n",
            "b'/content/drive/MyDrive/Kaggle datasets/Cats and Dogs/Cats and Dogs/dogs/dog_145.jpg'\n",
            "b'/content/drive/MyDrive/Kaggle datasets/Cats and Dogs/Cats and Dogs/dogs/dog_15.jpg'\n",
            "b'/content/drive/MyDrive/Kaggle datasets/Cats and Dogs/Cats and Dogs/dogs/dog_151.jpg'\n",
            "b'/content/drive/MyDrive/Kaggle datasets/Cats and Dogs/Cats and Dogs/dogs/dog_152.jpg'\n",
            "b'/content/drive/MyDrive/Kaggle datasets/Cats and Dogs/Cats and Dogs/dogs/dog_154.jpg'\n",
            "b'/content/drive/MyDrive/Kaggle datasets/Cats and Dogs/Cats and Dogs/dogs/dog_156.jpg'\n",
            "b'/content/drive/MyDrive/Kaggle datasets/Cats and Dogs/Cats and Dogs/dogs/dog_162.jpg'\n",
            "b'/content/drive/MyDrive/Kaggle datasets/Cats and Dogs/Cats and Dogs/dogs/dog_164.jpg'\n",
            "b'/content/drive/MyDrive/Kaggle datasets/Cats and Dogs/Cats and Dogs/dogs/dog_165.jpg'\n",
            "b'/content/drive/MyDrive/Kaggle datasets/Cats and Dogs/Cats and Dogs/dogs/dog_167.jpg'\n",
            "b'/content/drive/MyDrive/Kaggle datasets/Cats and Dogs/Cats and Dogs/dogs/dog_171.jpg'\n",
            "b'/content/drive/MyDrive/Kaggle datasets/Cats and Dogs/Cats and Dogs/dogs/dog_175.jpg'\n",
            "b'/content/drive/MyDrive/Kaggle datasets/Cats and Dogs/Cats and Dogs/dogs/dog_178.jpg'\n",
            "b'/content/drive/MyDrive/Kaggle datasets/Cats and Dogs/Cats and Dogs/dogs/dog_182.jpg'\n",
            "b'/content/drive/MyDrive/Kaggle datasets/Cats and Dogs/Cats and Dogs/dogs/dog_186.jpg'\n",
            "b'/content/drive/MyDrive/Kaggle datasets/Cats and Dogs/Cats and Dogs/dogs/dog_188.jpg'\n",
            "b'/content/drive/MyDrive/Kaggle datasets/Cats and Dogs/Cats and Dogs/dogs/dog_192.jpg'\n",
            "b'/content/drive/MyDrive/Kaggle datasets/Cats and Dogs/Cats and Dogs/dogs/dog_193.jpg'\n",
            "b'/content/drive/MyDrive/Kaggle datasets/Cats and Dogs/Cats and Dogs/dogs/dog_195.jpg'\n",
            "b'/content/drive/MyDrive/Kaggle datasets/Cats and Dogs/Cats and Dogs/dogs/dog_199.jpg'\n",
            "b'/content/drive/MyDrive/Kaggle datasets/Cats and Dogs/Cats and Dogs/dogs/dog_200.jpg'\n",
            "b'/content/drive/MyDrive/Kaggle datasets/Cats and Dogs/Cats and Dogs/dogs/dog_202.jpg'\n",
            "b'/content/drive/MyDrive/Kaggle datasets/Cats and Dogs/Cats and Dogs/dogs/dog_203.jpg'\n",
            "b'/content/drive/MyDrive/Kaggle datasets/Cats and Dogs/Cats and Dogs/dogs/dog_204.jpg'\n",
            "b'/content/drive/MyDrive/Kaggle datasets/Cats and Dogs/Cats and Dogs/dogs/dog_205.jpg'\n",
            "b'/content/drive/MyDrive/Kaggle datasets/Cats and Dogs/Cats and Dogs/dogs/dog_206.jpg'\n",
            "b'/content/drive/MyDrive/Kaggle datasets/Cats and Dogs/Cats and Dogs/dogs/dog_207.jpg'\n",
            "b'/content/drive/MyDrive/Kaggle datasets/Cats and Dogs/Cats and Dogs/dogs/dog_208.jpg'\n",
            "b'/content/drive/MyDrive/Kaggle datasets/Cats and Dogs/Cats and Dogs/dogs/dog_209.jpg'\n",
            "b'/content/drive/MyDrive/Kaggle datasets/Cats and Dogs/Cats and Dogs/dogs/dog_21.jpg'\n",
            "b'/content/drive/MyDrive/Kaggle datasets/Cats and Dogs/Cats and Dogs/dogs/dog_212.jpg'\n",
            "b'/content/drive/MyDrive/Kaggle datasets/Cats and Dogs/Cats and Dogs/dogs/dog_214.jpg'\n",
            "b'/content/drive/MyDrive/Kaggle datasets/Cats and Dogs/Cats and Dogs/dogs/dog_216.jpg'\n",
            "b'/content/drive/MyDrive/Kaggle datasets/Cats and Dogs/Cats and Dogs/dogs/dog_217.jpg'\n",
            "b'/content/drive/MyDrive/Kaggle datasets/Cats and Dogs/Cats and Dogs/dogs/dog_218.jpg'\n",
            "b'/content/drive/MyDrive/Kaggle datasets/Cats and Dogs/Cats and Dogs/dogs/dog_22.jpg'\n",
            "b'/content/drive/MyDrive/Kaggle datasets/Cats and Dogs/Cats and Dogs/dogs/dog_220.jpg'\n",
            "b'/content/drive/MyDrive/Kaggle datasets/Cats and Dogs/Cats and Dogs/dogs/dog_221.jpg'\n",
            "b'/content/drive/MyDrive/Kaggle datasets/Cats and Dogs/Cats and Dogs/dogs/dog_224.jpg'\n",
            "b'/content/drive/MyDrive/Kaggle datasets/Cats and Dogs/Cats and Dogs/dogs/dog_226.jpg'\n",
            "b'/content/drive/MyDrive/Kaggle datasets/Cats and Dogs/Cats and Dogs/dogs/dog_23.jpg'\n",
            "b'/content/drive/MyDrive/Kaggle datasets/Cats and Dogs/Cats and Dogs/dogs/dog_230.jpg'\n",
            "b'/content/drive/MyDrive/Kaggle datasets/Cats and Dogs/Cats and Dogs/dogs/dog_231.jpg'\n",
            "b'/content/drive/MyDrive/Kaggle datasets/Cats and Dogs/Cats and Dogs/dogs/dog_232.jpg'\n",
            "b'/content/drive/MyDrive/Kaggle datasets/Cats and Dogs/Cats and Dogs/dogs/dog_234.jpg'\n",
            "b'/content/drive/MyDrive/Kaggle datasets/Cats and Dogs/Cats and Dogs/dogs/dog_238.jpg'\n",
            "b'/content/drive/MyDrive/Kaggle datasets/Cats and Dogs/Cats and Dogs/dogs/dog_239.jpg'\n",
            "b'/content/drive/MyDrive/Kaggle datasets/Cats and Dogs/Cats and Dogs/dogs/dog_241.jpg'\n",
            "b'/content/drive/MyDrive/Kaggle datasets/Cats and Dogs/Cats and Dogs/dogs/dog_243.jpg'\n",
            "b'/content/drive/MyDrive/Kaggle datasets/Cats and Dogs/Cats and Dogs/dogs/dog_247.jpg'\n",
            "b'/content/drive/MyDrive/Kaggle datasets/Cats and Dogs/Cats and Dogs/dogs/dog_249.jpg'\n",
            "b'/content/drive/MyDrive/Kaggle datasets/Cats and Dogs/Cats and Dogs/dogs/dog_251.jpg'\n",
            "b'/content/drive/MyDrive/Kaggle datasets/Cats and Dogs/Cats and Dogs/dogs/dog_253.jpg'\n",
            "b'/content/drive/MyDrive/Kaggle datasets/Cats and Dogs/Cats and Dogs/dogs/dog_256.jpg'\n",
            "b'/content/drive/MyDrive/Kaggle datasets/Cats and Dogs/Cats and Dogs/dogs/dog_259.jpg'\n",
            "b'/content/drive/MyDrive/Kaggle datasets/Cats and Dogs/Cats and Dogs/dogs/dog_26.jpg'\n",
            "b'/content/drive/MyDrive/Kaggle datasets/Cats and Dogs/Cats and Dogs/dogs/dog_260.jpg'\n",
            "b'/content/drive/MyDrive/Kaggle datasets/Cats and Dogs/Cats and Dogs/dogs/dog_261.jpg'\n",
            "b'/content/drive/MyDrive/Kaggle datasets/Cats and Dogs/Cats and Dogs/dogs/dog_262.jpg'\n",
            "b'/content/drive/MyDrive/Kaggle datasets/Cats and Dogs/Cats and Dogs/dogs/dog_266.jpg'\n",
            "b'/content/drive/MyDrive/Kaggle datasets/Cats and Dogs/Cats and Dogs/dogs/dog_267.jpg'\n",
            "b'/content/drive/MyDrive/Kaggle datasets/Cats and Dogs/Cats and Dogs/dogs/dog_268.jpg'\n",
            "b'/content/drive/MyDrive/Kaggle datasets/Cats and Dogs/Cats and Dogs/dogs/dog_269.jpg'\n",
            "b'/content/drive/MyDrive/Kaggle datasets/Cats and Dogs/Cats and Dogs/dogs/dog_270.jpg'\n",
            "b'/content/drive/MyDrive/Kaggle datasets/Cats and Dogs/Cats and Dogs/dogs/dog_272.jpg'\n",
            "b'/content/drive/MyDrive/Kaggle datasets/Cats and Dogs/Cats and Dogs/dogs/dog_273.jpg'\n",
            "b'/content/drive/MyDrive/Kaggle datasets/Cats and Dogs/Cats and Dogs/dogs/dog_277.jpg'\n",
            "b'/content/drive/MyDrive/Kaggle datasets/Cats and Dogs/Cats and Dogs/dogs/dog_281.jpg'\n",
            "b'/content/drive/MyDrive/Kaggle datasets/Cats and Dogs/Cats and Dogs/dogs/dog_286.jpg'\n",
            "b'/content/drive/MyDrive/Kaggle datasets/Cats and Dogs/Cats and Dogs/dogs/dog_287.jpg'\n",
            "b'/content/drive/MyDrive/Kaggle datasets/Cats and Dogs/Cats and Dogs/dogs/dog_29.jpg'\n",
            "b'/content/drive/MyDrive/Kaggle datasets/Cats and Dogs/Cats and Dogs/dogs/dog_290.jpg'\n",
            "b'/content/drive/MyDrive/Kaggle datasets/Cats and Dogs/Cats and Dogs/dogs/dog_291.jpg'\n",
            "b'/content/drive/MyDrive/Kaggle datasets/Cats and Dogs/Cats and Dogs/dogs/dog_292.jpg'\n",
            "b'/content/drive/MyDrive/Kaggle datasets/Cats and Dogs/Cats and Dogs/dogs/dog_293.jpg'\n",
            "b'/content/drive/MyDrive/Kaggle datasets/Cats and Dogs/Cats and Dogs/dogs/dog_294.jpg'\n",
            "b'/content/drive/MyDrive/Kaggle datasets/Cats and Dogs/Cats and Dogs/dogs/dog_295.jpg'\n",
            "b'/content/drive/MyDrive/Kaggle datasets/Cats and Dogs/Cats and Dogs/dogs/dog_296.jpg'\n",
            "b'/content/drive/MyDrive/Kaggle datasets/Cats and Dogs/Cats and Dogs/dogs/dog_298.jpg'\n",
            "b'/content/drive/MyDrive/Kaggle datasets/Cats and Dogs/Cats and Dogs/dogs/dog_299.jpg'\n",
            "b'/content/drive/MyDrive/Kaggle datasets/Cats and Dogs/Cats and Dogs/dogs/dog_3.jpg'\n",
            "b'/content/drive/MyDrive/Kaggle datasets/Cats and Dogs/Cats and Dogs/dogs/dog_30.jpg'\n",
            "b'/content/drive/MyDrive/Kaggle datasets/Cats and Dogs/Cats and Dogs/dogs/dog_301.jpg'\n",
            "b'/content/drive/MyDrive/Kaggle datasets/Cats and Dogs/Cats and Dogs/dogs/dog_305.jpg'\n",
            "b'/content/drive/MyDrive/Kaggle datasets/Cats and Dogs/Cats and Dogs/dogs/dog_306.jpg'\n",
            "b'/content/drive/MyDrive/Kaggle datasets/Cats and Dogs/Cats and Dogs/dogs/dog_31.jpg'\n",
            "b'/content/drive/MyDrive/Kaggle datasets/Cats and Dogs/Cats and Dogs/dogs/dog_315.jpg'\n",
            "b'/content/drive/MyDrive/Kaggle datasets/Cats and Dogs/Cats and Dogs/dogs/dog_317.jpg'\n",
            "b'/content/drive/MyDrive/Kaggle datasets/Cats and Dogs/Cats and Dogs/dogs/dog_318.jpg'\n",
            "b'/content/drive/MyDrive/Kaggle datasets/Cats and Dogs/Cats and Dogs/dogs/dog_32.jpg'\n",
            "b'/content/drive/MyDrive/Kaggle datasets/Cats and Dogs/Cats and Dogs/dogs/dog_320.jpg'\n",
            "b'/content/drive/MyDrive/Kaggle datasets/Cats and Dogs/Cats and Dogs/dogs/dog_321.jpg'\n",
            "b'/content/drive/MyDrive/Kaggle datasets/Cats and Dogs/Cats and Dogs/dogs/dog_322.jpg'\n",
            "b'/content/drive/MyDrive/Kaggle datasets/Cats and Dogs/Cats and Dogs/dogs/dog_323.jpg'\n",
            "b'/content/drive/MyDrive/Kaggle datasets/Cats and Dogs/Cats and Dogs/dogs/dog_324.jpg'\n",
            "b'/content/drive/MyDrive/Kaggle datasets/Cats and Dogs/Cats and Dogs/dogs/dog_325.jpg'\n",
            "b'/content/drive/MyDrive/Kaggle datasets/Cats and Dogs/Cats and Dogs/dogs/dog_33.jpg'\n",
            "b'/content/drive/MyDrive/Kaggle datasets/Cats and Dogs/Cats and Dogs/dogs/dog_331.jpg'\n",
            "b'/content/drive/MyDrive/Kaggle datasets/Cats and Dogs/Cats and Dogs/dogs/dog_332.jpg'\n",
            "b'/content/drive/MyDrive/Kaggle datasets/Cats and Dogs/Cats and Dogs/dogs/dog_333.jpg'\n",
            "b'/content/drive/MyDrive/Kaggle datasets/Cats and Dogs/Cats and Dogs/dogs/dog_334.jpg'\n",
            "b'/content/drive/MyDrive/Kaggle datasets/Cats and Dogs/Cats and Dogs/dogs/dog_335.jpg'\n",
            "b'/content/drive/MyDrive/Kaggle datasets/Cats and Dogs/Cats and Dogs/dogs/dog_337.jpg'\n",
            "b'/content/drive/MyDrive/Kaggle datasets/Cats and Dogs/Cats and Dogs/dogs/dog_338.jpg'\n",
            "b'/content/drive/MyDrive/Kaggle datasets/Cats and Dogs/Cats and Dogs/dogs/dog_341.jpg'\n",
            "b'/content/drive/MyDrive/Kaggle datasets/Cats and Dogs/Cats and Dogs/dogs/dog_342.jpg'\n",
            "b'/content/drive/MyDrive/Kaggle datasets/Cats and Dogs/Cats and Dogs/dogs/dog_343.jpg'\n",
            "b'/content/drive/MyDrive/Kaggle datasets/Cats and Dogs/Cats and Dogs/dogs/dog_345.jpg'\n",
            "b'/content/drive/MyDrive/Kaggle datasets/Cats and Dogs/Cats and Dogs/dogs/dog_347.jpg'\n",
            "b'/content/drive/MyDrive/Kaggle datasets/Cats and Dogs/Cats and Dogs/dogs/dog_349.jpg'\n",
            "b'/content/drive/MyDrive/Kaggle datasets/Cats and Dogs/Cats and Dogs/dogs/dog_35.jpg'\n",
            "b'/content/drive/MyDrive/Kaggle datasets/Cats and Dogs/Cats and Dogs/dogs/dog_350.jpg'\n",
            "b'/content/drive/MyDrive/Kaggle datasets/Cats and Dogs/Cats and Dogs/dogs/dog_351.jpg'\n",
            "b'/content/drive/MyDrive/Kaggle datasets/Cats and Dogs/Cats and Dogs/dogs/dog_358.jpg'\n",
            "b'/content/drive/MyDrive/Kaggle datasets/Cats and Dogs/Cats and Dogs/dogs/dog_359.jpg'\n",
            "b'/content/drive/MyDrive/Kaggle datasets/Cats and Dogs/Cats and Dogs/dogs/dog_361.jpg'\n",
            "b'/content/drive/MyDrive/Kaggle datasets/Cats and Dogs/Cats and Dogs/dogs/dog_363.jpg'\n",
            "b'/content/drive/MyDrive/Kaggle datasets/Cats and Dogs/Cats and Dogs/dogs/dog_365.jpg'\n",
            "b'/content/drive/MyDrive/Kaggle datasets/Cats and Dogs/Cats and Dogs/dogs/dog_367.jpg'\n",
            "b'/content/drive/MyDrive/Kaggle datasets/Cats and Dogs/Cats and Dogs/dogs/dog_368.jpg'\n",
            "b'/content/drive/MyDrive/Kaggle datasets/Cats and Dogs/Cats and Dogs/dogs/dog_37.jpg'\n",
            "b'/content/drive/MyDrive/Kaggle datasets/Cats and Dogs/Cats and Dogs/dogs/dog_371.jpg'\n",
            "b'/content/drive/MyDrive/Kaggle datasets/Cats and Dogs/Cats and Dogs/dogs/dog_375.jpg'\n",
            "b'/content/drive/MyDrive/Kaggle datasets/Cats and Dogs/Cats and Dogs/dogs/dog_376.jpg'\n",
            "b'/content/drive/MyDrive/Kaggle datasets/Cats and Dogs/Cats and Dogs/dogs/dog_378.jpg'\n",
            "b'/content/drive/MyDrive/Kaggle datasets/Cats and Dogs/Cats and Dogs/dogs/dog_381.jpg'\n",
            "b'/content/drive/MyDrive/Kaggle datasets/Cats and Dogs/Cats and Dogs/dogs/dog_389.jpg'\n",
            "b'/content/drive/MyDrive/Kaggle datasets/Cats and Dogs/Cats and Dogs/dogs/dog_39.jpg'\n",
            "b'/content/drive/MyDrive/Kaggle datasets/Cats and Dogs/Cats and Dogs/dogs/dog_391.jpg'\n",
            "b'/content/drive/MyDrive/Kaggle datasets/Cats and Dogs/Cats and Dogs/dogs/dog_392.jpg'\n",
            "b'/content/drive/MyDrive/Kaggle datasets/Cats and Dogs/Cats and Dogs/dogs/dog_393.jpg'\n",
            "b'/content/drive/MyDrive/Kaggle datasets/Cats and Dogs/Cats and Dogs/dogs/dog_4.jpg'\n",
            "b'/content/drive/MyDrive/Kaggle datasets/Cats and Dogs/Cats and Dogs/dogs/dog_401.jpg'\n",
            "b'/content/drive/MyDrive/Kaggle datasets/Cats and Dogs/Cats and Dogs/dogs/dog_402.jpg'\n",
            "b'/content/drive/MyDrive/Kaggle datasets/Cats and Dogs/Cats and Dogs/dogs/dog_403.jpg'\n",
            "b'/content/drive/MyDrive/Kaggle datasets/Cats and Dogs/Cats and Dogs/dogs/dog_404.jpg'\n",
            "b'/content/drive/MyDrive/Kaggle datasets/Cats and Dogs/Cats and Dogs/dogs/dog_405.jpg'\n",
            "b'/content/drive/MyDrive/Kaggle datasets/Cats and Dogs/Cats and Dogs/dogs/dog_407.jpg'\n",
            "b'/content/drive/MyDrive/Kaggle datasets/Cats and Dogs/Cats and Dogs/dogs/dog_408.jpg'\n",
            "b'/content/drive/MyDrive/Kaggle datasets/Cats and Dogs/Cats and Dogs/dogs/dog_409.jpg'\n",
            "b'/content/drive/MyDrive/Kaggle datasets/Cats and Dogs/Cats and Dogs/dogs/dog_412.jpg'\n",
            "b'/content/drive/MyDrive/Kaggle datasets/Cats and Dogs/Cats and Dogs/dogs/dog_414.jpg'\n",
            "b'/content/drive/MyDrive/Kaggle datasets/Cats and Dogs/Cats and Dogs/dogs/dog_417.jpg'\n",
            "b'/content/drive/MyDrive/Kaggle datasets/Cats and Dogs/Cats and Dogs/dogs/dog_418.jpg'\n",
            "b'/content/drive/MyDrive/Kaggle datasets/Cats and Dogs/Cats and Dogs/dogs/dog_419.jpg'\n",
            "b'/content/drive/MyDrive/Kaggle datasets/Cats and Dogs/Cats and Dogs/dogs/dog_423.jpg'\n",
            "b'/content/drive/MyDrive/Kaggle datasets/Cats and Dogs/Cats and Dogs/dogs/dog_427.jpg'\n",
            "b'/content/drive/MyDrive/Kaggle datasets/Cats and Dogs/Cats and Dogs/dogs/dog_428.jpg'\n",
            "b'/content/drive/MyDrive/Kaggle datasets/Cats and Dogs/Cats and Dogs/dogs/dog_429.jpg'\n",
            "b'/content/drive/MyDrive/Kaggle datasets/Cats and Dogs/Cats and Dogs/dogs/dog_432.jpg'\n",
            "b'/content/drive/MyDrive/Kaggle datasets/Cats and Dogs/Cats and Dogs/dogs/dog_433.jpg'\n",
            "b'/content/drive/MyDrive/Kaggle datasets/Cats and Dogs/Cats and Dogs/dogs/dog_435.jpg'\n",
            "b'/content/drive/MyDrive/Kaggle datasets/Cats and Dogs/Cats and Dogs/dogs/dog_436.jpg'\n",
            "b'/content/drive/MyDrive/Kaggle datasets/Cats and Dogs/Cats and Dogs/dogs/dog_437.jpg'\n",
            "b'/content/drive/MyDrive/Kaggle datasets/Cats and Dogs/Cats and Dogs/dogs/dog_438.jpg'\n",
            "b'/content/drive/MyDrive/Kaggle datasets/Cats and Dogs/Cats and Dogs/dogs/dog_440.jpg'\n",
            "b'/content/drive/MyDrive/Kaggle datasets/Cats and Dogs/Cats and Dogs/dogs/dog_441.jpg'\n",
            "b'/content/drive/MyDrive/Kaggle datasets/Cats and Dogs/Cats and Dogs/dogs/dog_444.jpg'\n",
            "b'/content/drive/MyDrive/Kaggle datasets/Cats and Dogs/Cats and Dogs/dogs/dog_445.jpg'\n",
            "b'/content/drive/MyDrive/Kaggle datasets/Cats and Dogs/Cats and Dogs/dogs/dog_446.jpg'\n",
            "b'/content/drive/MyDrive/Kaggle datasets/Cats and Dogs/Cats and Dogs/dogs/dog_447.jpg'\n",
            "b'/content/drive/MyDrive/Kaggle datasets/Cats and Dogs/Cats and Dogs/dogs/dog_448.jpg'\n",
            "b'/content/drive/MyDrive/Kaggle datasets/Cats and Dogs/Cats and Dogs/dogs/dog_45.jpg'\n",
            "b'/content/drive/MyDrive/Kaggle datasets/Cats and Dogs/Cats and Dogs/dogs/dog_450.jpg'\n",
            "b'/content/drive/MyDrive/Kaggle datasets/Cats and Dogs/Cats and Dogs/dogs/dog_451.jpg'\n",
            "b'/content/drive/MyDrive/Kaggle datasets/Cats and Dogs/Cats and Dogs/dogs/dog_452.jpg'\n",
            "b'/content/drive/MyDrive/Kaggle datasets/Cats and Dogs/Cats and Dogs/dogs/dog_458.jpg'\n",
            "b'/content/drive/MyDrive/Kaggle datasets/Cats and Dogs/Cats and Dogs/dogs/dog_466.jpg'\n",
            "b'/content/drive/MyDrive/Kaggle datasets/Cats and Dogs/Cats and Dogs/dogs/dog_468.jpg'\n",
            "b'/content/drive/MyDrive/Kaggle datasets/Cats and Dogs/Cats and Dogs/dogs/dog_47.jpg'\n",
            "b'/content/drive/MyDrive/Kaggle datasets/Cats and Dogs/Cats and Dogs/dogs/dog_471.jpg'\n",
            "b'/content/drive/MyDrive/Kaggle datasets/Cats and Dogs/Cats and Dogs/dogs/dog_473.jpg'\n",
            "b'/content/drive/MyDrive/Kaggle datasets/Cats and Dogs/Cats and Dogs/dogs/dog_474.jpg'\n",
            "b'/content/drive/MyDrive/Kaggle datasets/Cats and Dogs/Cats and Dogs/dogs/dog_475.jpg'\n",
            "b'/content/drive/MyDrive/Kaggle datasets/Cats and Dogs/Cats and Dogs/dogs/dog_478.jpg'\n",
            "b'/content/drive/MyDrive/Kaggle datasets/Cats and Dogs/Cats and Dogs/dogs/dog_479.jpg'\n",
            "b'/content/drive/MyDrive/Kaggle datasets/Cats and Dogs/Cats and Dogs/dogs/dog_480.jpg'\n",
            "b'/content/drive/MyDrive/Kaggle datasets/Cats and Dogs/Cats and Dogs/dogs/dog_483.jpg'\n",
            "b'/content/drive/MyDrive/Kaggle datasets/Cats and Dogs/Cats and Dogs/dogs/dog_484.jpg'\n",
            "b'/content/drive/MyDrive/Kaggle datasets/Cats and Dogs/Cats and Dogs/dogs/dog_485.jpg'\n",
            "b'/content/drive/MyDrive/Kaggle datasets/Cats and Dogs/Cats and Dogs/dogs/dog_487.jpg'\n",
            "b'/content/drive/MyDrive/Kaggle datasets/Cats and Dogs/Cats and Dogs/dogs/dog_489.jpg'\n",
            "b'/content/drive/MyDrive/Kaggle datasets/Cats and Dogs/Cats and Dogs/dogs/dog_490.jpg'\n",
            "b'/content/drive/MyDrive/Kaggle datasets/Cats and Dogs/Cats and Dogs/dogs/dog_492.jpg'\n",
            "b'/content/drive/MyDrive/Kaggle datasets/Cats and Dogs/Cats and Dogs/dogs/dog_494.jpg'\n",
            "b'/content/drive/MyDrive/Kaggle datasets/Cats and Dogs/Cats and Dogs/dogs/dog_496.jpg'\n",
            "b'/content/drive/MyDrive/Kaggle datasets/Cats and Dogs/Cats and Dogs/dogs/dog_50.jpg'\n",
            "b'/content/drive/MyDrive/Kaggle datasets/Cats and Dogs/Cats and Dogs/dogs/dog_501.jpg'\n",
            "b'/content/drive/MyDrive/Kaggle datasets/Cats and Dogs/Cats and Dogs/dogs/dog_502.jpg'\n",
            "b'/content/drive/MyDrive/Kaggle datasets/Cats and Dogs/Cats and Dogs/dogs/dog_504.jpg'\n",
            "b'/content/drive/MyDrive/Kaggle datasets/Cats and Dogs/Cats and Dogs/dogs/dog_505.jpg'\n",
            "b'/content/drive/MyDrive/Kaggle datasets/Cats and Dogs/Cats and Dogs/dogs/dog_509.jpg'\n",
            "b'/content/drive/MyDrive/Kaggle datasets/Cats and Dogs/Cats and Dogs/dogs/dog_51.jpg'\n",
            "b'/content/drive/MyDrive/Kaggle datasets/Cats and Dogs/Cats and Dogs/dogs/dog_512.jpg'\n",
            "b'/content/drive/MyDrive/Kaggle datasets/Cats and Dogs/Cats and Dogs/dogs/dog_513.jpg'\n",
            "b'/content/drive/MyDrive/Kaggle datasets/Cats and Dogs/Cats and Dogs/dogs/dog_514.jpg'\n",
            "b'/content/drive/MyDrive/Kaggle datasets/Cats and Dogs/Cats and Dogs/dogs/dog_523.jpg'\n",
            "b'/content/drive/MyDrive/Kaggle datasets/Cats and Dogs/Cats and Dogs/dogs/dog_525.jpg'\n",
            "b'/content/drive/MyDrive/Kaggle datasets/Cats and Dogs/Cats and Dogs/dogs/dog_529.jpg'\n",
            "b'/content/drive/MyDrive/Kaggle datasets/Cats and Dogs/Cats and Dogs/dogs/dog_532.jpg'\n",
            "b'/content/drive/MyDrive/Kaggle datasets/Cats and Dogs/Cats and Dogs/dogs/dog_533.jpg'\n",
            "b'/content/drive/MyDrive/Kaggle datasets/Cats and Dogs/Cats and Dogs/dogs/dog_535.jpg'\n",
            "b'/content/drive/MyDrive/Kaggle datasets/Cats and Dogs/Cats and Dogs/dogs/dog_54.jpg'\n",
            "b'/content/drive/MyDrive/Kaggle datasets/Cats and Dogs/Cats and Dogs/dogs/dog_540.jpg'\n",
            "b'/content/drive/MyDrive/Kaggle datasets/Cats and Dogs/Cats and Dogs/dogs/dog_541.jpg'\n",
            "b'/content/drive/MyDrive/Kaggle datasets/Cats and Dogs/Cats and Dogs/dogs/dog_543.jpg'\n",
            "b'/content/drive/MyDrive/Kaggle datasets/Cats and Dogs/Cats and Dogs/dogs/dog_545.jpg'\n",
            "b'/content/drive/MyDrive/Kaggle datasets/Cats and Dogs/Cats and Dogs/dogs/dog_546.jpg'\n",
            "b'/content/drive/MyDrive/Kaggle datasets/Cats and Dogs/Cats and Dogs/dogs/dog_549.jpg'\n",
            "b'/content/drive/MyDrive/Kaggle datasets/Cats and Dogs/Cats and Dogs/dogs/dog_550.jpg'\n",
            "b'/content/drive/MyDrive/Kaggle datasets/Cats and Dogs/Cats and Dogs/dogs/dog_552.jpg'\n",
            "b'/content/drive/MyDrive/Kaggle datasets/Cats and Dogs/Cats and Dogs/dogs/dog_553.jpg'\n",
            "b'/content/drive/MyDrive/Kaggle datasets/Cats and Dogs/Cats and Dogs/dogs/dog_554.jpg'\n",
            "b'/content/drive/MyDrive/Kaggle datasets/Cats and Dogs/Cats and Dogs/dogs/dog_556.jpg'\n",
            "b'/content/drive/MyDrive/Kaggle datasets/Cats and Dogs/Cats and Dogs/dogs/dog_558.jpg'\n",
            "b'/content/drive/MyDrive/Kaggle datasets/Cats and Dogs/Cats and Dogs/dogs/dog_559.jpg'\n",
            "b'/content/drive/MyDrive/Kaggle datasets/Cats and Dogs/Cats and Dogs/dogs/dog_56.jpg'\n",
            "b'/content/drive/MyDrive/Kaggle datasets/Cats and Dogs/Cats and Dogs/dogs/dog_560.jpg'\n",
            "b'/content/drive/MyDrive/Kaggle datasets/Cats and Dogs/Cats and Dogs/dogs/dog_564.jpg'\n",
            "b'/content/drive/MyDrive/Kaggle datasets/Cats and Dogs/Cats and Dogs/dogs/dog_566.jpg'\n",
            "b'/content/drive/MyDrive/Kaggle datasets/Cats and Dogs/Cats and Dogs/dogs/dog_57.jpg'\n",
            "b'/content/drive/MyDrive/Kaggle datasets/Cats and Dogs/Cats and Dogs/dogs/dog_570.jpg'\n",
            "b'/content/drive/MyDrive/Kaggle datasets/Cats and Dogs/Cats and Dogs/dogs/dog_571.jpg'\n",
            "b'/content/drive/MyDrive/Kaggle datasets/Cats and Dogs/Cats and Dogs/dogs/dog_572.jpg'\n",
            "b'/content/drive/MyDrive/Kaggle datasets/Cats and Dogs/Cats and Dogs/dogs/dog_576.jpg'\n",
            "b'/content/drive/MyDrive/Kaggle datasets/Cats and Dogs/Cats and Dogs/dogs/dog_579.jpg'\n",
            "b'/content/drive/MyDrive/Kaggle datasets/Cats and Dogs/Cats and Dogs/dogs/dog_580.jpg'\n",
            "b'/content/drive/MyDrive/Kaggle datasets/Cats and Dogs/Cats and Dogs/dogs/dog_582.jpg'\n",
            "b'/content/drive/MyDrive/Kaggle datasets/Cats and Dogs/Cats and Dogs/dogs/dog_583.jpg'\n",
            "b'/content/drive/MyDrive/Kaggle datasets/Cats and Dogs/Cats and Dogs/dogs/dog_589.jpg'\n",
            "b'/content/drive/MyDrive/Kaggle datasets/Cats and Dogs/Cats and Dogs/dogs/dog_591.jpg'\n",
            "b'/content/drive/MyDrive/Kaggle datasets/Cats and Dogs/Cats and Dogs/dogs/dog_596.jpg'\n",
            "b'/content/drive/MyDrive/Kaggle datasets/Cats and Dogs/Cats and Dogs/dogs/dog_62.jpg'\n",
            "b'/content/drive/MyDrive/Kaggle datasets/Cats and Dogs/Cats and Dogs/dogs/dog_67.jpg'\n",
            "b'/content/drive/MyDrive/Kaggle datasets/Cats and Dogs/Cats and Dogs/dogs/dog_69.jpg'\n",
            "b'/content/drive/MyDrive/Kaggle datasets/Cats and Dogs/Cats and Dogs/dogs/dog_7.jpg'\n",
            "b'/content/drive/MyDrive/Kaggle datasets/Cats and Dogs/Cats and Dogs/dogs/dog_70.jpg'\n",
            "b'/content/drive/MyDrive/Kaggle datasets/Cats and Dogs/Cats and Dogs/dogs/dog_72.jpg'\n",
            "b'/content/drive/MyDrive/Kaggle datasets/Cats and Dogs/Cats and Dogs/dogs/dog_74.jpg'\n",
            "b'/content/drive/MyDrive/Kaggle datasets/Cats and Dogs/Cats and Dogs/dogs/dog_76.jpg'\n",
            "b'/content/drive/MyDrive/Kaggle datasets/Cats and Dogs/Cats and Dogs/dogs/dog_77.jpg'\n",
            "b'/content/drive/MyDrive/Kaggle datasets/Cats and Dogs/Cats and Dogs/dogs/dog_78.jpg'\n",
            "b'/content/drive/MyDrive/Kaggle datasets/Cats and Dogs/Cats and Dogs/dogs/dog_8.jpg'\n",
            "b'/content/drive/MyDrive/Kaggle datasets/Cats and Dogs/Cats and Dogs/dogs/dog_80.jpg'\n",
            "b'/content/drive/MyDrive/Kaggle datasets/Cats and Dogs/Cats and Dogs/dogs/dog_82.jpg'\n",
            "b'/content/drive/MyDrive/Kaggle datasets/Cats and Dogs/Cats and Dogs/dogs/dog_84.jpg'\n",
            "b'/content/drive/MyDrive/Kaggle datasets/Cats and Dogs/Cats and Dogs/dogs/dog_85.jpg'\n",
            "b'/content/drive/MyDrive/Kaggle datasets/Cats and Dogs/Cats and Dogs/dogs/dog_86.jpg'\n",
            "b'/content/drive/MyDrive/Kaggle datasets/Cats and Dogs/Cats and Dogs/dogs/dog_9.jpg'\n",
            "b'/content/drive/MyDrive/Kaggle datasets/Cats and Dogs/Cats and Dogs/dogs/dog_90.jpg'\n",
            "b'/content/drive/MyDrive/Kaggle datasets/Cats and Dogs/Cats and Dogs/dogs/dog_92.jpg'\n",
            "b'/content/drive/MyDrive/Kaggle datasets/Cats and Dogs/Cats and Dogs/dogs/dog_93.jpg'\n",
            "b'/content/drive/MyDrive/Kaggle datasets/Cats and Dogs/Cats and Dogs/dogs/dog_97.jpg'\n",
            "b'/content/drive/MyDrive/Kaggle datasets/Cats and Dogs/Cats and Dogs/dogs/dog_98.jpg'\n",
            "b'/content/drive/MyDrive/Kaggle datasets/Cats and Dogs/Cats and Dogs/dogs/dog_99.jpg'\n"
          ]
        }
      ]
    },
    {
      "cell_type": "code",
      "source": [
        "ds_images_path = ds_images_path.shuffle(200)"
      ],
      "metadata": {
        "id": "XZxvvl6atjR2"
      },
      "execution_count": null,
      "outputs": []
    },
    {
      "cell_type": "code",
      "source": [
        "class_names = ['cat', 'dog']"
      ],
      "metadata": {
        "id": "iS3wgJc7uzR0"
      },
      "execution_count": null,
      "outputs": []
    },
    {
      "cell_type": "code",
      "source": [
        "img_count = len(ds_images_path)"
      ],
      "metadata": {
        "id": "zzt3qmXwu4OE"
      },
      "execution_count": null,
      "outputs": []
    },
    {
      "cell_type": "code",
      "source": [
        "img_count"
      ],
      "metadata": {
        "colab": {
          "base_uri": "https://localhost:8080/"
        },
        "id": "hEaxvihevDb0",
        "outputId": "fba9cf97-a545-48b3-9f1d-81d973825f41"
      },
      "execution_count": null,
      "outputs": [
        {
          "output_type": "execute_result",
          "data": {
            "text/plain": [
              "557"
            ]
          },
          "metadata": {},
          "execution_count": 36
        }
      ]
    },
    {
      "cell_type": "code",
      "source": [
        "train_Ratio = int(img_count*0.8)\n",
        "train_ds = ds_images_path.take(train_Ratio)\n",
        "test_ds = ds_images_path.skip(train_Ratio)"
      ],
      "metadata": {
        "id": "yJHGojddvFq0"
      },
      "execution_count": null,
      "outputs": []
    },
    {
      "cell_type": "code",
      "source": [
        "len(train_ds)"
      ],
      "metadata": {
        "colab": {
          "base_uri": "https://localhost:8080/"
        },
        "id": "H0S9wHxrwH8f",
        "outputId": "3a70f777-7e4f-4e70-a404-d4e52905a597"
      },
      "execution_count": null,
      "outputs": [
        {
          "output_type": "execute_result",
          "data": {
            "text/plain": [
              "445"
            ]
          },
          "metadata": {},
          "execution_count": 39
        }
      ]
    },
    {
      "cell_type": "code",
      "source": [
        "len(test_ds)"
      ],
      "metadata": {
        "colab": {
          "base_uri": "https://localhost:8080/"
        },
        "id": "TZTuFCmiwfA1",
        "outputId": "aed81fb5-f12c-40a5-c3a0-5a082eba9a83"
      },
      "execution_count": null,
      "outputs": [
        {
          "output_type": "execute_result",
          "data": {
            "text/plain": [
              "112"
            ]
          },
          "metadata": {},
          "execution_count": 40
        }
      ]
    },
    {
      "cell_type": "code",
      "source": [
        "#  Creating a function to Retrieve labels from images paths\n",
        "#  will be using the os seperator as file paths are tensor objects\n",
        "def get_labels(file_path):\n",
        "  import os\n",
        "  return tf.strings.split(file_path, os.path.sep)[-2]\n"
      ],
      "metadata": {
        "id": "t-1YzwT8wgfE"
      },
      "execution_count": null,
      "outputs": []
    },
    {
      "cell_type": "code",
      "source": [
        "# Creating function to read images from file_paths\n",
        "def process_images(file_path):\n",
        "  label = get_labels(file_path)\n",
        "  img = tf.io.read_file(file_path)\n",
        "  img = tf.image.decode_jpeg(img)\n",
        "  img = tf.image.resize(img, [128,128])\n",
        "\n",
        "  return img, label"
      ],
      "metadata": {
        "id": "5FYR3GxF6je6"
      },
      "execution_count": null,
      "outputs": []
    },
    {
      "cell_type": "code",
      "source": [
        "for img,label in train_ds.map(process_images).take(5):\n",
        "  print('Image:', img )\n",
        "  print('Label:', label)"
      ],
      "metadata": {
        "colab": {
          "base_uri": "https://localhost:8080/"
        },
        "id": "2CW0x0zx6NeD",
        "outputId": "3836395c-a698-43f4-8b16-9aeb282f755c"
      },
      "execution_count": null,
      "outputs": [
        {
          "output_type": "stream",
          "name": "stdout",
          "text": [
            "Image: tf.Tensor(\n",
            "[[[ 25.379883   33.379883   35.379883 ]\n",
            "  [ 27.876953   35.876953   37.876953 ]\n",
            "  [ 24.624023   32.624023   34.624023 ]\n",
            "  ...\n",
            "  [ 52.625      48.625      39.625    ]\n",
            "  [ 34.29297    36.29297    25.292969 ]\n",
            "  [ 37.176758   38.176758   30.176758 ]]\n",
            "\n",
            " [[ 24.990234   32.990234   34.990234 ]\n",
            "  [ 31.481445   39.481445   41.481445 ]\n",
            "  [ 28.609375   36.609375   38.609375 ]\n",
            "  ...\n",
            "  [ 64.81641    60.816406   51.816406 ]\n",
            "  [ 31.509766   33.509766   22.509766 ]\n",
            "  [ 15.143555   16.143555    8.143555 ]]\n",
            "\n",
            " [[ 21.05371    29.05371    31.374023 ]\n",
            "  [ 22.770508   30.770508   32.770508 ]\n",
            "  [ 30.18457    38.18457    40.18457  ]\n",
            "  ...\n",
            "  [ 55.16504    53.125977   43.805664 ]\n",
            "  [ 28.904297   30.904297   19.904297 ]\n",
            "  [ 12.229492   13.229492    5.229492 ]]\n",
            "\n",
            " ...\n",
            "\n",
            " [[ 47.85547    40.964844   40.194336 ]\n",
            "  [ 56.323242   42.323242   39.323242 ]\n",
            "  [ 37.98242    30.982422   24.982422 ]\n",
            "  ...\n",
            "  [ 94.543945   81.543945   75.543945 ]\n",
            "  [121.80469   108.80469   102.80469  ]\n",
            "  [132.34473   115.34473   107.46973  ]]\n",
            "\n",
            " [[ 13.974609    5.9814453   2.9765625]\n",
            "  [ 46.1416     36.152344   34.78711  ]\n",
            "  [ 20.25       12.25        9.87793  ]\n",
            "  ...\n",
            "  [104.21387    89.21387    82.21387  ]\n",
            "  [115.98535    99.73535    92.73535  ]\n",
            "  [124.87012   104.118164   98.99414  ]]\n",
            "\n",
            " [[ 21.59082    13.59082    10.59082  ]\n",
            "  [ 25.11621    17.11621    15.116211 ]\n",
            "  [ 34.29297    26.292969   24.292969 ]\n",
            "  ...\n",
            "  [100.3291     83.3291     76.3291   ]\n",
            "  [110.28125    92.86133    86.07129  ]\n",
            "  [130.46484   109.46484   104.46484  ]]], shape=(128, 128, 3), dtype=float32)\n",
            "Label: tf.Tensor(b'cats', shape=(), dtype=string)\n",
            "Image: tf.Tensor(\n",
            "[[[186.1072   177.1072   172.1072  ]\n",
            "  [190.       181.       176.      ]\n",
            "  [190.51172  181.51172  176.51172 ]\n",
            "  ...\n",
            "  [102.92377   81.36517   95.55267 ]\n",
            "  [ 98.56407   76.73848   83.127945]\n",
            "  [113.392914  71.392914 143.39291 ]]\n",
            "\n",
            " [[191.09766  182.09766  177.09766 ]\n",
            "  [190.29297  181.29297  176.29297 ]\n",
            "  [190.48828  181.48828  176.48828 ]\n",
            "  ...\n",
            "  [126.563354 101.94711  128.06969 ]\n",
            "  [ 76.350555  50.455917  72.88255 ]\n",
            "  [106.94774   64.94774  136.94774 ]]\n",
            "\n",
            " [[192.41487  179.95003  176.43831 ]\n",
            "  [194.17188  181.70703  178.19531 ]\n",
            "  [190.2733   177.80846  174.29674 ]\n",
            "  ...\n",
            "  [102.011444  68.52316  127.226425]\n",
            "  [108.29445   73.56978  127.12755 ]\n",
            "  [112.81897   70.81897  142.81897 ]]\n",
            "\n",
            " ...\n",
            "\n",
            " [[186.       180.       184.      ]\n",
            "  [178.94774  172.94774  176.94774 ]\n",
            "  [185.       179.       183.      ]\n",
            "  ...\n",
            "  [107.15372   99.15372   88.15372 ]\n",
            "  [ 89.826645  81.826645  70.24071 ]\n",
            "  [ 84.44141   76.44141   63.441406]]\n",
            "\n",
            " [[182.41924  176.41924  180.41924 ]\n",
            "  [183.41406  177.41406  181.41406 ]\n",
            "  [184.29297  178.29297  182.29297 ]\n",
            "  ...\n",
            "  [104.22266   96.22266   85.22266 ]\n",
            "  [112.41406  104.41406   92.828125]\n",
            "  [ 88.740814  80.740814  67.740814]]\n",
            "\n",
            " [[180.81422  174.81422  178.81422 ]\n",
            "  [182.02861  176.02861  180.02861 ]\n",
            "  [180.09766  174.09766  178.09766 ]\n",
            "  ...\n",
            "  [ 88.92685   80.92685   69.92685 ]\n",
            "  [ 96.29877   88.29877   76.71283 ]\n",
            "  [110.23782  102.23782   89.23782 ]]], shape=(128, 128, 3), dtype=float32)\n",
            "Label: tf.Tensor(b'cats', shape=(), dtype=string)\n",
            "Image: tf.Tensor(\n",
            "[[[ 93.16235   51.162354  35.162354]\n",
            "  [ 95.75903   53.759033  37.759033]\n",
            "  [100.128174  59.128174  41.128174]\n",
            "  ...\n",
            "  [152.13672  117.13672   87.13672 ]\n",
            "  [148.75903  115.75903   84.75903 ]\n",
            "  [146.16235  112.16235   85.16235 ]]\n",
            "\n",
            " [[ 97.23047   59.23047   39.410156]\n",
            "  [ 99.23047   61.23047   41.410156]\n",
            "  [102.58984   64.58984   42.76953 ]\n",
            "  ...\n",
            "  [157.37329  122.37329   92.37329 ]\n",
            "  [153.82031  120.82031   89.82031 ]\n",
            "  [151.82031  117.82031   90.82031 ]]\n",
            "\n",
            " [[101.87109   65.87109   41.871094]\n",
            "  [104.68359   68.68359   44.683594]\n",
            "  [104.68359   68.68359   42.683594]\n",
            "  ...\n",
            "  [161.6836   126.68359   96.68359 ]\n",
            "  [158.17798  125.17798   94.17798 ]\n",
            "  [156.       122.        95.      ]]\n",
            "\n",
            " ...\n",
            "\n",
            " [[198.73438  175.36719  151.6836  ]\n",
            "  [198.35205  174.98486  151.30127 ]\n",
            "  [178.65259  155.6018   128.65259 ]\n",
            "  ...\n",
            "  [174.3164   150.3164   126.31641 ]\n",
            "  [179.13843  158.50562  133.82202 ]\n",
            "  [174.1875   153.55469  128.8711  ]]\n",
            "\n",
            " [[197.40234  176.40234  155.40234 ]\n",
            "  [200.58984  179.58984  158.58984 ]\n",
            "  [190.83203  170.83203  143.90576 ]\n",
            "  ...\n",
            "  [172.96313  146.96313  121.963135]\n",
            "  [175.74658  151.74658  127.74658 ]\n",
            "  [172.59766  148.59766  124.59766 ]]\n",
            "\n",
            " [[201.58984  181.       159.86328 ]\n",
            "  [203.58984  183.       161.86328 ]\n",
            "  [203.6438   183.91724  160.19067 ]\n",
            "  ...\n",
            "  [169.9375   140.34766  115.9375  ]\n",
            "  [169.8269   141.71094  115.421875]\n",
            "  [175.88892  151.61548  127.7522  ]]], shape=(128, 128, 3), dtype=float32)\n",
            "Label: tf.Tensor(b'cats', shape=(), dtype=string)\n",
            "Image: tf.Tensor(\n",
            "[[[100.03125   128.03125    41.03125  ]\n",
            "  [ 92.8125    117.09375    39.       ]\n",
            "  [ 81.15625   104.15625    34.15625  ]\n",
            "  ...\n",
            "  [ 49.50757    68.50757    13.507568 ]\n",
            "  [ 45.90625    63.90625    11.90625  ]\n",
            "  [ 41.         60.          5.       ]]\n",
            "\n",
            " [[100.03125   128.03125    41.03125  ]\n",
            "  [ 91.90625   116.1875     38.09375  ]\n",
            "  [ 80.15625   103.15625    33.15625  ]\n",
            "  ...\n",
            "  [ 52.804688   71.80469    16.804688 ]\n",
            "  [ 48.617188   67.61719    11.6171875]\n",
            "  [ 43.         63.          2.390625 ]]\n",
            "\n",
            " [[100.02344   128.02344    41.023438 ]\n",
            "  [ 91.8125    116.09375    38.001465 ]\n",
            "  [ 81.16406   104.16406    34.164062 ]\n",
            "  ...\n",
            "  [ 54.         73.         18.       ]\n",
            "  [ 51.8125     70.8125     15.8125   ]\n",
            "  [ 45.00757    65.00757     4.0075684]]\n",
            "\n",
            " ...\n",
            "\n",
            " [[138.96118   168.96118    68.96118  ]\n",
            "  [145.        175.         78.8125   ]\n",
            "  [147.        176.         83.       ]\n",
            "  ...\n",
            "  [168.85034   198.85034    74.85034  ]\n",
            "  [159.82031   193.10156    62.007812 ]\n",
            "  [152.00757   188.00757    56.00757  ]]\n",
            "\n",
            " [[141.97485   172.97485    68.97485  ]\n",
            "  [147.71875   177.8125     77.4375   ]\n",
            "  [151.87427   181.87427    81.87427  ]\n",
            "  ...\n",
            "  [168.84375   197.84375    79.84375  ]\n",
            "  [159.625     194.6355     79.372314 ]\n",
            "  [145.13281   184.9375     63.523438 ]]\n",
            "\n",
            " [[148.38599   176.38599    73.38599  ]\n",
            "  [152.9436    183.9436     79.9436   ]\n",
            "  [162.39844   189.39844    86.39844  ]\n",
            "  ...\n",
            "  [168.        198.         86.       ]\n",
            "  [156.41406   188.41406    77.41406  ]\n",
            "  [144.96875   178.96875    65.96875  ]]], shape=(128, 128, 3), dtype=float32)\n",
            "Label: tf.Tensor(b'cats', shape=(), dtype=string)\n",
            "Image: tf.Tensor(\n",
            "[[[ 98.42969  109.42969   66.42969 ]\n",
            "  [ 98.42969  109.42969   66.42969 ]\n",
            "  [ 98.42969  109.42969   66.42969 ]\n",
            "  ...\n",
            "  [198.91406  169.91406  135.91406 ]\n",
            "  [202.17188  172.89453  138.33984 ]\n",
            "  [205.78516  175.78516  139.78516 ]]\n",
            "\n",
            " [[101.93359  114.22266   69.28906 ]\n",
            "  [101.93359  114.22266   69.28906 ]\n",
            "  [101.93359  114.22266   69.28906 ]\n",
            "  ...\n",
            "  [196.83984  167.83984  133.83984 ]\n",
            "  [200.27641  170.99907  136.44438 ]\n",
            "  [204.35547  174.35547  138.35547 ]]\n",
            "\n",
            " [[109.37109  122.37109   76.37109 ]\n",
            "  [109.37109  122.37109   76.37109 ]\n",
            "  [109.37109  122.37109   76.37109 ]\n",
            "  ...\n",
            "  [193.91582  164.91582  130.91582 ]\n",
            "  [197.48257  168.20523  133.65054 ]\n",
            "  [201.92578  171.92578  135.92578 ]]\n",
            "\n",
            " ...\n",
            "\n",
            " [[192.27734  159.27734  114.27734 ]\n",
            "  [183.25887  150.25887  105.258865]\n",
            "  [176.9705   143.9705   100.970505]\n",
            "  ...\n",
            "  [176.77734  139.77734   87.77734 ]\n",
            "  [176.5      139.77734   88.33203 ]\n",
            "  [175.77734  139.77734   89.77734 ]]\n",
            "\n",
            " [[192.85156  159.85156  114.85156 ]\n",
            "  [186.44438  153.44438  108.44438 ]\n",
            "  [183.42188  150.42188  107.421875]\n",
            "  ...\n",
            "  [181.0664   144.0664    92.06641 ]\n",
            "  [180.78906  144.0664    92.62109 ]\n",
            "  [180.0664   144.0664    94.06641 ]]\n",
            "\n",
            " [[193.30241  160.30241  115.302414]\n",
            "  [188.33984  155.33984  110.33984 ]\n",
            "  [188.25426  155.25426  112.25426 ]\n",
            "  ...\n",
            "  [184.57031  147.57031   95.57031 ]\n",
            "  [184.51073  147.78807   96.34276 ]\n",
            "  [184.35547  148.35547   98.35547 ]]], shape=(128, 128, 3), dtype=float32)\n",
            "Label: tf.Tensor(b'cats', shape=(), dtype=string)\n"
          ]
        }
      ]
    },
    {
      "cell_type": "code",
      "source": [
        "train_ds = train_ds.map(process_images)"
      ],
      "metadata": {
        "id": "w0XOhhwa6Tth"
      },
      "execution_count": null,
      "outputs": []
    },
    {
      "cell_type": "code",
      "source": [
        "def scale(img, label):\n",
        "  return img/255, label"
      ],
      "metadata": {
        "id": "Li-tA-1x8-a7"
      },
      "execution_count": null,
      "outputs": []
    },
    {
      "cell_type": "code",
      "source": [
        "train_ds = train_ds.map(scale)"
      ],
      "metadata": {
        "id": "HjfMgpmv9Obx"
      },
      "execution_count": null,
      "outputs": []
    }
  ]
}