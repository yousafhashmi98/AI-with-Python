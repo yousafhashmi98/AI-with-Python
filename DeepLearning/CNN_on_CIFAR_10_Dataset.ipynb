{
  "nbformat": 4,
  "nbformat_minor": 0,
  "metadata": {
    "colab": {
      "provenance": [],
      "gpuType": "T4"
    },
    "kernelspec": {
      "name": "python3",
      "display_name": "Python 3"
    },
    "language_info": {
      "name": "python"
    },
    "accelerator": "TPU"
  },
  "cells": [
    {
      "cell_type": "code",
      "execution_count": null,
      "metadata": {
        "id": "in8MA4f5lkLp"
      },
      "outputs": [],
      "source": [
        "import tensorflow as tf\n",
        "from tensorflow import keras\n",
        "from tensorflow.keras import datasets, layers, models\n",
        "import matplotlib.pyplot as plt\n",
        "import numpy as np"
      ]
    },
    {
      "cell_type": "code",
      "source": [
        "(X_train, Y_train),(X_test, Y_test)=datasets.cifar10.load_data()"
      ],
      "metadata": {
        "colab": {
          "base_uri": "https://localhost:8080/"
        },
        "id": "Ij2wBIpLPOlp",
        "outputId": "9c2c558e-7368-4463-ed40-129a31e1cb37"
      },
      "execution_count": null,
      "outputs": [
        {
          "output_type": "stream",
          "name": "stdout",
          "text": [
            "Downloading data from https://www.cs.toronto.edu/~kriz/cifar-10-python.tar.gz\n",
            "170498071/170498071 [==============================] - 4s 0us/step\n"
          ]
        }
      ]
    },
    {
      "cell_type": "code",
      "source": [
        "X_train.shape"
      ],
      "metadata": {
        "colab": {
          "base_uri": "https://localhost:8080/"
        },
        "id": "iJqo4vCEgh4J",
        "outputId": "1b835833-11bd-4d35-b64b-a3a76f4fa4cc"
      },
      "execution_count": null,
      "outputs": [
        {
          "output_type": "execute_result",
          "data": {
            "text/plain": [
              "(50000, 32, 32, 3)"
            ]
          },
          "metadata": {},
          "execution_count": 3
        }
      ]
    },
    {
      "cell_type": "code",
      "source": [
        "X_test.shape"
      ],
      "metadata": {
        "colab": {
          "base_uri": "https://localhost:8080/"
        },
        "id": "6E9CUp5_gli5",
        "outputId": "b21b0c19-9671-45d1-95fc-34d16b067258"
      },
      "execution_count": null,
      "outputs": [
        {
          "output_type": "execute_result",
          "data": {
            "text/plain": [
              "(10000, 32, 32, 3)"
            ]
          },
          "metadata": {},
          "execution_count": 4
        }
      ]
    },
    {
      "cell_type": "code",
      "source": [
        "Y_train.shape"
      ],
      "metadata": {
        "colab": {
          "base_uri": "https://localhost:8080/"
        },
        "id": "gytbUaJoiLyS",
        "outputId": "7435284a-7e18-4c8a-eb7f-24804dfa665b"
      },
      "execution_count": null,
      "outputs": [
        {
          "output_type": "execute_result",
          "data": {
            "text/plain": [
              "(50000, 1)"
            ]
          },
          "metadata": {},
          "execution_count": 5
        }
      ]
    },
    {
      "cell_type": "code",
      "source": [
        "Y_train[:5]"
      ],
      "metadata": {
        "colab": {
          "base_uri": "https://localhost:8080/"
        },
        "id": "YGJJg8NaiTAA",
        "outputId": "3dbdcf49-e5a2-4396-d8b7-3326ad9afbf6"
      },
      "execution_count": null,
      "outputs": [
        {
          "output_type": "execute_result",
          "data": {
            "text/plain": [
              "array([[6],\n",
              "       [9],\n",
              "       [9],\n",
              "       [4],\n",
              "       [1]], dtype=uint8)"
            ]
          },
          "metadata": {},
          "execution_count": 6
        }
      ]
    },
    {
      "cell_type": "code",
      "source": [
        "# Reshaping Y_train 2-d array into a 1_d array\n",
        "Y_train = Y_train.reshape(-1,)"
      ],
      "metadata": {
        "id": "F6POFAAmicXJ"
      },
      "execution_count": null,
      "outputs": []
    },
    {
      "cell_type": "code",
      "source": [
        "classes = ['airplanes', 'automobile', 'bird', 'cat', 'deer', 'dog', 'frog', 'horse', 'ship', 'truck']"
      ],
      "metadata": {
        "id": "L95VjIQLgn3I"
      },
      "execution_count": null,
      "outputs": []
    },
    {
      "cell_type": "code",
      "source": [
        "def plotSample(X, Y, index):\n",
        "  plt. figure(figsize=(15,2))\n",
        "  plt.imshow(X[index])\n",
        "  plt.xlabel(classes[Y[index]])"
      ],
      "metadata": {
        "id": "9GEssLrDhk_C"
      },
      "execution_count": null,
      "outputs": []
    },
    {
      "cell_type": "code",
      "source": [
        "plotSample(X_train, Y_train, 999)"
      ],
      "metadata": {
        "colab": {
          "base_uri": "https://localhost:8080/",
          "height": 237
        },
        "id": "rvQ8mAEXiqzh",
        "outputId": "95876198-462f-49b4-c695-64cd21b59433"
      },
      "execution_count": null,
      "outputs": [
        {
          "output_type": "display_data",
          "data": {
            "text/plain": [
              "<Figure size 1500x200 with 1 Axes>"
            ],
            "image/png": "[encoded data removed]"
          },
          "metadata": {}
        }
      ]
    },
    {
      "cell_type": "code",
      "source": [
        "#  Normalizing the values to range between 0-1\n",
        "X_train = X_train/255\n",
        "X_test = X_test/255"
      ],
      "metadata": {
        "id": "Pfb_vyXbixTY"
      },
      "execution_count": null,
      "outputs": []
    },
    {
      "cell_type": "code",
      "source": [
        "ann = keras.Sequential([\n",
        "    # for neural netwrok we need to flatten the 2-d array into a 1-d array\n",
        "    keras.layers.Flatten(input_shape=(32,32,3)),\n",
        "\n",
        "    #hidden layers\n",
        "    keras.layers.Dense(3000, activation='relu'),\n",
        "    keras.layers.Dense(1000, activation='relu'),\n",
        "\n",
        "    # output layer with 10 neurons as our dataset has 10 classes\n",
        "    keras.layers.Dense(10, activation = 'sigmoid')\n",
        "\n",
        "])\n",
        "\n",
        "# using 'categorical_crossentropy' loss function because our label data is one hot encoded\n",
        "# if our label data was a descrete value, we would use 'sparse_categorical_crossentropy'\n",
        "# using SGD as optimizer because dataset is of large size\n",
        "\n",
        "ann.compile(optimizer='SGD',\n",
        "loss='sparse_categorical_crossentropy',\n",
        "metrics=['accuracy'])\n",
        "\n",
        "ann.fit(X_train, Y_train, epochs=5, batch_size=50  )"
      ],
      "metadata": {
        "colab": {
          "base_uri": "https://localhost:8080/"
        },
        "id": "jtIkup8gpA8X",
        "outputId": "3dc5afca-dfe9-48cc-8549-90c9de278373"
      },
      "execution_count": null,
      "outputs": [
        {
          "output_type": "stream",
          "name": "stdout",
          "text": [
            "Epoch 1/5\n",
            "1000/1000 [==============================] - 122s 121ms/step - loss: 1.8434 - accuracy: 0.3451\n",
            "Epoch 2/5\n",
            "1000/1000 [==============================] - 122s 122ms/step - loss: 1.6618 - accuracy: 0.4147\n",
            "Epoch 3/5\n",
            "1000/1000 [==============================] - 131s 131ms/step - loss: 1.5792 - accuracy: 0.4470\n",
            "Epoch 4/5\n",
            "1000/1000 [==============================] - 129s 129ms/step - loss: 1.5269 - accuracy: 0.4630\n",
            "Epoch 5/5\n",
            "1000/1000 [==============================] - 130s 130ms/step - loss: 1.4804 - accuracy: 0.4819\n"
          ]
        },
        {
          "output_type": "execute_result",
          "data": {
            "text/plain": [
              "<keras.callbacks.History at 0x7c6bef733160>"
            ]
          },
          "metadata": {},
          "execution_count": 16
        }
      ]
    },
    {
      "cell_type": "code",
      "source": [
        "ann.evaluate(X_test, Y_test)"
      ],
      "metadata": {
        "colab": {
          "base_uri": "https://localhost:8080/"
        },
        "id": "obe1WX0AVR70",
        "outputId": "f37e9851-5b76-41b9-b543-e0e21ff41049"
      },
      "execution_count": null,
      "outputs": [
        {
          "output_type": "stream",
          "name": "stdout",
          "text": [
            "313/313 [==============================] - 16s 50ms/step - loss: 1.4800 - accuracy: 0.4760\n"
          ]
        },
        {
          "output_type": "execute_result",
          "data": {
            "text/plain": [
              "[1.479956030845642, 0.47600001096725464]"
            ]
          },
          "metadata": {},
          "execution_count": 18
        }
      ]
    },
    {
      "cell_type": "code",
      "source": [
        "from sklearn.metrics import confusion_matrix, classification_report\n",
        "y_pred = ann.predict(X_test)\n",
        "y_pred_classes = [np.argmax(element) for element in y_pred]\n",
        "print(\"Classification Report: \\n\", classification_report(Y_test, y_pred_classes))"
      ],
      "metadata": {
        "colab": {
          "base_uri": "https://localhost:8080/"
        },
        "id": "FmYD28iTq71A",
        "outputId": "a7a0055d-1a94-420a-8ce9-703f7226ef46"
      },
      "execution_count": null,
      "outputs": [
        {
          "output_type": "stream",
          "name": "stdout",
          "text": [
            "313/313 [==============================] - 10s 32ms/step\n",
            "Classification Report: \n",
            "               precision    recall  f1-score   support\n",
            "\n",
            "           0       0.48      0.59      0.53      1000\n",
            "           1       0.64      0.51      0.57      1000\n",
            "           2       0.32      0.46      0.38      1000\n",
            "           3       0.43      0.20      0.27      1000\n",
            "           4       0.40      0.40      0.40      1000\n",
            "           5       0.42      0.33      0.37      1000\n",
            "           6       0.51      0.52      0.51      1000\n",
            "           7       0.58      0.49      0.53      1000\n",
            "           8       0.55      0.67      0.60      1000\n",
            "           9       0.48      0.59      0.53      1000\n",
            "\n",
            "    accuracy                           0.48     10000\n",
            "   macro avg       0.48      0.48      0.47     10000\n",
            "weighted avg       0.48      0.48      0.47     10000\n",
            "\n"
          ]
        }
      ]
    },
    {
      "cell_type": "markdown",
      "source": [
        "# **Comparing performence using CNN**"
      ],
      "metadata": {
        "id": "uRTRUynDWGR8"
      }
    },
    {
      "cell_type": "code",
      "source": [
        "cnn = keras.Sequential([\n",
        "\n",
        "    # ****************** Convolution Layers ******************\n",
        "    # filters argument the number of filters which are feature extractors, kernel_size specifies the size of the filter.\n",
        "    layers.Conv2D(filters =32, kernel_size = (3,3), activation = 'relu', input_shape = (32,32,3) ),\n",
        "    # MaxPooling (2,2) filter with some strid3\n",
        "    layers.MaxPooling2D(2,2),\n",
        "    layers.Conv2D(filters =64, kernel_size = (3,3), activation = 'relu', input_shape = (32,32,3) ),\n",
        "    layers.MaxPooling2D(2,2),\n",
        "\n",
        "\n",
        "\n",
        "    # ****************** Dense Layers ******************\n",
        "    # for neural netwrok we need to flatten the 2-d array into a 1-d array\n",
        "    keras.layers.Flatten(),\n",
        "\n",
        "    #hidden layers\n",
        "    keras.layers.Dense(128, activation='relu'),\n",
        "    keras.layers.Dense(64, activation='relu'),\n",
        "\n",
        "    # output layer with 10 neurons as our dataset has 10 classes\n",
        "    keras.layers.Dense(10, activation = 'softmax')\n",
        "\n",
        "])\n",
        "\n"
      ],
      "metadata": {
        "id": "Kx6GbQFssbO2"
      },
      "execution_count": null,
      "outputs": []
    },
    {
      "cell_type": "code",
      "source": [
        "cnn.compile(optimizer='adam',\n",
        "loss='sparse_categorical_crossentropy',\n",
        "metrics=['accuracy'])"
      ],
      "metadata": {
        "id": "cRWQGut8Zxij"
      },
      "execution_count": null,
      "outputs": []
    },
    {
      "cell_type": "code",
      "source": [
        "cnn.fit(X_train, Y_train, epochs=5, batch_size=50  )"
      ],
      "metadata": {
        "colab": {
          "base_uri": "https://localhost:8080/"
        },
        "id": "HciOiIU9Z-Bj",
        "outputId": "3a9f2ca0-6555-47ef-8fd5-3bb5c99e558f"
      },
      "execution_count": null,
      "outputs": [
        {
          "output_type": "stream",
          "name": "stdout",
          "text": [
            "Epoch 1/5\n",
            "1000/1000 [==============================] - 80s 79ms/step - loss: 1.4532 - accuracy: 0.4741\n",
            "Epoch 2/5\n",
            "1000/1000 [==============================] - 79s 79ms/step - loss: 1.0658 - accuracy: 0.6252\n",
            "Epoch 3/5\n",
            "1000/1000 [==============================] - 82s 82ms/step - loss: 0.9274 - accuracy: 0.6767\n",
            "Epoch 4/5\n",
            "1000/1000 [==============================] - 79s 79ms/step - loss: 0.8263 - accuracy: 0.7114\n",
            "Epoch 5/5\n",
            "1000/1000 [==============================] - 78s 78ms/step - loss: 0.7445 - accuracy: 0.7397\n"
          ]
        },
        {
          "output_type": "execute_result",
          "data": {
            "text/plain": [
              "<keras.callbacks.History at 0x7c6bf4b3c730>"
            ]
          },
          "metadata": {},
          "execution_count": 31
        }
      ]
    },
    {
      "cell_type": "code",
      "source": [
        "cnn.evaluate(X_test, Y_test)"
      ],
      "metadata": {
        "colab": {
          "base_uri": "https://localhost:8080/"
        },
        "id": "fLzCHCN1hsEc",
        "outputId": "5f225e30-29b6-4967-96d4-e3f408e2fea1"
      },
      "execution_count": null,
      "outputs": [
        {
          "output_type": "stream",
          "name": "stdout",
          "text": [
            "313/313 [==============================] - 8s 23ms/step - loss: 0.8833 - accuracy: 0.6966\n"
          ]
        },
        {
          "output_type": "execute_result",
          "data": {
            "text/plain": [
              "[0.8833402395248413, 0.6966000199317932]"
            ]
          },
          "metadata": {},
          "execution_count": 32
        }
      ]
    },
    {
      "cell_type": "code",
      "source": [
        "from sklearn.metrics import confusion_matrix, classification_report\n",
        "y_pred = cnn.predict(X_test)\n",
        "y_pred_classes = [np.argmax(element) for element in y_pred]\n",
        "print(\"Classification Report: \\n\", classification_report(Y_test, y_pred_classes))"
      ],
      "metadata": {
        "colab": {
          "base_uri": "https://localhost:8080/"
        },
        "id": "gNLoXIzdhvf7",
        "outputId": "b9fe8db5-08c7-4409-ec40-68b5f1f0883c"
      },
      "execution_count": null,
      "outputs": [
        {
          "output_type": "stream",
          "name": "stdout",
          "text": [
            "313/313 [==============================] - 7s 21ms/step\n",
            "Classification Report: \n",
            "               precision    recall  f1-score   support\n",
            "\n",
            "           0       0.72      0.77      0.74      1000\n",
            "           1       0.78      0.83      0.80      1000\n",
            "           2       0.57      0.59      0.58      1000\n",
            "           3       0.55      0.46      0.50      1000\n",
            "           4       0.62      0.70      0.66      1000\n",
            "           5       0.65      0.55      0.59      1000\n",
            "           6       0.66      0.86      0.74      1000\n",
            "           7       0.81      0.71      0.76      1000\n",
            "           8       0.82      0.79      0.80      1000\n",
            "           9       0.82      0.71      0.76      1000\n",
            "\n",
            "    accuracy                           0.70     10000\n",
            "   macro avg       0.70      0.70      0.69     10000\n",
            "weighted avg       0.70      0.70      0.69     10000\n",
            "\n"
          ]
        }
      ]
    }
  ]
}