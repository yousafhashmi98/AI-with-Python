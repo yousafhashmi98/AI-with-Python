{
  "nbformat": 4,
  "nbformat_minor": 0,
  "metadata": {
    "colab": {
      "provenance": [],
      "gpuType": "T4"
    },
    "kernelspec": {
      "name": "python3",
      "display_name": "Python 3"
    },
    "language_info": {
      "name": "python"
    },
    "accelerator": "GPU"
  },
  "cells": [
    {
      "cell_type": "code",
      "execution_count": null,
      "metadata": {
        "id": "1sAncvyl-E9u"
      },
      "outputs": [],
      "source": [
        "import numpy as np\n",
        "from tensorflow.keras.preprocessing.text import one_hot\n",
        "from tensorflow.keras.preprocessing.sequence import pad_sequences\n",
        "from tensorflow.keras.models import Sequential\n",
        "from tensorflow.keras.layers import Dense\n",
        "from tensorflow.keras.layers import Flatten\n",
        "from tensorflow.keras.layers import Embedding"
      ]
    },
    {
      "cell_type": "code",
      "source": [
        "reviews = ['delicious food',\n",
        "           'exquisite food',\n",
        "           'scrumptious food',\n",
        "           'amazing restaurant',\n",
        "           'too good',\n",
        "           'absolutely loving it',\n",
        "           'will go again',\n",
        "           'disgusting place',\n",
        "           'horrible food',\n",
        "           'shitty service',\n",
        "           'never gonna go there',\n",
        "           'bad quality ingredients',\n",
        "           'waste of money',\n",
        "           'needs a lot of improvement']\n",
        "\n",
        "sentiments = np.array([1,1,1,1,1,1,1,0,0,0,0,0,0,0])"
      ],
      "metadata": {
        "id": "LFoss6f5_Osd"
      },
      "execution_count": null,
      "outputs": []
    },
    {
      "cell_type": "code",
      "source": [
        "# will create a vector with a hot_encoded value for each word where 50 is the range.\n",
        "one_hot('delicious food',50)"
      ],
      "metadata": {
        "id": "a7hp28tDA3Oc"
      },
      "execution_count": null,
      "outputs": []
    },
    {
      "cell_type": "code",
      "source": [
        "# creating encoded vectors for all words\n",
        "vocab_size = 50\n",
        "encoded_reviews = [one_hot(i , vocab_size) for i in reviews]\n",
        "print(encoded_reviews)\n"
      ],
      "metadata": {
        "colab": {
          "base_uri": "https://localhost:8080/"
        },
        "id": "lUR8YWiQQmFn",
        "outputId": "50b7b0b2-1288-467a-c8a0-696b7fc112a0"
      },
      "execution_count": null,
      "outputs": [
        {
          "output_type": "stream",
          "name": "stdout",
          "text": [
            "[[15, 7], [30, 7], [10, 7], [41, 28], [28, 43], [49, 34, 3], [39, 37, 23], [27, 7], [47, 7], [31, 23], [15, 6, 37, 33], [5, 41, 37], [39, 13, 15], [36, 42, 7, 13, 18]]\n"
          ]
        }
      ]
    },
    {
      "cell_type": "markdown",
      "source": [
        "# **Running a for loop on array reviews and printing elements**\n",
        "# **Code:**\n",
        "\n",
        "    for i in reviews:\n",
        "      print(i)\n",
        "\n",
        "# **Output:**\n",
        "delicious food\n",
        "\n",
        "exquisite food\n",
        "\n",
        "scrumptious food\n",
        "\n",
        "amazing restaurant\n",
        "\n",
        "too good\n",
        "\n",
        "absolutely loving it\n",
        "\n",
        "will go again\n",
        "\n",
        "disgusting place\n",
        "\n",
        "horrible food\n",
        "\n",
        "shitty service\n",
        "\n",
        "never gonna go there\n",
        "\n",
        "bad quality ingredients\n",
        "\n",
        "waste of money\n",
        "\n",
        "needs a lot of improvement\n"
      ],
      "metadata": {
        "id": "-GPyD38ISUxQ"
      }
    },
    {
      "cell_type": "code",
      "source": [
        "# padding all vectors to the length of vector with max_size. We do this so all vectors become of the same length.\n",
        "max_length = 5\n",
        "padded_reviews = pad_sequences(encoded_reviews, maxlen=max_length, padding = 'post')\n",
        "padded_reviews"
      ],
      "metadata": {
        "colab": {
          "base_uri": "https://localhost:8080/"
        },
        "id": "HdokuowQTtv2",
        "outputId": "95e34b62-fba0-4bde-9cbd-99966b21541c"
      },
      "execution_count": null,
      "outputs": [
        {
          "output_type": "execute_result",
          "data": {
            "text/plain": [
              "array([[15,  7,  0,  0,  0],\n",
              "       [30,  7,  0,  0,  0],\n",
              "       [10,  7,  0,  0,  0],\n",
              "       [41, 28,  0,  0,  0],\n",
              "       [28, 43,  0,  0,  0],\n",
              "       [49, 34,  3,  0,  0],\n",
              "       [39, 37, 23,  0,  0],\n",
              "       [27,  7,  0,  0,  0],\n",
              "       [47,  7,  0,  0,  0],\n",
              "       [31, 23,  0,  0,  0],\n",
              "       [15,  6, 37, 33,  0],\n",
              "       [ 5, 41, 37,  0,  0],\n",
              "       [39, 13, 15,  0,  0],\n",
              "       [36, 42,  7, 13, 18]], dtype=int32)"
            ]
          },
          "metadata": {},
          "execution_count": 8
        }
      ]
    },
    {
      "cell_type": "code",
      "source": [
        "feature_vector_size = 5\n",
        "model = Sequential()\n",
        "model.add(Embedding(vocab_size, feature_vector_size, input_length = max_length, name = 'embedding' ))\n",
        "model.add(Flatten())\n",
        "model.add(Dense(1, activation=\"sigmoid\"))"
      ],
      "metadata": {
        "id": "aEv0W1W7U2zG"
      },
      "execution_count": null,
      "outputs": []
    },
    {
      "cell_type": "code",
      "source": [
        "X = padded_reviews\n",
        "Y = sentiments"
      ],
      "metadata": {
        "id": "-42l0ZGbXkbv"
      },
      "execution_count": null,
      "outputs": []
    },
    {
      "cell_type": "code",
      "source": [
        "model.compile(optimizer = 'adam', loss = 'binary_crossentropy', metrics = ['accuracy'])\n",
        "model.summary()"
      ],
      "metadata": {
        "colab": {
          "base_uri": "https://localhost:8080/"
        },
        "id": "raHneqGOXxuT",
        "outputId": "6738bdcf-a182-4088-ee8a-d290887a4198"
      },
      "execution_count": null,
      "outputs": [
        {
          "output_type": "stream",
          "name": "stdout",
          "text": [
            "Model: \"sequential\"\n",
            "_________________________________________________________________\n",
            " Layer (type)                Output Shape              Param #   \n",
            "=================================================================\n",
            " embedding (Embedding)       (None, 5, 5)              250       \n",
            "                                                                 \n",
            " flatten (Flatten)           (None, 25)                0         \n",
            "                                                                 \n",
            " dense (Dense)               (None, 1)                 26        \n",
            "                                                                 \n",
            "=================================================================\n",
            "Total params: 276\n",
            "Trainable params: 276\n",
            "Non-trainable params: 0\n",
            "_________________________________________________________________\n"
          ]
        }
      ]
    },
    {
      "cell_type": "code",
      "source": [
        "model.fit(X,Y,epochs=50)"
      ],
      "metadata": {
        "colab": {
          "base_uri": "https://localhost:8080/"
        },
        "id": "wy2ysm0ZaoRV",
        "outputId": "e9d48e86-3ebd-4ddd-b5ca-5765cc8710b2"
      },
      "execution_count": null,
      "outputs": [
        {
          "output_type": "stream",
          "name": "stdout",
          "text": [
            "Epoch 1/50\n",
            "1/1 [==============================] - 0s 12ms/step - loss: 0.5274 - accuracy: 0.8571\n",
            "Epoch 2/50\n",
            "1/1 [==============================] - 0s 11ms/step - loss: 0.5255 - accuracy: 0.8571\n",
            "Epoch 3/50\n",
            "1/1 [==============================] - 0s 10ms/step - loss: 0.5236 - accuracy: 0.8571\n",
            "Epoch 4/50\n",
            "1/1 [==============================] - 0s 10ms/step - loss: 0.5217 - accuracy: 0.8571\n",
            "Epoch 5/50\n",
            "1/1 [==============================] - 0s 10ms/step - loss: 0.5198 - accuracy: 0.8571\n",
            "Epoch 6/50\n",
            "1/1 [==============================] - 0s 10ms/step - loss: 0.5179 - accuracy: 0.8571\n",
            "Epoch 7/50\n",
            "1/1 [==============================] - 0s 10ms/step - loss: 0.5159 - accuracy: 0.8571\n",
            "Epoch 8/50\n",
            "1/1 [==============================] - 0s 9ms/step - loss: 0.5140 - accuracy: 0.8571\n",
            "Epoch 9/50\n",
            "1/1 [==============================] - 0s 9ms/step - loss: 0.5121 - accuracy: 0.8571\n",
            "Epoch 10/50\n",
            "1/1 [==============================] - 0s 12ms/step - loss: 0.5102 - accuracy: 0.8571\n",
            "Epoch 11/50\n",
            "1/1 [==============================] - 0s 13ms/step - loss: 0.5083 - accuracy: 0.8571\n",
            "Epoch 12/50\n",
            "1/1 [==============================] - 0s 11ms/step - loss: 0.5064 - accuracy: 0.8571\n",
            "Epoch 13/50\n",
            "1/1 [==============================] - 0s 12ms/step - loss: 0.5044 - accuracy: 0.8571\n",
            "Epoch 14/50\n",
            "1/1 [==============================] - 0s 11ms/step - loss: 0.5025 - accuracy: 0.8571\n",
            "Epoch 15/50\n",
            "1/1 [==============================] - 0s 13ms/step - loss: 0.5006 - accuracy: 0.8571\n",
            "Epoch 16/50\n",
            "1/1 [==============================] - 0s 11ms/step - loss: 0.4987 - accuracy: 0.8571\n",
            "Epoch 17/50\n",
            "1/1 [==============================] - 0s 10ms/step - loss: 0.4967 - accuracy: 0.8571\n",
            "Epoch 18/50\n",
            "1/1 [==============================] - 0s 12ms/step - loss: 0.4948 - accuracy: 0.8571\n",
            "Epoch 19/50\n",
            "1/1 [==============================] - 0s 10ms/step - loss: 0.4929 - accuracy: 0.8571\n",
            "Epoch 20/50\n",
            "1/1 [==============================] - 0s 12ms/step - loss: 0.4910 - accuracy: 0.8571\n",
            "Epoch 21/50\n",
            "1/1 [==============================] - 0s 13ms/step - loss: 0.4890 - accuracy: 0.8571\n",
            "Epoch 22/50\n",
            "1/1 [==============================] - 0s 14ms/step - loss: 0.4871 - accuracy: 0.9286\n",
            "Epoch 23/50\n",
            "1/1 [==============================] - 0s 12ms/step - loss: 0.4852 - accuracy: 0.9286\n",
            "Epoch 24/50\n",
            "1/1 [==============================] - 0s 12ms/step - loss: 0.4833 - accuracy: 0.9286\n",
            "Epoch 25/50\n",
            "1/1 [==============================] - 0s 10ms/step - loss: 0.4813 - accuracy: 0.9286\n",
            "Epoch 26/50\n",
            "1/1 [==============================] - 0s 11ms/step - loss: 0.4794 - accuracy: 0.9286\n",
            "Epoch 27/50\n",
            "1/1 [==============================] - 0s 11ms/step - loss: 0.4775 - accuracy: 0.9286\n",
            "Epoch 28/50\n",
            "1/1 [==============================] - 0s 12ms/step - loss: 0.4756 - accuracy: 0.9286\n",
            "Epoch 29/50\n",
            "1/1 [==============================] - 0s 11ms/step - loss: 0.4736 - accuracy: 0.9286\n",
            "Epoch 30/50\n",
            "1/1 [==============================] - 0s 12ms/step - loss: 0.4717 - accuracy: 0.9286\n",
            "Epoch 31/50\n",
            "1/1 [==============================] - 0s 13ms/step - loss: 0.4698 - accuracy: 0.9286\n",
            "Epoch 32/50\n",
            "1/1 [==============================] - 0s 10ms/step - loss: 0.4679 - accuracy: 0.9286\n",
            "Epoch 33/50\n",
            "1/1 [==============================] - 0s 11ms/step - loss: 0.4659 - accuracy: 0.9286\n",
            "Epoch 34/50\n",
            "1/1 [==============================] - 0s 11ms/step - loss: 0.4640 - accuracy: 0.9286\n",
            "Epoch 35/50\n",
            "1/1 [==============================] - 0s 11ms/step - loss: 0.4621 - accuracy: 0.9286\n",
            "Epoch 36/50\n",
            "1/1 [==============================] - 0s 12ms/step - loss: 0.4602 - accuracy: 0.9286\n",
            "Epoch 37/50\n",
            "1/1 [==============================] - 0s 12ms/step - loss: 0.4583 - accuracy: 0.9286\n",
            "Epoch 38/50\n",
            "1/1 [==============================] - 0s 11ms/step - loss: 0.4564 - accuracy: 0.9286\n",
            "Epoch 39/50\n",
            "1/1 [==============================] - 0s 11ms/step - loss: 0.4544 - accuracy: 0.9286\n",
            "Epoch 40/50\n",
            "1/1 [==============================] - 0s 10ms/step - loss: 0.4525 - accuracy: 0.9286\n",
            "Epoch 41/50\n",
            "1/1 [==============================] - 0s 12ms/step - loss: 0.4506 - accuracy: 0.9286\n",
            "Epoch 42/50\n",
            "1/1 [==============================] - 0s 12ms/step - loss: 0.4487 - accuracy: 0.9286\n",
            "Epoch 43/50\n",
            "1/1 [==============================] - 0s 10ms/step - loss: 0.4468 - accuracy: 1.0000\n",
            "Epoch 44/50\n",
            "1/1 [==============================] - 0s 11ms/step - loss: 0.4449 - accuracy: 1.0000\n",
            "Epoch 45/50\n",
            "1/1 [==============================] - 0s 9ms/step - loss: 0.4430 - accuracy: 1.0000\n",
            "Epoch 46/50\n",
            "1/1 [==============================] - 0s 11ms/step - loss: 0.4411 - accuracy: 1.0000\n",
            "Epoch 47/50\n",
            "1/1 [==============================] - 0s 11ms/step - loss: 0.4392 - accuracy: 1.0000\n",
            "Epoch 48/50\n",
            "1/1 [==============================] - 0s 11ms/step - loss: 0.4373 - accuracy: 1.0000\n",
            "Epoch 49/50\n",
            "1/1 [==============================] - 0s 9ms/step - loss: 0.4354 - accuracy: 1.0000\n",
            "Epoch 50/50\n",
            "1/1 [==============================] - 0s 9ms/step - loss: 0.4335 - accuracy: 1.0000\n"
          ]
        },
        {
          "output_type": "execute_result",
          "data": {
            "text/plain": [
              "<keras.callbacks.History at 0x7c2c7ef34340>"
            ]
          },
          "metadata": {},
          "execution_count": 15
        }
      ]
    },
    {
      "cell_type": "code",
      "source": [
        "loss, accuracy = model.evaluate(X,Y)"
      ],
      "metadata": {
        "colab": {
          "base_uri": "https://localhost:8080/"
        },
        "id": "3D5aloI6atQl",
        "outputId": "9a1a9deb-242d-4198-b88b-05e3708200e5"
      },
      "execution_count": null,
      "outputs": [
        {
          "output_type": "stream",
          "name": "stdout",
          "text": [
            "1/1 [==============================] - 0s 26ms/step - loss: 0.4317 - accuracy: 1.0000\n"
          ]
        }
      ]
    },
    {
      "cell_type": "code",
      "source": [
        "weights = model.get_layer('embedding').get_weights()[0]"
      ],
      "metadata": {
        "id": "SQLCmok7a8Ck"
      },
      "execution_count": null,
      "outputs": []
    },
    {
      "cell_type": "code",
      "source": [
        "weights[47]"
      ],
      "metadata": {
        "id": "Lvagt_zJcqvD",
        "colab": {
          "base_uri": "https://localhost:8080/"
        },
        "outputId": "9c722f4a-2d45-496e-fe14-beeb003774ce"
      },
      "execution_count": null,
      "outputs": [
        {
          "output_type": "execute_result",
          "data": {
            "text/plain": [
              "array([-0.19431162,  0.12276457, -0.17403208,  0.16916366,  0.12196428],\n",
              "      dtype=float32)"
            ]
          },
          "metadata": {},
          "execution_count": 21
        }
      ]
    },
    {
      "cell_type": "code",
      "source": [
        "weights[5]"
      ],
      "metadata": {
        "colab": {
          "base_uri": "https://localhost:8080/"
        },
        "id": "SWPzzyLX-k6k",
        "outputId": "69cf81ba-63a2-4722-9adb-fd40b4735a1e"
      },
      "execution_count": null,
      "outputs": [
        {
          "output_type": "execute_result",
          "data": {
            "text/plain": [
              "array([-0.10960162,  0.14833297, -0.17183144,  0.10908185,  0.19557904],\n",
              "      dtype=float32)"
            ]
          },
          "metadata": {},
          "execution_count": 20
        }
      ]
    },
    {
      "cell_type": "code",
      "source": [],
      "metadata": {
        "id": "X2v6kN0v-0UE"
      },
      "execution_count": null,
      "outputs": []
    }
  ]
}