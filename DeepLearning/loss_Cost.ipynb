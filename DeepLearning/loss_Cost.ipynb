{
 "cells": [
  {
   "cell_type": "code",
   "execution_count": 1,
   "source": [
    "import numpy as np\r\n",
    "y_predicted = np.array([1,1,0,0,1])\r\n",
    "y_true=np.array([0.30,0.7,1,0,0.5])"
   ],
   "outputs": [],
   "metadata": {}
  },
  {
   "cell_type": "code",
   "execution_count": 8,
   "source": [
    "def mean_Absolute_error(y_predicted, y_true):\r\n",
    "    total_error=0\r\n",
    "    #using zip function to iterate through two arrays\r\n",
    "    for yt,yp in zip(y_true,y_predicted):\r\n",
    "        total_error += abs(yt-yp)\r\n",
    "    print('Total Error:',total_error)\r\n",
    "\r\n",
    "    mae = total_error/len(y_true)\r\n",
    "    print('Mean Absolute Error:',mae)\r\n",
    "    return mae    \r\n"
   ],
   "outputs": [],
   "metadata": {}
  },
  {
   "cell_type": "code",
   "execution_count": 9,
   "source": [
    "mean_Absolute_error(y_predicted,y_true)"
   ],
   "outputs": [
    {
     "output_type": "stream",
     "name": "stdout",
     "text": [
      "Total Error: 2.5\n",
      "Mean Absolute Error: 0.5\n"
     ]
    },
    {
     "output_type": "execute_result",
     "data": {
      "text/plain": [
       "0.5"
      ]
     },
     "metadata": {},
     "execution_count": 9
    }
   ],
   "metadata": {}
  },
  {
   "cell_type": "code",
   "execution_count": 11,
   "source": [
    "#using numpy to implement the same error\r\n",
    "np.mean(np.abs(y_true-y_predicted))"
   ],
   "outputs": [
    {
     "output_type": "execute_result",
     "data": {
      "text/plain": [
       "0.5"
      ]
     },
     "metadata": {},
     "execution_count": 11
    }
   ],
   "metadata": {}
  },
  {
   "cell_type": "code",
   "execution_count": 12,
   "source": [
    "# log loss error\r\n",
    "\r\n",
    "epsilon = 1e-15\r\n",
    "# replacing 0 with some value close to 0\r\n",
    "y_predicted_new = [max(i,epsilon) for i in y_predicted]\r\n",
    "y_predicted_new\r\n",
    "# replacing 1 with value close to 1\r\n",
    "y_predicted_new = [min(i,1-epsilon) for i in y_predicted_new]\r\n",
    "\r\n",
    "y_predicted_new\r\n",
    "# converting this python list into a numpy array because we used list comprehension previously\r\n",
    "y_predicted_new=np.array(y_predicted_new)\r\n",
    "-np.mean(y_true*np.log(y_predicted_new)+(1-y_true)*np.log(1-y_predicted_new))"
   ],
   "outputs": [
    {
     "output_type": "execute_result",
     "data": {
      "text/plain": [
       "[1, 1, 1e-15, 1e-15, 1]"
      ]
     },
     "metadata": {},
     "execution_count": 12
    }
   ],
   "metadata": {}
  },
  {
   "cell_type": "code",
   "execution_count": null,
   "source": [],
   "outputs": [],
   "metadata": {}
  }
 ],
 "metadata": {
  "orig_nbformat": 4,
  "language_info": {
   "name": "python",
   "version": "3.11.3",
   "mimetype": "text/x-python",
   "codemirror_mode": {
    "name": "ipython",
    "version": 3
   },
   "pygments_lexer": "ipython3",
   "nbconvert_exporter": "python",
   "file_extension": ".py"
  },
  "kernelspec": {
   "name": "python3",
   "display_name": "Python 3.11.3 64-bit"
  },
  "interpreter": {
   "hash": "76ad95f14593b0a2fc24d0a09d92258fca1e0075874122d58dd1bae94a601e54"
  }
 },
 "nbformat": 4,
 "nbformat_minor": 2
}