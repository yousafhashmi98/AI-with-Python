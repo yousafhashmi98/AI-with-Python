{
  "nbformat": 4,
  "nbformat_minor": 0,
  "metadata": {
    "colab": {
      "provenance": [],
      "gpuType": "T4"
    },
    "kernelspec": {
      "name": "python3",
      "display_name": "Python 3"
    },
    "language_info": {
      "name": "python"
    },
    "accelerator": "GPU"
  },
  "cells": [
    {
      "cell_type": "code",
      "execution_count": null,
      "metadata": {
        "colab": {
          "base_uri": "https://localhost:8080/"
        },
        "id": "tqZzOL7b6FmU",
        "outputId": "4ed01340-a084-4748-84f8-1c43736235fb"
      },
      "outputs": [
        {
          "output_type": "stream",
          "name": "stdout",
          "text": [
            "Mounted at /content/gdrive\n"
          ]
        }
      ],
      "source": [
        "from google.colab import drive\n",
        "\n",
        "drive.mount('/content/gdrive')"
      ]
    },
    {
      "cell_type": "code",
      "source": [
        "import tensorflow as tf\n",
        "from tensorflow import keras\n",
        "import matplotlib.pyplot as plt\n",
        "import numpy as np"
      ],
      "metadata": {
        "id": "seD9g_NR6YaC"
      },
      "execution_count": null,
      "outputs": []
    },
    {
      "cell_type": "code",
      "source": [
        "tf.config.experimental.list_logical_devices()"
      ],
      "metadata": {
        "colab": {
          "base_uri": "https://localhost:8080/"
        },
        "id": "UooNc6Ns7KKT",
        "outputId": "cdffc4e3-e2d5-453d-f46b-b44f0f89618a"
      },
      "execution_count": null,
      "outputs": [
        {
          "output_type": "execute_result",
          "data": {
            "text/plain": [
              "[LogicalDevice(name='/device:CPU:0', device_type='CPU'),\n",
              " LogicalDevice(name='/device:GPU:0', device_type='GPU')]"
            ]
          },
          "metadata": {},
          "execution_count": 26
        }
      ]
    },
    {
      "cell_type": "code",
      "source": [
        "tf.test.is_built_with_cuda()"
      ],
      "metadata": {
        "colab": {
          "base_uri": "https://localhost:8080/"
        },
        "id": "KLWyhmxu7OmA",
        "outputId": "49b36999-bf6d-4385-d4e8-fe737074e203"
      },
      "execution_count": null,
      "outputs": [
        {
          "output_type": "execute_result",
          "data": {
            "text/plain": [
              "True"
            ]
          },
          "metadata": {},
          "execution_count": 27
        }
      ]
    },
    {
      "cell_type": "code",
      "source": [
        "print(tf.__version__)"
      ],
      "metadata": {
        "colab": {
          "base_uri": "https://localhost:8080/"
        },
        "id": "O_PqE7Hl7RfB",
        "outputId": "7cd6e802-1524-4883-db87-eaa48854ad30"
      },
      "execution_count": null,
      "outputs": [
        {
          "output_type": "stream",
          "name": "stdout",
          "text": [
            "2.12.0\n"
          ]
        }
      ]
    },
    {
      "cell_type": "code",
      "source": [
        "(X_train, y_train), (X_test,y_test) = tf.keras.datasets.cifar10.load_data()"
      ],
      "metadata": {
        "id": "NkvX7FEH7XHJ"
      },
      "execution_count": null,
      "outputs": []
    },
    {
      "cell_type": "code",
      "source": [
        "X_test.shape"
      ],
      "metadata": {
        "colab": {
          "base_uri": "https://localhost:8080/"
        },
        "id": "dkx3mN2a7Zro",
        "outputId": "bb1ffd71-9b2c-4b8e-fbeb-c3120f316dcf"
      },
      "execution_count": null,
      "outputs": [
        {
          "output_type": "execute_result",
          "data": {
            "text/plain": [
              "(10000, 32, 32, 3)"
            ]
          },
          "metadata": {},
          "execution_count": 29
        }
      ]
    },
    {
      "cell_type": "code",
      "source": [
        "X_train.shape"
      ],
      "metadata": {
        "colab": {
          "base_uri": "https://localhost:8080/"
        },
        "id": "QSmAYFgm7bsQ",
        "outputId": "a8b958d5-aed3-4030-82c8-66a4976c273a"
      },
      "execution_count": null,
      "outputs": [
        {
          "output_type": "execute_result",
          "data": {
            "text/plain": [
              "(50000, 32, 32, 3)"
            ]
          },
          "metadata": {},
          "execution_count": 30
        }
      ]
    },
    {
      "cell_type": "code",
      "source": [
        "X_train[0][0][0]"
      ],
      "metadata": {
        "colab": {
          "base_uri": "https://localhost:8080/"
        },
        "id": "gAKg7txJ7fVk",
        "outputId": "12a1f1c2-b65b-4286-e091-ac29aeae95b6"
      },
      "execution_count": null,
      "outputs": [
        {
          "output_type": "execute_result",
          "data": {
            "text/plain": [
              "array([59, 62, 63], dtype=uint8)"
            ]
          },
          "metadata": {},
          "execution_count": 31
        }
      ]
    },
    {
      "cell_type": "code",
      "source": [
        "classes = [\"airplane\",\"automobile\",\"bird\",\"cat\",\"deer\",\"dog\",\"frog\",\"horse\",\"ship\",\"truck\"]"
      ],
      "metadata": {
        "id": "VC_Fo1gz7hbh"
      },
      "execution_count": null,
      "outputs": []
    },
    {
      "cell_type": "code",
      "source": [
        "y_train[809][0]"
      ],
      "metadata": {
        "colab": {
          "base_uri": "https://localhost:8080/"
        },
        "id": "kZlk8gRc7kOZ",
        "outputId": "fa48978f-0f11-46ad-a382-d162a37cb020"
      },
      "execution_count": null,
      "outputs": [
        {
          "output_type": "execute_result",
          "data": {
            "text/plain": [
              "3"
            ]
          },
          "metadata": {},
          "execution_count": 33
        }
      ]
    },
    {
      "cell_type": "code",
      "source": [
        "classes[y_train[809][0]]"
      ],
      "metadata": {
        "colab": {
          "base_uri": "https://localhost:8080/",
          "height": 35
        },
        "id": "2KIPCpAY7mwp",
        "outputId": "04218736-ea33-4041-b451-9213553265ae"
      },
      "execution_count": null,
      "outputs": [
        {
          "output_type": "execute_result",
          "data": {
            "text/plain": [
              "'cat'"
            ],
            "application/vnd.google.colaboratory.intrinsic+json": {
              "type": "string"
            }
          },
          "metadata": {},
          "execution_count": 34
        }
      ]
    },
    {
      "cell_type": "code",
      "source": [
        "X_train_scaled = X_train/255\n",
        "X_test_scaled = X_test/255"
      ],
      "metadata": {
        "id": "219WI0677ph_"
      },
      "execution_count": null,
      "outputs": []
    },
    {
      "cell_type": "code",
      "source": [
        "X_test_scaled[0][0]"
      ],
      "metadata": {
        "colab": {
          "base_uri": "https://localhost:8080/"
        },
        "id": "vPhnUSwQCSi9",
        "outputId": "6f0927b3-427d-40c6-d7fc-cd9c63e87ad8"
      },
      "execution_count": null,
      "outputs": [
        {
          "output_type": "execute_result",
          "data": {
            "text/plain": [
              "array([[0.61960784, 0.43921569, 0.19215686],\n",
              "       [0.62352941, 0.43529412, 0.18431373],\n",
              "       [0.64705882, 0.45490196, 0.2       ],\n",
              "       [0.65098039, 0.4627451 , 0.20784314],\n",
              "       [0.62745098, 0.43921569, 0.18039216],\n",
              "       [0.61176471, 0.42745098, 0.16078431],\n",
              "       [0.63529412, 0.45098039, 0.18431373],\n",
              "       [0.62352941, 0.44313725, 0.17647059],\n",
              "       [0.61960784, 0.43529412, 0.17254902],\n",
              "       [0.62352941, 0.44313725, 0.16078431],\n",
              "       [0.63137255, 0.45490196, 0.16078431],\n",
              "       [0.62745098, 0.43529412, 0.20392157],\n",
              "       [0.63137255, 0.43529412, 0.19215686],\n",
              "       [0.65098039, 0.45882353, 0.16078431],\n",
              "       [0.6627451 , 0.45882353, 0.17647059],\n",
              "       [0.66666667, 0.46666667, 0.17254902],\n",
              "       [0.65490196, 0.45882353, 0.15686275],\n",
              "       [0.63529412, 0.44313725, 0.14901961],\n",
              "       [0.62745098, 0.43529412, 0.15294118],\n",
              "       [0.62745098, 0.43921569, 0.16862745],\n",
              "       [0.61176471, 0.42745098, 0.17254902],\n",
              "       [0.58431373, 0.41960784, 0.17647059],\n",
              "       [0.58823529, 0.41960784, 0.17647059],\n",
              "       [0.58039216, 0.41568627, 0.16862745],\n",
              "       [0.58431373, 0.41960784, 0.17254902],\n",
              "       [0.56078431, 0.39607843, 0.15294118],\n",
              "       [0.54901961, 0.38431373, 0.16862745],\n",
              "       [0.55294118, 0.38039216, 0.16078431],\n",
              "       [0.56078431, 0.38039216, 0.14901961],\n",
              "       [0.5372549 , 0.37254902, 0.14117647],\n",
              "       [0.49411765, 0.35686275, 0.14117647],\n",
              "       [0.45490196, 0.33333333, 0.12941176]])"
            ]
          },
          "metadata": {},
          "execution_count": 39
        }
      ]
    },
    {
      "cell_type": "code",
      "source": [
        "# for this classification problem, we do one hot encoding on y-train and y_test arrays\n",
        "\n",
        "y_train_categorical = tf.keras.utils.to_categorical(y_train, num_classes=10, dtype='float32')\n",
        "y_test_categorical = tf.keras.utils.to_categorical(y_test, num_classes=10, dtype='float32')\n"
      ],
      "metadata": {
        "id": "aGr-jcPW7rpf"
      },
      "execution_count": null,
      "outputs": []
    },
    {
      "cell_type": "code",
      "source": [
        "y_train_categorical[0]"
      ],
      "metadata": {
        "colab": {
          "base_uri": "https://localhost:8080/"
        },
        "id": "43h6v7K07uar",
        "outputId": "a0afe8f4-d497-4c12-d10b-e34b52f21813"
      },
      "execution_count": null,
      "outputs": [
        {
          "output_type": "execute_result",
          "data": {
            "text/plain": [
              "array([0., 0., 0., 0., 0., 0., 1., 0., 0., 0.], dtype=float32)"
            ]
          },
          "metadata": {},
          "execution_count": 17
        }
      ]
    },
    {
      "cell_type": "code",
      "source": [
        "model = keras.Sequential([\n",
        "    # for neural netwrok we need to flatten the 2-d array into a 1-d array\n",
        "    keras.layers.Flatten(input_shape=(32,32,3)),\n",
        "\n",
        "    #hidden layers\n",
        "    keras.layers.Dense(3000, activation='relu'),\n",
        "    keras.layers.Dense(1000, activation='relu'),\n",
        "\n",
        "    # output layer with 10 neurons as our dataset has 10 classes\n",
        "    keras.layers.Dense(10, activation = 'sigmoid')\n",
        "\n",
        "])\n",
        "\n",
        "# using 'categorical_crossentropy' loss function because our label data is one hot encoded\n",
        "# if our label data was a descrete value, we would use 'sparse_categorical_crossentropy'\n",
        "# using SGD as optimizer because dataset is of large size\n",
        "\n",
        "model.compile(optimizer='SGD',\n",
        "loss='categorical_crossentropy',\n",
        "metrics=['accuracy'])\n",
        "\n",
        "model.fit(X_train_scaled, y_train_categorical, epochs=50 )"
      ],
      "metadata": {
        "colab": {
          "base_uri": "https://localhost:8080/"
        },
        "id": "SipiKShX7wpH",
        "outputId": "a8f9de1a-c65e-42ae-d493-0d451f6218eb"
      },
      "execution_count": null,
      "outputs": [
        {
          "output_type": "stream",
          "name": "stdout",
          "text": [
            "Epoch 1/50\n",
            "1563/1563 [==============================] - 11s 6ms/step - loss: 1.8080 - accuracy: 0.3544\n",
            "Epoch 2/50\n",
            "1563/1563 [==============================] - 10s 7ms/step - loss: 1.6210 - accuracy: 0.4263\n",
            "Epoch 3/50\n",
            "1563/1563 [==============================] - 11s 7ms/step - loss: 1.5430 - accuracy: 0.4535\n",
            "Epoch 4/50\n",
            "1563/1563 [==============================] - 10s 6ms/step - loss: 1.4806 - accuracy: 0.4799\n",
            "Epoch 5/50\n",
            "1563/1563 [==============================] - 10s 7ms/step - loss: 1.4311 - accuracy: 0.4966\n",
            "Epoch 6/50\n",
            "1563/1563 [==============================] - 11s 7ms/step - loss: 1.3895 - accuracy: 0.5111\n",
            "Epoch 7/50\n",
            "1563/1563 [==============================] - 10s 6ms/step - loss: 1.3503 - accuracy: 0.5253\n",
            "Epoch 8/50\n",
            "1563/1563 [==============================] - 11s 7ms/step - loss: 1.3153 - accuracy: 0.5390\n",
            "Epoch 9/50\n",
            "1563/1563 [==============================] - 11s 7ms/step - loss: 1.2815 - accuracy: 0.5502\n",
            "Epoch 10/50\n",
            "1563/1563 [==============================] - 10s 6ms/step - loss: 1.2522 - accuracy: 0.5629\n",
            "Epoch 11/50\n",
            "1563/1563 [==============================] - 10s 7ms/step - loss: 1.2243 - accuracy: 0.5713\n",
            "Epoch 12/50\n",
            "1563/1563 [==============================] - 10s 7ms/step - loss: 1.1919 - accuracy: 0.5827\n",
            "Epoch 13/50\n",
            "1563/1563 [==============================] - 10s 6ms/step - loss: 1.1655 - accuracy: 0.5922\n",
            "Epoch 14/50\n",
            "1563/1563 [==============================] - 11s 7ms/step - loss: 1.1394 - accuracy: 0.6011\n",
            "Epoch 15/50\n",
            "1563/1563 [==============================] - 10s 6ms/step - loss: 1.1125 - accuracy: 0.6118\n",
            "Epoch 16/50\n",
            "1563/1563 [==============================] - 10s 7ms/step - loss: 1.0861 - accuracy: 0.6198\n",
            "Epoch 17/50\n",
            "1563/1563 [==============================] - 11s 7ms/step - loss: 1.0625 - accuracy: 0.6287\n",
            "Epoch 18/50\n",
            "1563/1563 [==============================] - 10s 7ms/step - loss: 1.0361 - accuracy: 0.6386\n",
            "Epoch 19/50\n",
            "1563/1563 [==============================] - 11s 7ms/step - loss: 1.0094 - accuracy: 0.6491\n",
            "Epoch 20/50\n",
            "1563/1563 [==============================] - 10s 7ms/step - loss: 0.9862 - accuracy: 0.6576\n",
            "Epoch 21/50\n",
            "1563/1563 [==============================] - 10s 6ms/step - loss: 0.9600 - accuracy: 0.6688\n",
            "Epoch 22/50\n",
            "1563/1563 [==============================] - 10s 7ms/step - loss: 0.9331 - accuracy: 0.6775\n",
            "Epoch 23/50\n",
            "1563/1563 [==============================] - 10s 6ms/step - loss: 0.9092 - accuracy: 0.6878\n",
            "Epoch 24/50\n",
            "1563/1563 [==============================] - 10s 7ms/step - loss: 0.8838 - accuracy: 0.6935\n",
            "Epoch 25/50\n",
            "1563/1563 [==============================] - 10s 7ms/step - loss: 0.8552 - accuracy: 0.7073\n",
            "Epoch 26/50\n",
            "1563/1563 [==============================] - 10s 6ms/step - loss: 0.8306 - accuracy: 0.7148\n",
            "Epoch 27/50\n",
            "1563/1563 [==============================] - 12s 7ms/step - loss: 0.8066 - accuracy: 0.7222\n",
            "Epoch 28/50\n",
            "1563/1563 [==============================] - 10s 7ms/step - loss: 0.7827 - accuracy: 0.7308\n",
            "Epoch 29/50\n",
            "1563/1563 [==============================] - 10s 7ms/step - loss: 0.7551 - accuracy: 0.7428\n",
            "Epoch 30/50\n",
            "1563/1563 [==============================] - 10s 6ms/step - loss: 0.7319 - accuracy: 0.7480\n",
            "Epoch 31/50\n",
            "1563/1563 [==============================] - 10s 6ms/step - loss: 0.7068 - accuracy: 0.7600\n",
            "Epoch 32/50\n",
            "1563/1563 [==============================] - 11s 7ms/step - loss: 0.6818 - accuracy: 0.7675\n",
            "Epoch 33/50\n",
            "1563/1563 [==============================] - 10s 7ms/step - loss: 0.6585 - accuracy: 0.7783\n",
            "Epoch 34/50\n",
            "1563/1563 [==============================] - 10s 7ms/step - loss: 0.6345 - accuracy: 0.7860\n",
            "Epoch 35/50\n",
            "1563/1563 [==============================] - 10s 7ms/step - loss: 0.6102 - accuracy: 0.7954\n",
            "Epoch 36/50\n",
            "1563/1563 [==============================] - 10s 6ms/step - loss: 0.5877 - accuracy: 0.8030\n",
            "Epoch 37/50\n",
            "1563/1563 [==============================] - 10s 7ms/step - loss: 0.5616 - accuracy: 0.8131\n",
            "Epoch 38/50\n",
            "1563/1563 [==============================] - 10s 6ms/step - loss: 0.5397 - accuracy: 0.8206\n",
            "Epoch 39/50\n",
            "1563/1563 [==============================] - 10s 6ms/step - loss: 0.5187 - accuracy: 0.8273\n",
            "Epoch 40/50\n",
            "1563/1563 [==============================] - 10s 6ms/step - loss: 0.4909 - accuracy: 0.8399\n",
            "Epoch 41/50\n",
            "1563/1563 [==============================] - 10s 6ms/step - loss: 0.4712 - accuracy: 0.8468\n",
            "Epoch 42/50\n",
            "1563/1563 [==============================] - 10s 7ms/step - loss: 0.4522 - accuracy: 0.8525\n",
            "Epoch 43/50\n",
            "1563/1563 [==============================] - 10s 7ms/step - loss: 0.4268 - accuracy: 0.8614\n",
            "Epoch 44/50\n",
            "1563/1563 [==============================] - 10s 6ms/step - loss: 0.4062 - accuracy: 0.8715\n",
            "Epoch 45/50\n",
            "1563/1563 [==============================] - 10s 6ms/step - loss: 0.3900 - accuracy: 0.8761\n",
            "Epoch 46/50\n",
            "1563/1563 [==============================] - 10s 6ms/step - loss: 0.3688 - accuracy: 0.8855\n",
            "Epoch 47/50\n",
            "1563/1563 [==============================] - 10s 7ms/step - loss: 0.3527 - accuracy: 0.8903\n",
            "Epoch 48/50\n",
            "1563/1563 [==============================] - 10s 6ms/step - loss: 0.3323 - accuracy: 0.8977\n",
            "Epoch 49/50\n",
            "1563/1563 [==============================] - 10s 7ms/step - loss: 0.3173 - accuracy: 0.9018\n",
            "Epoch 50/50\n",
            "1563/1563 [==============================] - 10s 7ms/step - loss: 0.2996 - accuracy: 0.9106\n"
          ]
        },
        {
          "output_type": "execute_result",
          "data": {
            "text/plain": [
              "<keras.callbacks.History at 0x7f49381e6da0>"
            ]
          },
          "metadata": {},
          "execution_count": 19
        }
      ]
    },
    {
      "cell_type": "code",
      "source": [
        "classes[y_test[0][0]]"
      ],
      "metadata": {
        "colab": {
          "base_uri": "https://localhost:8080/",
          "height": 35
        },
        "id": "G_B-cSMmBWV0",
        "outputId": "20e49bcd-293c-4476-910f-1a1e743ba781"
      },
      "execution_count": null,
      "outputs": [
        {
          "output_type": "execute_result",
          "data": {
            "text/plain": [
              "'cat'"
            ],
            "application/vnd.google.colaboratory.intrinsic+json": {
              "type": "string"
            }
          },
          "metadata": {},
          "execution_count": 23
        }
      ]
    },
    {
      "cell_type": "code",
      "source": [
        "classes[np.argmax(model.predict(X_test_scaled)[0])]"
      ],
      "metadata": {
        "colab": {
          "base_uri": "https://localhost:8080/",
          "height": 53
        },
        "id": "jF1ApftRBceb",
        "outputId": "27c65c37-721c-4cd6-94af-cf493f118254"
      },
      "execution_count": null,
      "outputs": [
        {
          "output_type": "stream",
          "name": "stdout",
          "text": [
            "313/313 [==============================] - 1s 2ms/step\n"
          ]
        },
        {
          "output_type": "execute_result",
          "data": {
            "text/plain": [
              "'cat'"
            ],
            "application/vnd.google.colaboratory.intrinsic+json": {
              "type": "string"
            }
          },
          "metadata": {},
          "execution_count": 41
        }
      ]
    },
    {
      "cell_type": "code",
      "source": [
        "def getModel():\n",
        "  model = keras.Sequential([\n",
        "    # for neural netwrok we need to flatten the 2-d array into a 1-d array\n",
        "    keras.layers.Flatten(input_shape=(32,32,3)),\n",
        "\n",
        "    #hidden layers\n",
        "    keras.layers.Dense(3000, activation='relu'),\n",
        "    keras.layers.Dense(1000, activation='relu'),\n",
        "\n",
        "    # output layer with 10 neurons as our dataset has 10 classes\n",
        "    keras.layers.Dense(10, activation = 'sigmoid')\n",
        "\n",
        "  ])\n",
        "\n",
        "  # using 'categorical_crossentropy' loss function because our label data is one hot encoded\n",
        "  # if our label data was a descrete value, we would use 'sparse_categorical_crossentropy'\n",
        "  # using SGD as optimizer because dataset is of large size\n",
        "\n",
        "  model.compile(optimizer='SGD',\n",
        "  loss='categorical_crossentropy',\n",
        "  metrics=['accuracy'])\n",
        "\n",
        "  return model\n",
        "\n"
      ],
      "metadata": {
        "id": "4YFG_SBLB--D"
      },
      "execution_count": null,
      "outputs": []
    },
    {
      "cell_type": "code",
      "source": [
        "%%timeit -n1 -r1\n",
        "with tf.device('/CPU:0'):\n",
        "  cpu_model = getModel()\n",
        "  cpu_model.fit(X_train_scaled, y_train_categorical, epochs=1)\n"
      ],
      "metadata": {
        "colab": {
          "base_uri": "https://localhost:8080/"
        },
        "id": "BjBQeH_tDpL5",
        "outputId": "c9dfd06f-4657-499e-9d16-8d84213860b5"
      },
      "execution_count": null,
      "outputs": [
        {
          "output_type": "stream",
          "name": "stdout",
          "text": [
            "1563/1563 [==============================] - 149s 95ms/step - loss: 1.8099 - accuracy: 0.3570\n",
            "3min 25s ± 0 ns per loop (mean ± std. dev. of 1 run, 1 loop each)\n"
          ]
        }
      ]
    },
    {
      "cell_type": "code",
      "source": [
        "%%timeit -n1 -r1\n",
        "with tf.device('/GPU:0'):\n",
        "  cpu_model = getModel()\n",
        "  cpu_model.fit(X_train_scaled, y_train_categorical, epochs=1)"
      ],
      "metadata": {
        "colab": {
          "base_uri": "https://localhost:8080/"
        },
        "id": "D4j7dhcmEikg",
        "outputId": "dcc10d2c-eae3-4e7c-c67d-5b1eff6bed1a"
      },
      "execution_count": null,
      "outputs": [
        {
          "output_type": "stream",
          "name": "stdout",
          "text": [
            "1563/1563 [==============================] - 10s 6ms/step - loss: 1.8121 - accuracy: 0.3552\n",
            "11.3 s ± 0 ns per loop (mean ± std. dev. of 1 run, 1 loop each)\n"
          ]
        }
      ]
    }
  ]
}