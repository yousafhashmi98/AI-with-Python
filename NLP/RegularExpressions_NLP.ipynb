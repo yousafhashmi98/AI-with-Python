{
  "nbformat": 4,
  "nbformat_minor": 0,
  "metadata": {
    "colab": {
      "provenance": []
    },
    "kernelspec": {
      "name": "python3",
      "display_name": "Python 3"
    },
    "language_info": {
      "name": "python"
    }
  },
  "cells": [
    {
      "cell_type": "code",
      "execution_count": 1,
      "metadata": {
        "id": "SBCh1z_EOL6h"
      },
      "outputs": [],
      "source": [
        "import re"
      ]
    },
    {
      "cell_type": "code",
      "source": [
        "chat1 = 'codebasics: you ask lot of questions 😠  1235678912, yousafhashmi44@gmail.com, 0900786019'\n",
        "chat2 = 'codebasics: here it is: (123)-567-8912, yousafhashmi915@yahoo.com'\n",
        "chat3 = 'codebasics: yes, phone: 1235678912 email: yousafhashmi98@hotmail.com'"
      ],
      "metadata": {
        "id": "gpMonUEbRmM2"
      },
      "execution_count": 2,
      "outputs": []
    },
    {
      "cell_type": "code",
      "source": [
        "# Regular expression to find phone numbers in any of the two formats\n",
        "re_pattern = '\\d{10}|\\(\\d{3}\\)-\\d{3}-\\d{4}'\n",
        "matches = re.findall(re_pattern, chat1)\n",
        "matches"
      ],
      "metadata": {
        "colab": {
          "base_uri": "https://localhost:8080/"
        },
        "id": "s1RFdCxBUXW-",
        "outputId": "6e3a41e9-df25-42e6-96c0-df71ff2d5c90"
      },
      "execution_count": 3,
      "outputs": [
        {
          "output_type": "execute_result",
          "data": {
            "text/plain": [
              "['1235678912', '0900786019']"
            ]
          },
          "metadata": {},
          "execution_count": 3
        }
      ]
    },
    {
      "cell_type": "code",
      "source": [
        "# Regular expression to find email addresses in any of known formats\n",
        "# any range enclosed between [] bracket denotes a character within the range. That followed by * denotes a sequence of strings. \\ followed by . is used to use . in its literal meaning\n",
        "re_pattern = '[a-zA-Z0-9_]*@[a-zA-Z0-9_]*\\.[a-zA-Z]*'\n",
        "matches = re.findall(re_pattern, chat3)\n",
        "matches"
      ],
      "metadata": {
        "colab": {
          "base_uri": "https://localhost:8080/"
        },
        "id": "poCfRz_eS98w",
        "outputId": "3833b144-215d-4ba5-de43-d79c673e3e60"
      },
      "execution_count": 4,
      "outputs": [
        {
          "output_type": "execute_result",
          "data": {
            "text/plain": [
              "['yousafhashmi98@hotmail.com']"
            ]
          },
          "metadata": {},
          "execution_count": 4
        }
      ]
    },
    {
      "cell_type": "code",
      "source": [
        "chat1='codebasics: Hello, I am having an issue with my order # 412889912'\n",
        "chat2='codebasics: I have a problem with my order number izzzzzzzzzzzzzzzzzzzzzz 412889912'\n",
        "chat3='codebasics: My order 412889912 is having an issue, I was charged 300$ when online it says 280$'\n"
      ],
      "metadata": {
        "id": "ynSiVcvcuB_y"
      },
      "execution_count": 6,
      "outputs": []
    },
    {
      "cell_type": "code",
      "source": [
        "# Regular expression to retrive order number\n",
        "# [^\\d]* denotes that any sequence of characters except digits after Keyword ORDER. () any value enclosed withing represents group and only this value is considered in the output. (\\d*) means\n",
        "# -any sequence of digits after previously restricted space for digits.\n",
        "re_pattern = \"order[^\\d]*(\\d*)\"\n",
        "matches = re.findall(re_pattern, chat2)\n",
        "matches"
      ],
      "metadata": {
        "colab": {
          "base_uri": "https://localhost:8080/"
        },
        "id": "OHktsBcJxRyf",
        "outputId": "93a20676-d773-4772-e413-5633110a2796"
      },
      "execution_count": 7,
      "outputs": [
        {
          "output_type": "execute_result",
          "data": {
            "text/plain": [
              "['412889912']"
            ]
          },
          "metadata": {},
          "execution_count": 7
        }
      ]
    },
    {
      "cell_type": "markdown",
      "source": [
        "# **Useful Text Extraction**"
      ],
      "metadata": {
        "id": "gBjOzPiKabJn"
      }
    },
    {
      "cell_type": "code",
      "source": [
        "text = '''Born\tJeffrey Preston Jorgensen\n",
        "January 12, 1964 (age 59)\n",
        "Albuquerque, New Mexico, U.S.\n",
        "Education\tPrinceton University (BSE)\n",
        "Occupations\n",
        "Entrepreneurmedia proprietorinvestorcomputer engineer\n",
        "Years active\t1986–present\n",
        "Title\n",
        "Founder and executive chairman of Amazon\n",
        "Founder of Blue Origin\n",
        "Founder of Bezos Expeditions\n",
        "Spouse\tMacKenzie Scott\n",
        "​\n",
        "​(m. 1993; div. 2019)​\n",
        "Partner(s)\tLauren Sánchez\n",
        "(2019–present)\n",
        "Children\t4\n",
        "Parents\n",
        "Jackie Bezos\n",
        "Ted Jorgensen\n",
        "Relatives\tMark Bezos (half-brother)[1]\n",
        "Signature\n",
        "'''"
      ],
      "metadata": {
        "id": "MHeGZuU_zRXw"
      },
      "execution_count": 43,
      "outputs": []
    },
    {
      "cell_type": "code",
      "source": [
        "# Finding Age\n",
        "re_pattern = \"age.(\\d+)\"\n",
        "matches = re.findall(re_pattern, text)\n",
        "matches[0]"
      ],
      "metadata": {
        "colab": {
          "base_uri": "https://localhost:8080/",
          "height": 35
        },
        "id": "I63Q3LcTbXmE",
        "outputId": "2e6730e0-9d00-49fc-e8d5-88d58e9c9ba1"
      },
      "execution_count": 44,
      "outputs": [
        {
          "output_type": "execute_result",
          "data": {
            "text/plain": [
              "'59'"
            ],
            "application/vnd.google.colaboratory.intrinsic+json": {
              "type": "string"
            }
          },
          "metadata": {},
          "execution_count": 44
        }
      ]
    },
    {
      "cell_type": "code",
      "source": [
        "# Full Name\n",
        "re_pattern = \"Born.(.*)\"\n",
        "matches = re.findall(re_pattern, text)\n",
        "matches[0]"
      ],
      "metadata": {
        "colab": {
          "base_uri": "https://localhost:8080/",
          "height": 35
        },
        "id": "cmAcb3Vpcq3m",
        "outputId": "14faa84f-b75f-4f31-ea29-5c780e031fba"
      },
      "execution_count": 45,
      "outputs": [
        {
          "output_type": "execute_result",
          "data": {
            "text/plain": [
              "'Jeffrey Preston Jorgensen'"
            ],
            "application/vnd.google.colaboratory.intrinsic+json": {
              "type": "string"
            }
          },
          "metadata": {},
          "execution_count": 45
        }
      ]
    },
    {
      "cell_type": "code",
      "source": [
        "# Finding DOB\n",
        "re_pattern = \"Born.*\\n(.*)\\(\"\n",
        "matches = re.findall(re_pattern, text)\n",
        "matches[0]"
      ],
      "metadata": {
        "colab": {
          "base_uri": "https://localhost:8080/",
          "height": 35
        },
        "id": "Sy2Y7bJVehbJ",
        "outputId": "9467197c-293c-4ce5-894a-a4fa0b9cae66"
      },
      "execution_count": 46,
      "outputs": [
        {
          "output_type": "execute_result",
          "data": {
            "text/plain": [
              "'January 12, 1964 '"
            ],
            "application/vnd.google.colaboratory.intrinsic+json": {
              "type": "string"
            }
          },
          "metadata": {},
          "execution_count": 46
        }
      ]
    },
    {
      "cell_type": "code",
      "source": [
        "# Finding Birth Place\n",
        "re_pattern = \"\\(age.*\\n(.*)\"\n",
        "matches = re.findall(re_pattern, text)\n",
        "matches[0]"
      ],
      "metadata": {
        "colab": {
          "base_uri": "https://localhost:8080/",
          "height": 35
        },
        "id": "8Sd6-FWjfggp",
        "outputId": "6fc036a4-24cc-4d10-edd2-bf3b0830e54c"
      },
      "execution_count": 47,
      "outputs": [
        {
          "output_type": "execute_result",
          "data": {
            "text/plain": [
              "'Albuquerque, New Mexico, U.S.'"
            ],
            "application/vnd.google.colaboratory.intrinsic+json": {
              "type": "string"
            }
          },
          "metadata": {},
          "execution_count": 47
        }
      ]
    },
    {
      "cell_type": "code",
      "source": [
        "\n",
        "def get_pattern_match(pattern, text):\n",
        "  matches = re.findall(pattern, text)\n",
        "  if matches:\n",
        "    return matches[0]"
      ],
      "metadata": {
        "id": "8sckO8WfgN7V"
      },
      "execution_count": 40,
      "outputs": []
    },
    {
      "cell_type": "code",
      "source": [
        "# Method to get personal Information\n",
        "\n",
        "def get_personal_info(text):\n",
        "  age = get_pattern_match('age.(\\d+)',text)\n",
        "  full_name = get_pattern_match('Born.(.*)',text)\n",
        "  dob = get_pattern_match('Born.*\\n(.*)\\(',text)\n",
        "  birth_place = get_pattern_match('\\(age.*\\n(.*)',text)\n",
        "  # Creating a python dictionary to return values with keys\n",
        "  return{\n",
        "      'Age':int(age),\n",
        "      'Name':full_name.strip(),\n",
        "      'DOB':dob.strip(),\n",
        "      'Birth Place':birth_place.strip()\n",
        "  }"
      ],
      "metadata": {
        "id": "iZb6o5b3f_6a"
      },
      "execution_count": 41,
      "outputs": []
    },
    {
      "cell_type": "code",
      "source": [
        "get_personal_info(text)"
      ],
      "metadata": {
        "colab": {
          "base_uri": "https://localhost:8080/"
        },
        "id": "YcJevMIMhUD1",
        "outputId": "f06f243c-3fb8-4f81-b93d-3d0fe369c771"
      },
      "execution_count": 48,
      "outputs": [
        {
          "output_type": "execute_result",
          "data": {
            "text/plain": [
              "{'Age': 59,\n",
              " 'Name': 'Jeffrey Preston Jorgensen',\n",
              " 'DOB': 'January 12, 1964',\n",
              " 'Birth Place': 'Albuquerque, New Mexico, U.S.'}"
            ]
          },
          "metadata": {},
          "execution_count": 48
        }
      ]
    },
    {
      "cell_type": "code",
      "source": [],
      "metadata": {
        "id": "xfyBXPF3hWjV"
      },
      "execution_count": null,
      "outputs": []
    }
  ]
}