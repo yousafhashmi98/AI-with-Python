{
  "nbformat": 4,
  "nbformat_minor": 0,
  "metadata": {
    "colab": {
      "provenance": [],
      "gpuType": "T4"
    },
    "kernelspec": {
      "name": "python3",
      "display_name": "Python 3"
    },
    "language_info": {
      "name": "python"
    },
    "accelerator": "GPU"
  },
  "cells": [
    {
      "cell_type": "code",
      "source": [
        "from google.colab import drive\n",
        "drive.mount('/content/drive')"
      ],
      "metadata": {
        "colab": {
          "base_uri": "https://localhost:8080/"
        },
        "id": "qLvbPZ0z-ViE",
        "outputId": "36d2984c-bfc3-4e9e-df0b-b0ef09d661a0"
      },
      "execution_count": null,
      "outputs": [
        {
          "output_type": "stream",
          "name": "stdout",
          "text": [
            "Mounted at /content/drive\n"
          ]
        }
      ]
    },
    {
      "cell_type": "code",
      "source": [
        "from google.colab import files\n",
        "uploaded = files.upload()\n"
      ],
      "metadata": {
        "id": "M2jrGiMo-XFC"
      },
      "execution_count": null,
      "outputs": []
    },
    {
      "cell_type": "code",
      "source": [
        "import shutil\n",
        "shutil.move(\"/content/meta\",\"/content/drive/MyDrive/DataSets/datasets/roadscene\")"
      ],
      "metadata": {
        "id": "s90u8zAQ_SG7"
      },
      "execution_count": null,
      "outputs": []
    },
    {
      "cell_type": "code",
      "source": [
        "!unzip /content/drive/MyDrive/DataSets/datasets/roadscene.zip"
      ],
      "metadata": {
        "id": "wINvUro3Abgr"
      },
      "execution_count": null,
      "outputs": []
    },
    {
      "cell_type": "code",
      "source": [
        "%cd /content/drive/MyDrive/TarDAL"
      ],
      "metadata": {
        "colab": {
          "base_uri": "https://localhost:8080/"
        },
        "id": "vj5OM8xuAf35",
        "outputId": "3a7b8496-02a6-4199-d28e-0084ccbe2040"
      },
      "execution_count": null,
      "outputs": [
        {
          "output_type": "stream",
          "name": "stdout",
          "text": [
            "/content/drive/MyDrive/TarDAL\n"
          ]
        }
      ]
    },
    {
      "cell_type": "code",
      "source": [
        "!git clone https://github.com/dlut-dimt/TarDAL.git"
      ],
      "metadata": {
        "id": "8G5qNGHDBPxa"
      },
      "execution_count": null,
      "outputs": []
    },
    {
      "cell_type": "code",
      "source": [
        "!pip install -r /content/drive/MyDrive/TarDAL/TarDAL/requirements.txt"
      ],
      "metadata": {
        "id": "Yn6yp74ABT6p"
      },
      "execution_count": null,
      "outputs": []
    },
    {
      "cell_type": "code",
      "source": [
        "%cd /content/drive/MyDrive/TarDAL/TarDAL"
      ],
      "metadata": {
        "colab": {
          "base_uri": "https://localhost:8080/"
        },
        "id": "fTVM0_0TBjE5",
        "outputId": "f2920792-e53c-43b6-a33d-55a021225a3f"
      },
      "execution_count": null,
      "outputs": [
        {
          "output_type": "stream",
          "name": "stdout",
          "text": [
            "/content/drive/MyDrive/TarDAL/TarDAL\n"
          ]
        }
      ]
    },
    {
      "cell_type": "code",
      "source": [
        "shutil.move(\"/content/drive/MyDrive/DataSets/datasets/roadscene\",\"/content/drive/MyDrive/TarDAL/TarDAL/data\")"
      ],
      "metadata": {
        "colab": {
          "base_uri": "https://localhost:8080/",
          "height": 35
        },
        "id": "eZ8dyzBrD4K5",
        "outputId": "61da842b-4aa8-4118-8eed-173a3d8d2880"
      },
      "execution_count": null,
      "outputs": [
        {
          "output_type": "execute_result",
          "data": {
            "text/plain": [
              "'/content/drive/MyDrive/TarDAL/TarDAL/data/roadscene'"
            ],
            "application/vnd.google.colaboratory.intrinsic+json": {
              "type": "string"
            }
          },
          "metadata": {},
          "execution_count": 18
        }
      ]
    },
    {
      "cell_type": "code",
      "source": [
        "!python infer.py --cfg /content/drive/MyDrive/TarDAL/TarDAL/config/official/infer/tardal-dt.yaml --save_dir runs/tardal-dt"
      ],
      "metadata": {
        "colab": {
          "base_uri": "https://localhost:8080/"
        },
        "id": "Q4HWedCuCFiI",
        "outputId": "0c0d366a-605f-4e8e-91a1-ea388cb8301c"
      },
      "execution_count": null,
      "outputs": [
        {
          "output_type": "stream",
          "name": "stdout",
          "text": [
            "2023-08-24 06:48:39,279 | infer.py[line:32] | INFO | enter fuse inference mode\n",
            "2023-08-24 06:48:39,279 | infer_f.py[line:21] | INFO | TarDAL-v1 Inference Script\n",
            "2023-08-24 06:48:39,279 | infer_f.py[line:38] | INFO | create save folder runs/tardal-dt\n",
            "2023-08-24 06:48:39,466 | roadscene.py[line:28] | INFO | load 42 images from roadscene\n",
            "2023-08-24 06:48:39,485 | checker.py[line:21] | INFO | find all images on list\n",
            "2023-08-24 06:48:39,485 | checker.py[line:73] | INFO | find suitable size for prediction\n",
            "finding suitable size: 100% 42/42 [00:14<00:00,  2.82it/s]\n",
            "2023-08-24 06:48:54,379 | checker.py[line:80] | INFO | max size in dataset: H:446 x W:606\n",
            "/usr/local/lib/python3.10/dist-packages/torch/utils/data/dataloader.py:560: UserWarning: This DataLoader will create 8 worker processes in total. Our suggested max number of worker in current system is 2, which is smaller than what this DataLoader is going to create. Please be aware that excessive worker creation might get DataLoader running slow or even freeze, lower the worker number to avoid potential slowness/freeze if necessary.\n",
            "  warnings.warn(_create_warning_msg(\n",
            "2023-08-24 06:48:54,437 | fuse.py[line:33] | INFO | deploy tardal-fuse on device cuda\n",
            "2023-08-24 06:48:54,450 | fuse.py[line:40] | INFO | init generator with (dim: 32 depth: 3)\n",
            "2023-08-24 06:48:54,450 | fuse.py[line:58] | INFO | download pretrained parameters from https://github.com/JinyuanLiu-CV/TarDAL/releases/download/v1.0.0/tardal-dt.pth\n",
            "Downloading: \"https://github.com/JinyuanLiu-CV/TarDAL/releases/download/v1.0.0/tardal-dt.pth\" to /content/drive/MyDrive/TarDAL/TarDAL/weights/v1/tardal-dt.pth\n",
            "100% 1.15M/1.15M [00:00<00:00, 19.6MB/s]\n",
            "2023-08-24 06:48:54,788 | fuse.py[line:87] | WARNING | overwriting inference.use_eval None with False\n",
            "  0%|                                                                                             | 0/6 [00:00<?, ?it/s]/usr/local/lib/python3.10/dist-packages/torchvision/transforms/functional.py:1603: UserWarning: The default value of the antialias parameter of all the resizing transforms (Resize(), RandomResizedCrop(), etc.) will change from None to True in v0.17, in order to be consistent across the PIL and Tensor backends. To suppress this warning, directly pass antialias=True (recommended, future default), antialias=None (current default, which means False for Tensors and True for PIL), or antialias=False (only works on Tensors - PIL will still use antialiasing). This also applies if you are using the inference transforms from the models weights: update the call to weights.transforms(antialias=True).\n",
            "  warnings.warn(\n",
            "/usr/local/lib/python3.10/dist-packages/torchvision/transforms/functional.py:1603: UserWarning: The default value of the antialias parameter of all the resizing transforms (Resize(), RandomResizedCrop(), etc.) will change from None to True in v0.17, in order to be consistent across the PIL and Tensor backends. To suppress this warning, directly pass antialias=True (recommended, future default), antialias=None (current default, which means False for Tensors and True for PIL), or antialias=False (only works on Tensors - PIL will still use antialiasing). This also applies if you are using the inference transforms from the models weights: update the call to weights.transforms(antialias=True).\n",
            "  warnings.warn(\n",
            "/usr/local/lib/python3.10/dist-packages/torchvision/transforms/functional.py:1603: UserWarning: The default value of the antialias parameter of all the resizing transforms (Resize(), RandomResizedCrop(), etc.) will change from None to True in v0.17, in order to be consistent across the PIL and Tensor backends. To suppress this warning, directly pass antialias=True (recommended, future default), antialias=None (current default, which means False for Tensors and True for PIL), or antialias=False (only works on Tensors - PIL will still use antialiasing). This also applies if you are using the inference transforms from the models weights: update the call to weights.transforms(antialias=True).\n",
            "  warnings.warn(\n",
            "/usr/local/lib/python3.10/dist-packages/torchvision/transforms/functional.py:1603: UserWarning: The default value of the antialias parameter of all the resizing transforms (Resize(), RandomResizedCrop(), etc.) will change from None to True in v0.17, in order to be consistent across the PIL and Tensor backends. To suppress this warning, directly pass antialias=True (recommended, future default), antialias=None (current default, which means False for Tensors and True for PIL), or antialias=False (only works on Tensors - PIL will still use antialiasing). This also applies if you are using the inference transforms from the models weights: update the call to weights.transforms(antialias=True).\n",
            "  warnings.warn(\n",
            "/usr/local/lib/python3.10/dist-packages/torchvision/transforms/functional.py:1603: UserWarning: The default value of the antialias parameter of all the resizing transforms (Resize(), RandomResizedCrop(), etc.) will change from None to True in v0.17, in order to be consistent across the PIL and Tensor backends. To suppress this warning, directly pass antialias=True (recommended, future default), antialias=None (current default, which means False for Tensors and True for PIL), or antialias=False (only works on Tensors - PIL will still use antialiasing). This also applies if you are using the inference transforms from the models weights: update the call to weights.transforms(antialias=True).\n",
            "  warnings.warn(\n",
            "/usr/local/lib/python3.10/dist-packages/torchvision/transforms/functional.py:1603: UserWarning: The default value of the antialias parameter of all the resizing transforms (Resize(), RandomResizedCrop(), etc.) will change from None to True in v0.17, in order to be consistent across the PIL and Tensor backends. To suppress this warning, directly pass antialias=True (recommended, future default), antialias=None (current default, which means False for Tensors and True for PIL), or antialias=False (only works on Tensors - PIL will still use antialiasing). This also applies if you are using the inference transforms from the models weights: update the call to weights.transforms(antialias=True).\n",
            "  warnings.warn(\n",
            "100%|█████████████████████████████████████████████████████████████████████████████████████| 6/6 [00:22<00:00,  3.77s/it]\n"
          ]
        }
      ]
    },
    {
      "cell_type": "code",
      "source": [
        "!zip -r roadscene_fusion_result.zip /content/drive/MyDrive/TarDAL/TarDAL/runs/tardal-dt"
      ],
      "metadata": {
        "id": "oROttSzRCd85",
        "colab": {
          "base_uri": "https://localhost:8080/"
        },
        "outputId": "6351ce30-2bb2-4ba4-9089-5c6987d47dee"
      },
      "execution_count": null,
      "outputs": [
        {
          "output_type": "stream",
          "name": "stdout",
          "text": [
            "  adding: content/drive/MyDrive/TarDAL/TarDAL/runs/tardal-dt/ (stored 0%)\n",
            "  adding: content/drive/MyDrive/TarDAL/TarDAL/runs/tardal-dt/001.png (deflated 6%)\n",
            "  adding: content/drive/MyDrive/TarDAL/TarDAL/runs/tardal-dt/002.png (deflated 3%)\n",
            "  adding: content/drive/MyDrive/TarDAL/TarDAL/runs/tardal-dt/003.png (deflated 6%)\n",
            "  adding: content/drive/MyDrive/TarDAL/TarDAL/runs/tardal-dt/004.png (deflated 4%)\n",
            "  adding: content/drive/MyDrive/TarDAL/TarDAL/runs/tardal-dt/005.png (deflated 2%)\n",
            "  adding: content/drive/MyDrive/TarDAL/TarDAL/runs/tardal-dt/006.png (deflated 2%)\n",
            "  adding: content/drive/MyDrive/TarDAL/TarDAL/runs/tardal-dt/007.png (deflated 3%)\n",
            "  adding: content/drive/MyDrive/TarDAL/TarDAL/runs/tardal-dt/008.png (deflated 5%)\n",
            "  adding: content/drive/MyDrive/TarDAL/TarDAL/runs/tardal-dt/009.png (deflated 2%)\n",
            "  adding: content/drive/MyDrive/TarDAL/TarDAL/runs/tardal-dt/010.png (deflated 1%)\n",
            "  adding: content/drive/MyDrive/TarDAL/TarDAL/runs/tardal-dt/011.png (deflated 3%)\n",
            "  adding: content/drive/MyDrive/TarDAL/TarDAL/runs/tardal-dt/012.png (deflated 3%)\n",
            "  adding: content/drive/MyDrive/TarDAL/TarDAL/runs/tardal-dt/013.png (deflated 3%)\n",
            "  adding: content/drive/MyDrive/TarDAL/TarDAL/runs/tardal-dt/014.png (deflated 2%)\n",
            "  adding: content/drive/MyDrive/TarDAL/TarDAL/runs/tardal-dt/015.png (deflated 2%)\n",
            "  adding: content/drive/MyDrive/TarDAL/TarDAL/runs/tardal-dt/016.png (deflated 3%)\n",
            "  adding: content/drive/MyDrive/TarDAL/TarDAL/runs/tardal-dt/017.png (deflated 1%)\n",
            "  adding: content/drive/MyDrive/TarDAL/TarDAL/runs/tardal-dt/018.png (deflated 2%)\n",
            "  adding: content/drive/MyDrive/TarDAL/TarDAL/runs/tardal-dt/019.png (deflated 2%)\n",
            "  adding: content/drive/MyDrive/TarDAL/TarDAL/runs/tardal-dt/020.png (deflated 1%)\n",
            "  adding: content/drive/MyDrive/TarDAL/TarDAL/runs/tardal-dt/021.png (deflated 1%)\n",
            "  adding: content/drive/MyDrive/TarDAL/TarDAL/runs/tardal-dt/022.png (deflated 2%)\n",
            "  adding: content/drive/MyDrive/TarDAL/TarDAL/runs/tardal-dt/023.png (deflated 3%)\n",
            "  adding: content/drive/MyDrive/TarDAL/TarDAL/runs/tardal-dt/024.png (deflated 3%)\n",
            "  adding: content/drive/MyDrive/TarDAL/TarDAL/runs/tardal-dt/025.png (deflated 2%)\n",
            "  adding: content/drive/MyDrive/TarDAL/TarDAL/runs/tardal-dt/026.png (deflated 3%)\n",
            "  adding: content/drive/MyDrive/TarDAL/TarDAL/runs/tardal-dt/027.png (deflated 5%)\n",
            "  adding: content/drive/MyDrive/TarDAL/TarDAL/runs/tardal-dt/028.png (deflated 3%)\n",
            "  adding: content/drive/MyDrive/TarDAL/TarDAL/runs/tardal-dt/029.png (deflated 2%)\n",
            "  adding: content/drive/MyDrive/TarDAL/TarDAL/runs/tardal-dt/030.png (deflated 2%)\n",
            "  adding: content/drive/MyDrive/TarDAL/TarDAL/runs/tardal-dt/031.png (deflated 2%)\n",
            "  adding: content/drive/MyDrive/TarDAL/TarDAL/runs/tardal-dt/032.png (deflated 4%)\n",
            "  adding: content/drive/MyDrive/TarDAL/TarDAL/runs/tardal-dt/033.png (deflated 5%)\n",
            "  adding: content/drive/MyDrive/TarDAL/TarDAL/runs/tardal-dt/034.png (deflated 2%)\n",
            "  adding: content/drive/MyDrive/TarDAL/TarDAL/runs/tardal-dt/035.png (deflated 1%)\n",
            "  adding: content/drive/MyDrive/TarDAL/TarDAL/runs/tardal-dt/036.png (deflated 3%)\n",
            "  adding: content/drive/MyDrive/TarDAL/TarDAL/runs/tardal-dt/037.png (deflated 8%)\n",
            "  adding: content/drive/MyDrive/TarDAL/TarDAL/runs/tardal-dt/038.png (deflated 3%)\n",
            "  adding: content/drive/MyDrive/TarDAL/TarDAL/runs/tardal-dt/039.png (deflated 5%)\n",
            "  adding: content/drive/MyDrive/TarDAL/TarDAL/runs/tardal-dt/040.png (deflated 5%)\n",
            "  adding: content/drive/MyDrive/TarDAL/TarDAL/runs/tardal-dt/041.png (deflated 4%)\n",
            "  adding: content/drive/MyDrive/TarDAL/TarDAL/runs/tardal-dt/042.png (deflated 10%)\n"
          ]
        }
      ]
    },
    {
      "cell_type": "code",
      "source": [
        "from google.colab import files\n",
        "\n",
        "files.download('/content/drive/MyDrive/TarDAL/TarDAL/roadscene_fusion_result.zip')"
      ],
      "metadata": {
        "colab": {
          "base_uri": "https://localhost:8080/",
          "height": 17
        },
        "id": "M7BIR2jhURA9",
        "outputId": "a8a31d3f-c1ac-4c37-c4f7-23dea74d33ef"
      },
      "execution_count": null,
      "outputs": [
        {
          "output_type": "display_data",
          "data": {
            "text/plain": [
              "<IPython.core.display.Javascript object>"
            ],
            "application/javascript": [
              "\n",
              "    async function download(id, filename, size) {\n",
              "      if (!google.colab.kernel.accessAllowed) {\n",
              "        return;\n",
              "      }\n",
              "      const div = document.createElement('div');\n",
              "      const label = document.createElement('label');\n",
              "      label.textContent = `Downloading \"${filename}\": `;\n",
              "      div.appendChild(label);\n",
              "      const progress = document.createElement('progress');\n",
              "      progress.max = size;\n",
              "      div.appendChild(progress);\n",
              "      document.body.appendChild(div);\n",
              "\n",
              "      const buffers = [];\n",
              "      let downloaded = 0;\n",
              "\n",
              "      const channel = await google.colab.kernel.comms.open(id);\n",
              "      // Send a message to notify the kernel that we're ready.\n",
              "      channel.send({})\n",
              "\n",
              "      for await (const message of channel.messages) {\n",
              "        // Send a message to notify the kernel that we're ready.\n",
              "        channel.send({})\n",
              "        if (message.buffers) {\n",
              "          for (const buffer of message.buffers) {\n",
              "            buffers.push(buffer);\n",
              "            downloaded += buffer.byteLength;\n",
              "            progress.value = downloaded;\n",
              "          }\n",
              "        }\n",
              "      }\n",
              "      const blob = new Blob(buffers, {type: 'application/binary'});\n",
              "      const a = document.createElement('a');\n",
              "      a.href = window.URL.createObjectURL(blob);\n",
              "      a.download = filename;\n",
              "      div.appendChild(a);\n",
              "      a.click();\n",
              "      div.remove();\n",
              "    }\n",
              "  "
            ]
          },
          "metadata": {}
        },
        {
          "output_type": "display_data",
          "data": {
            "text/plain": [
              "<IPython.core.display.Javascript object>"
            ],
            "application/javascript": [
              "download(\"download_a17ce5bc-35c2-4062-b399-a0c1d058a321\", \"roadscene_fusion_result.zip\", 10046358)"
            ]
          },
          "metadata": {}
        }
      ]
    },
    {
      "cell_type": "markdown",
      "source": [
        "# **Inference on custom DS**"
      ],
      "metadata": {
        "id": "1l31tC8OqN77"
      }
    },
    {
      "cell_type": "code",
      "source": [
        "# creating custom dataset\n",
        "import shutil\n",
        "source = \"/content/drive/MyDrive/PS_Fusion/MSRS_Dataset/MSRS/test/vi\"\n",
        "dest = \"/content/drive/MyDrive/TarDAL/TarDAL/data/testDS/vi\"\n",
        "# Copy the entire source folder and its contents to the destination folder\n",
        "shutil.copytree(source,dest,dirs_exist_ok=True)\n"
      ],
      "metadata": {
        "colab": {
          "base_uri": "https://localhost:8080/",
          "height": 35
        },
        "id": "ylNVST5OUdYb",
        "outputId": "fdc6aea6-3f2b-41e6-ab91-43d7bcfc1db2"
      },
      "execution_count": null,
      "outputs": [
        {
          "output_type": "execute_result",
          "data": {
            "text/plain": [
              "'/content/drive/MyDrive/TarDAL/TarDAL/data/testDS/vi'"
            ],
            "application/vnd.google.colaboratory.intrinsic+json": {
              "type": "string"
            }
          },
          "metadata": {},
          "execution_count": 29
        }
      ]
    },
    {
      "cell_type": "code",
      "source": [
        "\n",
        "\n",
        "import os\n",
        "\n",
        "# Specify the directory where your image files are located\n",
        "image_directory = '/content/drive/MyDrive/TarDAL/TarDAL/data/testDS/ir'\n",
        "\n",
        "# Specify the name of the text file where you want to write the image names\n",
        "text_file = '/content/drive/MyDrive/TarDAL/TarDAL/data/testDS/meta/pred.txt'\n",
        "\n",
        "# List all files in the specified directory\n",
        "image_files = [f for f in os.listdir(image_directory) if os.path.isfile(os.path.join(image_directory, f))]\n",
        "\n",
        "# Filter only image files (you can customize this filter based on file extensions)\n",
        "image_files = [f for f in image_files if f.lower().endswith(('.jpg', '.jpeg', '.png', '.gif', '.bmp'))]\n",
        "\n",
        "# Sort the image file names in numerical ascending order\n",
        "image_files.sort(key=lambda x: int(''.join(filter(str.isdigit, x))))\n",
        "\n",
        "# Write the image file names to the text file\n",
        "with open(text_file, 'w') as file:\n",
        "    for image_file in image_files:\n",
        "        file.write(image_file + '\\n')\n",
        "\n",
        "print(f\"Image file names have been written to {text_file} in numerical ascending order.\")\n"
      ],
      "metadata": {
        "id": "uB8jQimWYnFL"
      },
      "execution_count": null,
      "outputs": []
    },
    {
      "cell_type": "code",
      "source": [
        "# copying text files, containing image names\n",
        "source = \"/content/drive/MyDrive/TarDAL/TarDAL/data/roadscene/meta\"\n",
        "dest = \"/content/drive/MyDrive/TarDAL/TarDAL/data/testDS/meta\"\n",
        "# Copy the entire source folder and its contents to the destination folder\n",
        "shutil.copytree(source,dest,dirs_exist_ok=True)\n"
      ],
      "metadata": {
        "colab": {
          "base_uri": "https://localhost:8080/",
          "height": 35
        },
        "id": "wkU4UEz2boDc",
        "outputId": "286f2508-37b1-48ea-f10e-8f734b51a61f"
      },
      "execution_count": null,
      "outputs": [
        {
          "output_type": "execute_result",
          "data": {
            "text/plain": [
              "'/content/drive/MyDrive/TarDAL/TarDAL/data/testDS/meta'"
            ],
            "application/vnd.google.colaboratory.intrinsic+json": {
              "type": "string"
            }
          },
          "metadata": {},
          "execution_count": 32
        }
      ]
    },
    {
      "cell_type": "code",
      "source": [
        "!python infer.py --cfg /content/drive/MyDrive/TarDAL/TarDAL/config/official/infer/tardal-dt.yaml --save_dir runs/tardal-dt/testDS"
      ],
      "metadata": {
        "colab": {
          "base_uri": "https://localhost:8080/"
        },
        "id": "wW6rYRdneMD6",
        "outputId": "e5e03ecb-6bc6-4366-b518-43199c5977f0"
      },
      "execution_count": null,
      "outputs": [
        {
          "output_type": "stream",
          "name": "stdout",
          "text": [
            "2023-08-24 08:37:52,552 | infer.py[line:32] | INFO | enter fuse inference mode\n",
            "2023-08-24 08:37:52,552 | infer_f.py[line:21] | INFO | TarDAL-v1 Inference Script\n",
            "2023-08-24 08:37:52,552 | infer_f.py[line:38] | INFO | create save folder runs/tardal-dt/testDS\n",
            "2023-08-24 08:37:52,553 | testDS.py[line:28] | INFO | load 361 images from testDS\n",
            "2023-08-24 08:37:52,660 | checker.py[line:21] | INFO | find all images on list\n",
            "2023-08-24 08:37:52,661 | checker.py[line:73] | INFO | find suitable size for prediction\n",
            "finding suitable size: 100% 361/361 [00:02<00:00, 127.94it/s]\n",
            "2023-08-24 08:37:55,484 | checker.py[line:80] | INFO | max size in dataset: H:480 x W:640\n",
            "/usr/local/lib/python3.10/dist-packages/torch/utils/data/dataloader.py:560: UserWarning: This DataLoader will create 8 worker processes in total. Our suggested max number of worker in current system is 2, which is smaller than what this DataLoader is going to create. Please be aware that excessive worker creation might get DataLoader running slow or even freeze, lower the worker number to avoid potential slowness/freeze if necessary.\n",
            "  warnings.warn(_create_warning_msg(\n",
            "2023-08-24 08:37:55,512 | fuse.py[line:33] | INFO | deploy tardal-fuse on device cuda\n",
            "2023-08-24 08:37:55,520 | fuse.py[line:40] | INFO | init generator with (dim: 32 depth: 3)\n",
            "2023-08-24 08:37:55,520 | fuse.py[line:58] | INFO | download pretrained parameters from https://github.com/JinyuanLiu-CV/TarDAL/releases/download/v1.0.0/tardal-dt.pth\n",
            "2023-08-24 08:37:55,533 | fuse.py[line:87] | WARNING | overwriting inference.use_eval None with False\n",
            "  0%|                                                                                            | 0/46 [00:00<?, ?it/s]/usr/local/lib/python3.10/dist-packages/torchvision/transforms/functional.py:1603: UserWarning: The default value of the antialias parameter of all the resizing transforms (Resize(), RandomResizedCrop(), etc.) will change from None to True in v0.17, in order to be consistent across the PIL and Tensor backends. To suppress this warning, directly pass antialias=True (recommended, future default), antialias=None (current default, which means False for Tensors and True for PIL), or antialias=False (only works on Tensors - PIL will still use antialiasing). This also applies if you are using the inference transforms from the models weights: update the call to weights.transforms(antialias=True).\n",
            "  warnings.warn(\n",
            "/usr/local/lib/python3.10/dist-packages/torchvision/transforms/functional.py:1603: UserWarning: The default value of the antialias parameter of all the resizing transforms (Resize(), RandomResizedCrop(), etc.) will change from None to True in v0.17, in order to be consistent across the PIL and Tensor backends. To suppress this warning, directly pass antialias=True (recommended, future default), antialias=None (current default, which means False for Tensors and True for PIL), or antialias=False (only works on Tensors - PIL will still use antialiasing). This also applies if you are using the inference transforms from the models weights: update the call to weights.transforms(antialias=True).\n",
            "  warnings.warn(\n",
            "/usr/local/lib/python3.10/dist-packages/torchvision/transforms/functional.py:1603: UserWarning: The default value of the antialias parameter of all the resizing transforms (Resize(), RandomResizedCrop(), etc.) will change from None to True in v0.17, in order to be consistent across the PIL and Tensor backends. To suppress this warning, directly pass antialias=True (recommended, future default), antialias=None (current default, which means False for Tensors and True for PIL), or antialias=False (only works on Tensors - PIL will still use antialiasing). This also applies if you are using the inference transforms from the models weights: update the call to weights.transforms(antialias=True).\n",
            "  warnings.warn(\n",
            "/usr/local/lib/python3.10/dist-packages/torchvision/transforms/functional.py:1603: UserWarning: The default value of the antialias parameter of all the resizing transforms (Resize(), RandomResizedCrop(), etc.) will change from None to True in v0.17, in order to be consistent across the PIL and Tensor backends. To suppress this warning, directly pass antialias=True (recommended, future default), antialias=None (current default, which means False for Tensors and True for PIL), or antialias=False (only works on Tensors - PIL will still use antialiasing). This also applies if you are using the inference transforms from the models weights: update the call to weights.transforms(antialias=True).\n",
            "  warnings.warn(\n",
            "/usr/local/lib/python3.10/dist-packages/torchvision/transforms/functional.py:1603: UserWarning: The default value of the antialias parameter of all the resizing transforms (Resize(), RandomResizedCrop(), etc.) will change from None to True in v0.17, in order to be consistent across the PIL and Tensor backends. To suppress this warning, directly pass antialias=True (recommended, future default), antialias=None (current default, which means False for Tensors and True for PIL), or antialias=False (only works on Tensors - PIL will still use antialiasing). This also applies if you are using the inference transforms from the models weights: update the call to weights.transforms(antialias=True).\n",
            "  warnings.warn(\n",
            "/usr/local/lib/python3.10/dist-packages/torchvision/transforms/functional.py:1603: UserWarning: The default value of the antialias parameter of all the resizing transforms (Resize(), RandomResizedCrop(), etc.) will change from None to True in v0.17, in order to be consistent across the PIL and Tensor backends. To suppress this warning, directly pass antialias=True (recommended, future default), antialias=None (current default, which means False for Tensors and True for PIL), or antialias=False (only works on Tensors - PIL will still use antialiasing). This also applies if you are using the inference transforms from the models weights: update the call to weights.transforms(antialias=True).\n",
            "  warnings.warn(\n",
            "/usr/local/lib/python3.10/dist-packages/torchvision/transforms/functional.py:1603: UserWarning: The default value of the antialias parameter of all the resizing transforms (Resize(), RandomResizedCrop(), etc.) will change from None to True in v0.17, in order to be consistent across the PIL and Tensor backends. To suppress this warning, directly pass antialias=True (recommended, future default), antialias=None (current default, which means False for Tensors and True for PIL), or antialias=False (only works on Tensors - PIL will still use antialiasing). This also applies if you are using the inference transforms from the models weights: update the call to weights.transforms(antialias=True).\n",
            "  warnings.warn(\n",
            "/usr/local/lib/python3.10/dist-packages/torchvision/transforms/functional.py:1603: UserWarning: The default value of the antialias parameter of all the resizing transforms (Resize(), RandomResizedCrop(), etc.) will change from None to True in v0.17, in order to be consistent across the PIL and Tensor backends. To suppress this warning, directly pass antialias=True (recommended, future default), antialias=None (current default, which means False for Tensors and True for PIL), or antialias=False (only works on Tensors - PIL will still use antialiasing). This also applies if you are using the inference transforms from the models weights: update the call to weights.transforms(antialias=True).\n",
            "  warnings.warn(\n",
            "100%|███████████████████████████████████████████████████████████████████████████████████| 46/46 [00:45<00:00,  1.02it/s]\n"
          ]
        }
      ]
    },
    {
      "cell_type": "code",
      "source": [
        "import os\n",
        "\n",
        "# Specify the directory where your files are located\n",
        "folder_path = '/content/drive/MyDrive/TarDAL/TarDAL/data/testDS/vi'\n",
        "\n",
        "# List all files in the specified directory\n",
        "files = [f for f in os.listdir(folder_path) if os.path.isfile(os.path.join(folder_path, f))]\n",
        "\n",
        "# Sort the file names in alphabetical order\n",
        "files.sort()\n",
        "\n",
        "# Initialize a counter\n",
        "counter = 1\n",
        "\n",
        "# Iterate through the files and rename them\n",
        "for file_name in files:\n",
        "    # Get the file extension\n",
        "    _, file_extension = os.path.splitext(file_name)\n",
        "\n",
        "    # Construct the new file name as \"1.ext\", \"2.ext\", and so on\n",
        "    new_file_name = f\"{counter}{file_extension}\"\n",
        "\n",
        "    # Construct the full paths to the old and new files\n",
        "    old_file_path = os.path.join(folder_path, file_name)\n",
        "    new_file_path = os.path.join(folder_path, new_file_name)\n",
        "\n",
        "    # Rename the file\n",
        "    os.rename(old_file_path, new_file_path)\n",
        "\n",
        "    # Increment the counter\n",
        "    counter += 1\n",
        "\n",
        "print(f\"Files in {folder_path} have been renamed numerically in ascending order.\")\n"
      ],
      "metadata": {
        "colab": {
          "base_uri": "https://localhost:8080/"
        },
        "id": "kYGbcOKhhXGL",
        "outputId": "2a9c90ea-2712-4d06-e0f5-1eef9fff7dca"
      },
      "execution_count": null,
      "outputs": [
        {
          "output_type": "stream",
          "name": "stdout",
          "text": [
            "Files in /content/drive/MyDrive/TarDAL/TarDAL/data/testDS/vi have been renamed numerically in ascending order.\n"
          ]
        }
      ]
    },
    {
      "cell_type": "code",
      "source": [
        "import os\n",
        "\n",
        "# Specify the directory where your image files are located\n",
        "image_directory = '/content/drive/MyDrive/TarDAL/TarDAL/data/testDS/ir'\n",
        "\n",
        "# Specify the name of the text file where you want to write the image names\n",
        "text_file = '/content/drive/MyDrive/TarDAL/TarDAL/data/testDS/meta/pred.txt'\n",
        "\n",
        "# List all files in the specified directory\n",
        "image_files = [f for f in os.listdir(image_directory) if os.path.isfile(os.path.join(image_directory, f))]\n",
        "\n",
        "# Filter only image files (you can customize this filter based on file extensions)\n",
        "image_files = [f for f in image_files if f.lower().endswith(('.jpg', '.jpeg', '.png', '.gif', '.bmp'))]\n",
        "\n",
        "# Sort the image file names in numerical ascending order\n",
        "image_files.sort(key=lambda x: int(''.join(filter(str.isdigit, x))))\n",
        "\n",
        "# Write the image file names to the text file\n",
        "with open(text_file, 'w') as file:\n",
        "    for image_file in image_files:\n",
        "        file.write(image_file + '\\n')\n",
        "\n",
        "print(f\"Image file names have been written to {text_file} in numerical ascending order.\")\n"
      ],
      "metadata": {
        "colab": {
          "base_uri": "https://localhost:8080/"
        },
        "id": "mU7StsmSrCu7",
        "outputId": "5f3f7149-4cdf-4717-e8f4-2b27e3de065a"
      },
      "execution_count": null,
      "outputs": [
        {
          "output_type": "stream",
          "name": "stdout",
          "text": [
            "Image file names have been written to /content/drive/MyDrive/TarDAL/TarDAL/data/testDS/meta/pred.txt in numerical ascending order.\n"
          ]
        }
      ]
    },
    {
      "cell_type": "code",
      "source": [
        "!zip -r testDS_infraredImages.zip /content/drive/MyDrive/TarDAL/TarDAL/data/testDS/ir"
      ],
      "metadata": {
        "colab": {
          "base_uri": "https://localhost:8080/"
        },
        "id": "Fy7OHl-fs1sS",
        "outputId": "7471ea0e-ba84-4a82-c483-0e431e3b5b51"
      },
      "execution_count": null,
      "outputs": [
        {
          "output_type": "stream",
          "name": "stdout",
          "text": [
            "  adding: content/drive/MyDrive/TarDAL/TarDAL/data/testDS/ir/ (stored 0%)\n",
            "  adding: content/drive/MyDrive/TarDAL/TarDAL/data/testDS/ir/166.png (deflated 0%)\n",
            "  adding: content/drive/MyDrive/TarDAL/TarDAL/data/testDS/ir/23.png (deflated 0%)\n",
            "  adding: content/drive/MyDrive/TarDAL/TarDAL/data/testDS/ir/191.png (deflated 0%)\n",
            "  adding: content/drive/MyDrive/TarDAL/TarDAL/data/testDS/ir/334.png (deflated 0%)\n",
            "  adding: content/drive/MyDrive/TarDAL/TarDAL/data/testDS/ir/28.png (deflated 0%)\n",
            "  adding: content/drive/MyDrive/TarDAL/TarDAL/data/testDS/ir/243.png (deflated 0%)\n",
            "  adding: content/drive/MyDrive/TarDAL/TarDAL/data/testDS/ir/51.png (deflated 0%)\n",
            "  adding: content/drive/MyDrive/TarDAL/TarDAL/data/testDS/ir/43.png (deflated 0%)\n",
            "  adding: content/drive/MyDrive/TarDAL/TarDAL/data/testDS/ir/118.png (deflated 0%)\n",
            "  adding: content/drive/MyDrive/TarDAL/TarDAL/data/testDS/ir/158.png (deflated 0%)\n",
            "  adding: content/drive/MyDrive/TarDAL/TarDAL/data/testDS/ir/31.png (deflated 0%)\n",
            "  adding: content/drive/MyDrive/TarDAL/TarDAL/data/testDS/ir/54.png (deflated 0%)\n",
            "  adding: content/drive/MyDrive/TarDAL/TarDAL/data/testDS/ir/97.png (deflated 0%)\n",
            "  adding: content/drive/MyDrive/TarDAL/TarDAL/data/testDS/ir/291.png (deflated 0%)\n",
            "  adding: content/drive/MyDrive/TarDAL/TarDAL/data/testDS/ir/261.png (deflated 0%)\n",
            "  adding: content/drive/MyDrive/TarDAL/TarDAL/data/testDS/ir/339.png (deflated 0%)\n",
            "  adding: content/drive/MyDrive/TarDAL/TarDAL/data/testDS/ir/227.png (deflated 0%)\n",
            "  adding: content/drive/MyDrive/TarDAL/TarDAL/data/testDS/ir/27.png (deflated 0%)\n",
            "  adding: content/drive/MyDrive/TarDAL/TarDAL/data/testDS/ir/103.png (deflated 0%)\n",
            "  adding: content/drive/MyDrive/TarDAL/TarDAL/data/testDS/ir/110.png (deflated 0%)\n",
            "  adding: content/drive/MyDrive/TarDAL/TarDAL/data/testDS/ir/361.png (deflated 0%)\n",
            "  adding: content/drive/MyDrive/TarDAL/TarDAL/data/testDS/ir/231.png (deflated 0%)\n",
            "  adding: content/drive/MyDrive/TarDAL/TarDAL/data/testDS/ir/134.png (deflated 0%)\n",
            "  adding: content/drive/MyDrive/TarDAL/TarDAL/data/testDS/ir/218.png (deflated 0%)\n",
            "  adding: content/drive/MyDrive/TarDAL/TarDAL/data/testDS/ir/247.png (deflated 0%)\n",
            "  adding: content/drive/MyDrive/TarDAL/TarDAL/data/testDS/ir/342.png (deflated 0%)\n",
            "  adding: content/drive/MyDrive/TarDAL/TarDAL/data/testDS/ir/26.png (deflated 0%)\n",
            "  adding: content/drive/MyDrive/TarDAL/TarDAL/data/testDS/ir/202.png (deflated 0%)\n",
            "  adding: content/drive/MyDrive/TarDAL/TarDAL/data/testDS/ir/244.png (deflated 0%)\n",
            "  adding: content/drive/MyDrive/TarDAL/TarDAL/data/testDS/ir/188.png (deflated 0%)\n",
            "  adding: content/drive/MyDrive/TarDAL/TarDAL/data/testDS/ir/220.png (deflated 0%)\n",
            "  adding: content/drive/MyDrive/TarDAL/TarDAL/data/testDS/ir/165.png (deflated 0%)\n",
            "  adding: content/drive/MyDrive/TarDAL/TarDAL/data/testDS/ir/67.png (deflated 0%)\n",
            "  adding: content/drive/MyDrive/TarDAL/TarDAL/data/testDS/ir/232.png (deflated 0%)\n",
            "  adding: content/drive/MyDrive/TarDAL/TarDAL/data/testDS/ir/250.png (deflated 0%)\n",
            "  adding: content/drive/MyDrive/TarDAL/TarDAL/data/testDS/ir/312.png (deflated 0%)\n",
            "  adding: content/drive/MyDrive/TarDAL/TarDAL/data/testDS/ir/87.png (deflated 0%)\n",
            "  adding: content/drive/MyDrive/TarDAL/TarDAL/data/testDS/ir/61.png (deflated 0%)\n",
            "  adding: content/drive/MyDrive/TarDAL/TarDAL/data/testDS/ir/186.png (deflated 0%)\n",
            "  adding: content/drive/MyDrive/TarDAL/TarDAL/data/testDS/ir/112.png (deflated 0%)\n",
            "  adding: content/drive/MyDrive/TarDAL/TarDAL/data/testDS/ir/62.png (deflated 0%)\n",
            "  adding: content/drive/MyDrive/TarDAL/TarDAL/data/testDS/ir/269.png (deflated 0%)\n",
            "  adding: content/drive/MyDrive/TarDAL/TarDAL/data/testDS/ir/167.png (deflated 0%)\n",
            "  adding: content/drive/MyDrive/TarDAL/TarDAL/data/testDS/ir/66.png (deflated 0%)\n",
            "  adding: content/drive/MyDrive/TarDAL/TarDAL/data/testDS/ir/109.png (deflated 0%)\n",
            "  adding: content/drive/MyDrive/TarDAL/TarDAL/data/testDS/ir/106.png (deflated 0%)\n",
            "  adding: content/drive/MyDrive/TarDAL/TarDAL/data/testDS/ir/9.png (deflated 0%)\n",
            "  adding: content/drive/MyDrive/TarDAL/TarDAL/data/testDS/ir/241.png (deflated 0%)\n",
            "  adding: content/drive/MyDrive/TarDAL/TarDAL/data/testDS/ir/205.png (deflated 0%)\n",
            "  adding: content/drive/MyDrive/TarDAL/TarDAL/data/testDS/ir/304.png (deflated 0%)\n",
            "  adding: content/drive/MyDrive/TarDAL/TarDAL/data/testDS/ir/192.png (deflated 0%)\n",
            "  adding: content/drive/MyDrive/TarDAL/TarDAL/data/testDS/ir/245.png (deflated 0%)\n",
            "  adding: content/drive/MyDrive/TarDAL/TarDAL/data/testDS/ir/111.png (deflated 0%)\n",
            "  adding: content/drive/MyDrive/TarDAL/TarDAL/data/testDS/ir/113.png (deflated 0%)\n",
            "  adding: content/drive/MyDrive/TarDAL/TarDAL/data/testDS/ir/108.png (deflated 0%)\n",
            "  adding: content/drive/MyDrive/TarDAL/TarDAL/data/testDS/ir/274.png (deflated 0%)\n",
            "  adding: content/drive/MyDrive/TarDAL/TarDAL/data/testDS/ir/272.png (deflated 0%)\n",
            "  adding: content/drive/MyDrive/TarDAL/TarDAL/data/testDS/ir/149.png (deflated 0%)\n",
            "  adding: content/drive/MyDrive/TarDAL/TarDAL/data/testDS/ir/127.png (deflated 0%)\n",
            "  adding: content/drive/MyDrive/TarDAL/TarDAL/data/testDS/ir/98.png (deflated 0%)\n",
            "  adding: content/drive/MyDrive/TarDAL/TarDAL/data/testDS/ir/305.png (deflated 0%)\n",
            "  adding: content/drive/MyDrive/TarDAL/TarDAL/data/testDS/ir/317.png (deflated 0%)\n",
            "  adding: content/drive/MyDrive/TarDAL/TarDAL/data/testDS/ir/179.png (deflated 0%)\n",
            "  adding: content/drive/MyDrive/TarDAL/TarDAL/data/testDS/ir/19.png (deflated 0%)\n",
            "  adding: content/drive/MyDrive/TarDAL/TarDAL/data/testDS/ir/256.png (deflated 0%)\n",
            "  adding: content/drive/MyDrive/TarDAL/TarDAL/data/testDS/ir/180.png (deflated 0%)\n",
            "  adding: content/drive/MyDrive/TarDAL/TarDAL/data/testDS/ir/157.png (deflated 0%)\n",
            "  adding: content/drive/MyDrive/TarDAL/TarDAL/data/testDS/ir/200.png (deflated 0%)\n",
            "  adding: content/drive/MyDrive/TarDAL/TarDAL/data/testDS/ir/123.png (deflated 0%)\n",
            "  adding: content/drive/MyDrive/TarDAL/TarDAL/data/testDS/ir/70.png (deflated 0%)\n",
            "  adding: content/drive/MyDrive/TarDAL/TarDAL/data/testDS/ir/271.png (deflated 0%)\n",
            "  adding: content/drive/MyDrive/TarDAL/TarDAL/data/testDS/ir/285.png (deflated 0%)\n",
            "  adding: content/drive/MyDrive/TarDAL/TarDAL/data/testDS/ir/331.png (deflated 0%)\n",
            "  adding: content/drive/MyDrive/TarDAL/TarDAL/data/testDS/ir/60.png (deflated 0%)\n",
            "  adding: content/drive/MyDrive/TarDAL/TarDAL/data/testDS/ir/93.png (deflated 0%)\n",
            "  adding: content/drive/MyDrive/TarDAL/TarDAL/data/testDS/ir/197.png (deflated 0%)\n",
            "  adding: content/drive/MyDrive/TarDAL/TarDAL/data/testDS/ir/281.png (deflated 0%)\n",
            "  adding: content/drive/MyDrive/TarDAL/TarDAL/data/testDS/ir/187.png (deflated 0%)\n",
            "  adding: content/drive/MyDrive/TarDAL/TarDAL/data/testDS/ir/24.png (deflated 0%)\n",
            "  adding: content/drive/MyDrive/TarDAL/TarDAL/data/testDS/ir/82.png (deflated 0%)\n",
            "  adding: content/drive/MyDrive/TarDAL/TarDAL/data/testDS/ir/310.png (deflated 0%)\n",
            "  adding: content/drive/MyDrive/TarDAL/TarDAL/data/testDS/ir/74.png (deflated 0%)\n",
            "  adding: content/drive/MyDrive/TarDAL/TarDAL/data/testDS/ir/279.png (deflated 0%)\n",
            "  adding: content/drive/MyDrive/TarDAL/TarDAL/data/testDS/ir/345.png (deflated 0%)\n",
            "  adding: content/drive/MyDrive/TarDAL/TarDAL/data/testDS/ir/182.png (deflated 0%)\n",
            "  adding: content/drive/MyDrive/TarDAL/TarDAL/data/testDS/ir/251.png (deflated 0%)\n",
            "  adding: content/drive/MyDrive/TarDAL/TarDAL/data/testDS/ir/126.png (deflated 0%)\n",
            "  adding: content/drive/MyDrive/TarDAL/TarDAL/data/testDS/ir/77.png (deflated 0%)\n",
            "  adding: content/drive/MyDrive/TarDAL/TarDAL/data/testDS/ir/295.png (deflated 0%)\n",
            "  adding: content/drive/MyDrive/TarDAL/TarDAL/data/testDS/ir/41.png (deflated 0%)\n",
            "  adding: content/drive/MyDrive/TarDAL/TarDAL/data/testDS/ir/332.png (deflated 0%)\n",
            "  adding: content/drive/MyDrive/TarDAL/TarDAL/data/testDS/ir/136.png (deflated 0%)\n",
            "  adding: content/drive/MyDrive/TarDAL/TarDAL/data/testDS/ir/119.png (deflated 0%)\n",
            "  adding: content/drive/MyDrive/TarDAL/TarDAL/data/testDS/ir/234.png (deflated 0%)\n",
            "  adding: content/drive/MyDrive/TarDAL/TarDAL/data/testDS/ir/356.png (deflated 0%)\n",
            "  adding: content/drive/MyDrive/TarDAL/TarDAL/data/testDS/ir/226.png (deflated 0%)\n",
            "  adding: content/drive/MyDrive/TarDAL/TarDAL/data/testDS/ir/268.png (deflated 0%)\n",
            "  adding: content/drive/MyDrive/TarDAL/TarDAL/data/testDS/ir/337.png (deflated 0%)\n",
            "  adding: content/drive/MyDrive/TarDAL/TarDAL/data/testDS/ir/255.png (deflated 0%)\n",
            "  adding: content/drive/MyDrive/TarDAL/TarDAL/data/testDS/ir/147.png (deflated 0%)\n",
            "  adding: content/drive/MyDrive/TarDAL/TarDAL/data/testDS/ir/6.png (deflated 0%)\n",
            "  adding: content/drive/MyDrive/TarDAL/TarDAL/data/testDS/ir/324.png (deflated 0%)\n",
            "  adding: content/drive/MyDrive/TarDAL/TarDAL/data/testDS/ir/86.png (deflated 0%)\n",
            "  adding: content/drive/MyDrive/TarDAL/TarDAL/data/testDS/ir/289.png (deflated 0%)\n",
            "  adding: content/drive/MyDrive/TarDAL/TarDAL/data/testDS/ir/303.png (deflated 0%)\n",
            "  adding: content/drive/MyDrive/TarDAL/TarDAL/data/testDS/ir/172.png (deflated 0%)\n",
            "  adding: content/drive/MyDrive/TarDAL/TarDAL/data/testDS/ir/128.png (deflated 0%)\n",
            "  adding: content/drive/MyDrive/TarDAL/TarDAL/data/testDS/ir/116.png (deflated 0%)\n",
            "  adding: content/drive/MyDrive/TarDAL/TarDAL/data/testDS/ir/306.png (deflated 0%)\n",
            "  adding: content/drive/MyDrive/TarDAL/TarDAL/data/testDS/ir/349.png (deflated 0%)\n",
            "  adding: content/drive/MyDrive/TarDAL/TarDAL/data/testDS/ir/137.png (deflated 0%)\n",
            "  adding: content/drive/MyDrive/TarDAL/TarDAL/data/testDS/ir/216.png (deflated 0%)\n",
            "  adding: content/drive/MyDrive/TarDAL/TarDAL/data/testDS/ir/294.png (deflated 0%)\n",
            "  adding: content/drive/MyDrive/TarDAL/TarDAL/data/testDS/ir/3.png (deflated 0%)\n",
            "  adding: content/drive/MyDrive/TarDAL/TarDAL/data/testDS/ir/37.png (deflated 0%)\n",
            "  adding: content/drive/MyDrive/TarDAL/TarDAL/data/testDS/ir/328.png (deflated 0%)\n",
            "  adding: content/drive/MyDrive/TarDAL/TarDAL/data/testDS/ir/175.png (deflated 0%)\n",
            "  adding: content/drive/MyDrive/TarDAL/TarDAL/data/testDS/ir/318.png (deflated 0%)\n",
            "  adding: content/drive/MyDrive/TarDAL/TarDAL/data/testDS/ir/316.png (deflated 0%)\n",
            "  adding: content/drive/MyDrive/TarDAL/TarDAL/data/testDS/ir/91.png (deflated 0%)\n",
            "  adding: content/drive/MyDrive/TarDAL/TarDAL/data/testDS/ir/105.png (deflated 0%)\n",
            "  adding: content/drive/MyDrive/TarDAL/TarDAL/data/testDS/ir/40.png (deflated 0%)\n",
            "  adding: content/drive/MyDrive/TarDAL/TarDAL/data/testDS/ir/207.png (deflated 0%)\n",
            "  adding: content/drive/MyDrive/TarDAL/TarDAL/data/testDS/ir/264.png (deflated 0%)\n",
            "  adding: content/drive/MyDrive/TarDAL/TarDAL/data/testDS/ir/286.png (deflated 0%)\n",
            "  adding: content/drive/MyDrive/TarDAL/TarDAL/data/testDS/ir/275.png (deflated 0%)\n",
            "  adding: content/drive/MyDrive/TarDAL/TarDAL/data/testDS/ir/154.png (deflated 0%)\n",
            "  adding: content/drive/MyDrive/TarDAL/TarDAL/data/testDS/ir/240.png (deflated 0%)\n",
            "  adding: content/drive/MyDrive/TarDAL/TarDAL/data/testDS/ir/204.png (deflated 0%)\n",
            "  adding: content/drive/MyDrive/TarDAL/TarDAL/data/testDS/ir/46.png (deflated 0%)\n",
            "  adding: content/drive/MyDrive/TarDAL/TarDAL/data/testDS/ir/73.png (deflated 0%)\n",
            "  adding: content/drive/MyDrive/TarDAL/TarDAL/data/testDS/ir/273.png (deflated 0%)\n",
            "  adding: content/drive/MyDrive/TarDAL/TarDAL/data/testDS/ir/95.png (deflated 0%)\n",
            "  adding: content/drive/MyDrive/TarDAL/TarDAL/data/testDS/ir/300.png (deflated 0%)\n",
            "  adding: content/drive/MyDrive/TarDAL/TarDAL/data/testDS/ir/71.png (deflated 0%)\n",
            "  adding: content/drive/MyDrive/TarDAL/TarDAL/data/testDS/ir/254.png (deflated 0%)\n",
            "  adding: content/drive/MyDrive/TarDAL/TarDAL/data/testDS/ir/211.png (deflated 0%)\n",
            "  adding: content/drive/MyDrive/TarDAL/TarDAL/data/testDS/ir/84.png (deflated 0%)\n",
            "  adding: content/drive/MyDrive/TarDAL/TarDAL/data/testDS/ir/4.png (deflated 0%)\n",
            "  adding: content/drive/MyDrive/TarDAL/TarDAL/data/testDS/ir/340.png (deflated 0%)\n",
            "  adding: content/drive/MyDrive/TarDAL/TarDAL/data/testDS/ir/293.png (deflated 0%)\n",
            "  adding: content/drive/MyDrive/TarDAL/TarDAL/data/testDS/ir/348.png (deflated 0%)\n",
            "  adding: content/drive/MyDrive/TarDAL/TarDAL/data/testDS/ir/50.png (deflated 0%)\n",
            "  adding: content/drive/MyDrive/TarDAL/TarDAL/data/testDS/ir/194.png (deflated 0%)\n",
            "  adding: content/drive/MyDrive/TarDAL/TarDAL/data/testDS/ir/326.png (deflated 0%)\n",
            "  adding: content/drive/MyDrive/TarDAL/TarDAL/data/testDS/ir/129.png (deflated 0%)\n",
            "  adding: content/drive/MyDrive/TarDAL/TarDAL/data/testDS/ir/34.png (deflated 0%)\n",
            "  adding: content/drive/MyDrive/TarDAL/TarDAL/data/testDS/ir/258.png (deflated 0%)\n",
            "  adding: content/drive/MyDrive/TarDAL/TarDAL/data/testDS/ir/313.png (deflated 0%)\n",
            "  adding: content/drive/MyDrive/TarDAL/TarDAL/data/testDS/ir/201.png (deflated 0%)\n",
            "  adding: content/drive/MyDrive/TarDAL/TarDAL/data/testDS/ir/142.png (deflated 0%)\n",
            "  adding: content/drive/MyDrive/TarDAL/TarDAL/data/testDS/ir/14.png (deflated 0%)\n",
            "  adding: content/drive/MyDrive/TarDAL/TarDAL/data/testDS/ir/151.png (deflated 0%)\n",
            "  adding: content/drive/MyDrive/TarDAL/TarDAL/data/testDS/ir/143.png (deflated 0%)\n",
            "  adding: content/drive/MyDrive/TarDAL/TarDAL/data/testDS/ir/35.png (deflated 0%)\n",
            "  adding: content/drive/MyDrive/TarDAL/TarDAL/data/testDS/ir/176.png (deflated 0%)\n",
            "  adding: content/drive/MyDrive/TarDAL/TarDAL/data/testDS/ir/260.png (deflated 0%)\n",
            "  adding: content/drive/MyDrive/TarDAL/TarDAL/data/testDS/ir/196.png (deflated 0%)\n",
            "  adding: content/drive/MyDrive/TarDAL/TarDAL/data/testDS/ir/297.png (deflated 0%)\n",
            "  adding: content/drive/MyDrive/TarDAL/TarDAL/data/testDS/ir/329.png (deflated 0%)\n",
            "  adding: content/drive/MyDrive/TarDAL/TarDAL/data/testDS/ir/162.png (deflated 0%)\n",
            "  adding: content/drive/MyDrive/TarDAL/TarDAL/data/testDS/ir/346.png (deflated 0%)\n",
            "  adding: content/drive/MyDrive/TarDAL/TarDAL/data/testDS/ir/7.png (deflated 0%)\n",
            "  adding: content/drive/MyDrive/TarDAL/TarDAL/data/testDS/ir/29.png (deflated 0%)\n",
            "  adding: content/drive/MyDrive/TarDAL/TarDAL/data/testDS/ir/152.png (deflated 0%)\n",
            "  adding: content/drive/MyDrive/TarDAL/TarDAL/data/testDS/ir/223.png (deflated 0%)\n",
            "  adding: content/drive/MyDrive/TarDAL/TarDAL/data/testDS/ir/161.png (deflated 0%)\n",
            "  adding: content/drive/MyDrive/TarDAL/TarDAL/data/testDS/ir/33.png (deflated 0%)\n",
            "  adding: content/drive/MyDrive/TarDAL/TarDAL/data/testDS/ir/224.png (deflated 0%)\n",
            "  adding: content/drive/MyDrive/TarDAL/TarDAL/data/testDS/ir/100.png (deflated 0%)\n",
            "  adding: content/drive/MyDrive/TarDAL/TarDAL/data/testDS/ir/22.png (deflated 0%)\n",
            "  adding: content/drive/MyDrive/TarDAL/TarDAL/data/testDS/ir/352.png (deflated 0%)\n",
            "  adding: content/drive/MyDrive/TarDAL/TarDAL/data/testDS/ir/358.png (deflated 0%)\n",
            "  adding: content/drive/MyDrive/TarDAL/TarDAL/data/testDS/ir/79.png (deflated 0%)\n",
            "  adding: content/drive/MyDrive/TarDAL/TarDAL/data/testDS/ir/257.png (deflated 0%)\n",
            "  adding: content/drive/MyDrive/TarDAL/TarDAL/data/testDS/ir/72.png (deflated 0%)\n",
            "  adding: content/drive/MyDrive/TarDAL/TarDAL/data/testDS/ir/169.png (deflated 0%)\n",
            "  adding: content/drive/MyDrive/TarDAL/TarDAL/data/testDS/ir/265.png (deflated 0%)\n",
            "  adding: content/drive/MyDrive/TarDAL/TarDAL/data/testDS/ir/330.png (deflated 0%)\n",
            "  adding: content/drive/MyDrive/TarDAL/TarDAL/data/testDS/ir/177.png (deflated 0%)\n",
            "  adding: content/drive/MyDrive/TarDAL/TarDAL/data/testDS/ir/195.png (deflated 0%)\n",
            "  adding: content/drive/MyDrive/TarDAL/TarDAL/data/testDS/ir/92.png (deflated 0%)\n",
            "  adding: content/drive/MyDrive/TarDAL/TarDAL/data/testDS/ir/277.png (deflated 0%)\n",
            "  adding: content/drive/MyDrive/TarDAL/TarDAL/data/testDS/ir/47.png (deflated 0%)\n",
            "  adding: content/drive/MyDrive/TarDAL/TarDAL/data/testDS/ir/38.png (deflated 0%)\n",
            "  adding: content/drive/MyDrive/TarDAL/TarDAL/data/testDS/ir/88.png (deflated 0%)\n",
            "  adding: content/drive/MyDrive/TarDAL/TarDAL/data/testDS/ir/168.png (deflated 0%)\n",
            "  adding: content/drive/MyDrive/TarDAL/TarDAL/data/testDS/ir/292.png (deflated 0%)\n",
            "  adding: content/drive/MyDrive/TarDAL/TarDAL/data/testDS/ir/114.png (deflated 0%)\n",
            "  adding: content/drive/MyDrive/TarDAL/TarDAL/data/testDS/ir/139.png (deflated 0%)\n",
            "  adding: content/drive/MyDrive/TarDAL/TarDAL/data/testDS/ir/206.png (deflated 0%)\n",
            "  adding: content/drive/MyDrive/TarDAL/TarDAL/data/testDS/ir/249.png (deflated 0%)\n",
            "  adding: content/drive/MyDrive/TarDAL/TarDAL/data/testDS/ir/359.png (deflated 0%)\n",
            "  adding: content/drive/MyDrive/TarDAL/TarDAL/data/testDS/ir/351.png (deflated 0%)\n",
            "  adding: content/drive/MyDrive/TarDAL/TarDAL/data/testDS/ir/8.png (deflated 0%)\n",
            "  adding: content/drive/MyDrive/TarDAL/TarDAL/data/testDS/ir/16.png (deflated 0%)\n",
            "  adding: content/drive/MyDrive/TarDAL/TarDAL/data/testDS/ir/81.png (deflated 0%)\n",
            "  adding: content/drive/MyDrive/TarDAL/TarDAL/data/testDS/ir/55.png (deflated 0%)\n",
            "  adding: content/drive/MyDrive/TarDAL/TarDAL/data/testDS/ir/155.png (deflated 0%)\n",
            "  adding: content/drive/MyDrive/TarDAL/TarDAL/data/testDS/ir/30.png (deflated 0%)\n",
            "  adding: content/drive/MyDrive/TarDAL/TarDAL/data/testDS/ir/319.png (deflated 0%)\n",
            "  adding: content/drive/MyDrive/TarDAL/TarDAL/data/testDS/ir/270.png (deflated 0%)\n",
            "  adding: content/drive/MyDrive/TarDAL/TarDAL/data/testDS/ir/96.png (deflated 0%)\n",
            "  adding: content/drive/MyDrive/TarDAL/TarDAL/data/testDS/ir/174.png (deflated 0%)\n",
            "  adding: content/drive/MyDrive/TarDAL/TarDAL/data/testDS/ir/20.png (deflated 0%)\n",
            "  adding: content/drive/MyDrive/TarDAL/TarDAL/data/testDS/ir/164.png (deflated 0%)\n",
            "  adding: content/drive/MyDrive/TarDAL/TarDAL/data/testDS/ir/353.png (deflated 0%)\n",
            "  adding: content/drive/MyDrive/TarDAL/TarDAL/data/testDS/ir/221.png (deflated 0%)\n",
            "  adding: content/drive/MyDrive/TarDAL/TarDAL/data/testDS/ir/235.png (deflated 0%)\n",
            "  adding: content/drive/MyDrive/TarDAL/TarDAL/data/testDS/ir/85.png (deflated 0%)\n",
            "  adding: content/drive/MyDrive/TarDAL/TarDAL/data/testDS/ir/302.png (deflated 0%)\n",
            "  adding: content/drive/MyDrive/TarDAL/TarDAL/data/testDS/ir/68.png (deflated 0%)\n",
            "  adding: content/drive/MyDrive/TarDAL/TarDAL/data/testDS/ir/59.png (deflated 0%)\n",
            "  adding: content/drive/MyDrive/TarDAL/TarDAL/data/testDS/ir/5.png (deflated 0%)\n",
            "  adding: content/drive/MyDrive/TarDAL/TarDAL/data/testDS/ir/39.png (deflated 0%)\n",
            "  adding: content/drive/MyDrive/TarDAL/TarDAL/data/testDS/ir/198.png (deflated 0%)\n",
            "  adding: content/drive/MyDrive/TarDAL/TarDAL/data/testDS/ir/336.png (deflated 0%)\n",
            "  adding: content/drive/MyDrive/TarDAL/TarDAL/data/testDS/ir/13.png (deflated 0%)\n",
            "  adding: content/drive/MyDrive/TarDAL/TarDAL/data/testDS/ir/252.png (deflated 0%)\n",
            "  adding: content/drive/MyDrive/TarDAL/TarDAL/data/testDS/ir/10.png (deflated 0%)\n",
            "  adding: content/drive/MyDrive/TarDAL/TarDAL/data/testDS/ir/311.png (deflated 0%)\n",
            "  adding: content/drive/MyDrive/TarDAL/TarDAL/data/testDS/ir/203.png (deflated 0%)\n",
            "  adding: content/drive/MyDrive/TarDAL/TarDAL/data/testDS/ir/2.png (deflated 0%)\n",
            "  adding: content/drive/MyDrive/TarDAL/TarDAL/data/testDS/ir/124.png (deflated 0%)\n",
            "  adding: content/drive/MyDrive/TarDAL/TarDAL/data/testDS/ir/1.png (deflated 0%)\n",
            "  adding: content/drive/MyDrive/TarDAL/TarDAL/data/testDS/ir/262.png (deflated 0%)\n",
            "  adding: content/drive/MyDrive/TarDAL/TarDAL/data/testDS/ir/333.png (deflated 0%)\n",
            "  adding: content/drive/MyDrive/TarDAL/TarDAL/data/testDS/ir/90.png (deflated 0%)\n",
            "  adding: content/drive/MyDrive/TarDAL/TarDAL/data/testDS/ir/248.png (deflated 0%)\n",
            "  adding: content/drive/MyDrive/TarDAL/TarDAL/data/testDS/ir/278.png (deflated 0%)\n",
            "  adding: content/drive/MyDrive/TarDAL/TarDAL/data/testDS/ir/350.png (deflated 0%)\n",
            "  adding: content/drive/MyDrive/TarDAL/TarDAL/data/testDS/ir/131.png (deflated 0%)\n",
            "  adding: content/drive/MyDrive/TarDAL/TarDAL/data/testDS/ir/225.png (deflated 0%)\n",
            "  adding: content/drive/MyDrive/TarDAL/TarDAL/data/testDS/ir/153.png (deflated 0%)\n",
            "  adding: content/drive/MyDrive/TarDAL/TarDAL/data/testDS/ir/208.png (stored 0%)\n",
            "  adding: content/drive/MyDrive/TarDAL/TarDAL/data/testDS/ir/135.png (deflated 0%)\n",
            "  adding: content/drive/MyDrive/TarDAL/TarDAL/data/testDS/ir/209.png (deflated 0%)\n",
            "  adding: content/drive/MyDrive/TarDAL/TarDAL/data/testDS/ir/150.png (deflated 0%)\n",
            "  adding: content/drive/MyDrive/TarDAL/TarDAL/data/testDS/ir/357.png (deflated 0%)\n",
            "  adding: content/drive/MyDrive/TarDAL/TarDAL/data/testDS/ir/341.png (deflated 0%)\n",
            "  adding: content/drive/MyDrive/TarDAL/TarDAL/data/testDS/ir/246.png (deflated 0%)\n",
            "  adding: content/drive/MyDrive/TarDAL/TarDAL/data/testDS/ir/309.png (deflated 0%)\n",
            "  adding: content/drive/MyDrive/TarDAL/TarDAL/data/testDS/ir/159.png (deflated 0%)\n",
            "  adding: content/drive/MyDrive/TarDAL/TarDAL/data/testDS/ir/184.png (deflated 0%)\n",
            "  adding: content/drive/MyDrive/TarDAL/TarDAL/data/testDS/ir/57.png (deflated 0%)\n",
            "  adding: content/drive/MyDrive/TarDAL/TarDAL/data/testDS/ir/48.png (deflated 0%)\n",
            "  adding: content/drive/MyDrive/TarDAL/TarDAL/data/testDS/ir/325.png (deflated 0%)\n",
            "  adding: content/drive/MyDrive/TarDAL/TarDAL/data/testDS/ir/276.png (deflated 0%)\n",
            "  adding: content/drive/MyDrive/TarDAL/TarDAL/data/testDS/ir/298.png (deflated 0%)\n",
            "  adding: content/drive/MyDrive/TarDAL/TarDAL/data/testDS/ir/17.png (deflated 0%)\n",
            "  adding: content/drive/MyDrive/TarDAL/TarDAL/data/testDS/ir/156.png (deflated 0%)\n",
            "  adding: content/drive/MyDrive/TarDAL/TarDAL/data/testDS/ir/335.png (deflated 0%)\n",
            "  adding: content/drive/MyDrive/TarDAL/TarDAL/data/testDS/ir/120.png (deflated 0%)\n",
            "  adding: content/drive/MyDrive/TarDAL/TarDAL/data/testDS/ir/284.png (deflated 0%)\n",
            "  adding: content/drive/MyDrive/TarDAL/TarDAL/data/testDS/ir/314.png (deflated 0%)\n",
            "  adding: content/drive/MyDrive/TarDAL/TarDAL/data/testDS/ir/233.png (deflated 0%)\n",
            "  adding: content/drive/MyDrive/TarDAL/TarDAL/data/testDS/ir/101.png (deflated 0%)\n",
            "  adding: content/drive/MyDrive/TarDAL/TarDAL/data/testDS/ir/236.png (deflated 0%)\n",
            "  adding: content/drive/MyDrive/TarDAL/TarDAL/data/testDS/ir/163.png (deflated 0%)\n",
            "  adding: content/drive/MyDrive/TarDAL/TarDAL/data/testDS/ir/181.png (deflated 0%)\n",
            "  adding: content/drive/MyDrive/TarDAL/TarDAL/data/testDS/ir/267.png (deflated 0%)\n",
            "  adding: content/drive/MyDrive/TarDAL/TarDAL/data/testDS/ir/219.png (deflated 0%)\n",
            "  adding: content/drive/MyDrive/TarDAL/TarDAL/data/testDS/ir/178.png (deflated 0%)\n",
            "  adding: content/drive/MyDrive/TarDAL/TarDAL/data/testDS/ir/288.png (deflated 0%)\n",
            "  adding: content/drive/MyDrive/TarDAL/TarDAL/data/testDS/ir/78.png (deflated 0%)\n",
            "  adding: content/drive/MyDrive/TarDAL/TarDAL/data/testDS/ir/132.png (deflated 0%)\n",
            "  adding: content/drive/MyDrive/TarDAL/TarDAL/data/testDS/ir/146.png (deflated 0%)\n",
            "  adding: content/drive/MyDrive/TarDAL/TarDAL/data/testDS/ir/138.png (deflated 0%)\n",
            "  adding: content/drive/MyDrive/TarDAL/TarDAL/data/testDS/ir/237.png (deflated 0%)\n",
            "  adding: content/drive/MyDrive/TarDAL/TarDAL/data/testDS/ir/15.png (deflated 0%)\n",
            "  adding: content/drive/MyDrive/TarDAL/TarDAL/data/testDS/ir/193.png (deflated 0%)\n",
            "  adding: content/drive/MyDrive/TarDAL/TarDAL/data/testDS/ir/104.png (deflated 0%)\n",
            "  adding: content/drive/MyDrive/TarDAL/TarDAL/data/testDS/ir/44.png (deflated 0%)\n",
            "  adding: content/drive/MyDrive/TarDAL/TarDAL/data/testDS/ir/189.png (deflated 0%)\n",
            "  adding: content/drive/MyDrive/TarDAL/TarDAL/data/testDS/ir/141.png (deflated 0%)\n",
            "  adding: content/drive/MyDrive/TarDAL/TarDAL/data/testDS/ir/53.png (deflated 0%)\n",
            "  adding: content/drive/MyDrive/TarDAL/TarDAL/data/testDS/ir/228.png (deflated 0%)\n",
            "  adding: content/drive/MyDrive/TarDAL/TarDAL/data/testDS/ir/11.png (deflated 0%)\n",
            "  adding: content/drive/MyDrive/TarDAL/TarDAL/data/testDS/ir/355.png (deflated 0%)\n",
            "  adding: content/drive/MyDrive/TarDAL/TarDAL/data/testDS/ir/354.png (deflated 0%)\n",
            "  adding: content/drive/MyDrive/TarDAL/TarDAL/data/testDS/ir/315.png (deflated 0%)\n",
            "  adding: content/drive/MyDrive/TarDAL/TarDAL/data/testDS/ir/94.png (deflated 0%)\n",
            "  adding: content/drive/MyDrive/TarDAL/TarDAL/data/testDS/ir/287.png (deflated 0%)\n",
            "  adding: content/drive/MyDrive/TarDAL/TarDAL/data/testDS/ir/125.png (deflated 0%)\n",
            "  adding: content/drive/MyDrive/TarDAL/TarDAL/data/testDS/ir/56.png (deflated 0%)\n",
            "  adding: content/drive/MyDrive/TarDAL/TarDAL/data/testDS/ir/222.png (deflated 0%)\n",
            "  adding: content/drive/MyDrive/TarDAL/TarDAL/data/testDS/ir/217.png (deflated 0%)\n",
            "  adding: content/drive/MyDrive/TarDAL/TarDAL/data/testDS/ir/344.png (deflated 0%)\n",
            "  adding: content/drive/MyDrive/TarDAL/TarDAL/data/testDS/ir/144.png (deflated 0%)\n",
            "  adding: content/drive/MyDrive/TarDAL/TarDAL/data/testDS/ir/307.png (deflated 0%)\n",
            "  adding: content/drive/MyDrive/TarDAL/TarDAL/data/testDS/ir/42.png (deflated 0%)\n",
            "  adding: content/drive/MyDrive/TarDAL/TarDAL/data/testDS/ir/322.png (deflated 0%)\n",
            "  adding: content/drive/MyDrive/TarDAL/TarDAL/data/testDS/ir/107.png (deflated 0%)\n",
            "  adding: content/drive/MyDrive/TarDAL/TarDAL/data/testDS/ir/266.png (deflated 0%)\n",
            "  adding: content/drive/MyDrive/TarDAL/TarDAL/data/testDS/ir/76.png (deflated 0%)\n",
            "  adding: content/drive/MyDrive/TarDAL/TarDAL/data/testDS/ir/299.png (deflated 0%)\n",
            "  adding: content/drive/MyDrive/TarDAL/TarDAL/data/testDS/ir/242.png (deflated 0%)\n",
            "  adding: content/drive/MyDrive/TarDAL/TarDAL/data/testDS/ir/49.png (deflated 0%)\n",
            "  adding: content/drive/MyDrive/TarDAL/TarDAL/data/testDS/ir/210.png (deflated 0%)\n",
            "  adding: content/drive/MyDrive/TarDAL/TarDAL/data/testDS/ir/199.png (deflated 0%)\n",
            "  adding: content/drive/MyDrive/TarDAL/TarDAL/data/testDS/ir/259.png (deflated 0%)\n",
            "  adding: content/drive/MyDrive/TarDAL/TarDAL/data/testDS/ir/347.png (deflated 0%)\n",
            "  adding: content/drive/MyDrive/TarDAL/TarDAL/data/testDS/ir/338.png (deflated 0%)\n",
            "  adding: content/drive/MyDrive/TarDAL/TarDAL/data/testDS/ir/280.png (deflated 0%)\n",
            "  adding: content/drive/MyDrive/TarDAL/TarDAL/data/testDS/ir/121.png (deflated 0%)\n",
            "  adding: content/drive/MyDrive/TarDAL/TarDAL/data/testDS/ir/89.png (deflated 0%)\n",
            "  adding: content/drive/MyDrive/TarDAL/TarDAL/data/testDS/ir/148.png (deflated 0%)\n",
            "  adding: content/drive/MyDrive/TarDAL/TarDAL/data/testDS/ir/64.png (deflated 0%)\n",
            "  adding: content/drive/MyDrive/TarDAL/TarDAL/data/testDS/ir/21.png (deflated 0%)\n",
            "  adding: content/drive/MyDrive/TarDAL/TarDAL/data/testDS/ir/133.png (deflated 0%)\n",
            "  adding: content/drive/MyDrive/TarDAL/TarDAL/data/testDS/ir/296.png (deflated 0%)\n",
            "  adding: content/drive/MyDrive/TarDAL/TarDAL/data/testDS/ir/25.png (deflated 0%)\n",
            "  adding: content/drive/MyDrive/TarDAL/TarDAL/data/testDS/ir/12.png (deflated 0%)\n",
            "  adding: content/drive/MyDrive/TarDAL/TarDAL/data/testDS/ir/253.png (deflated 0%)\n",
            "  adding: content/drive/MyDrive/TarDAL/TarDAL/data/testDS/ir/65.png (deflated 0%)\n",
            "  adding: content/drive/MyDrive/TarDAL/TarDAL/data/testDS/ir/58.png (deflated 0%)\n",
            "  adding: content/drive/MyDrive/TarDAL/TarDAL/data/testDS/ir/215.png (deflated 0%)\n",
            "  adding: content/drive/MyDrive/TarDAL/TarDAL/data/testDS/ir/229.png (deflated 0%)\n",
            "  adding: content/drive/MyDrive/TarDAL/TarDAL/data/testDS/ir/183.png (deflated 0%)\n",
            "  adding: content/drive/MyDrive/TarDAL/TarDAL/data/testDS/ir/290.png (deflated 0%)\n",
            "  adding: content/drive/MyDrive/TarDAL/TarDAL/data/testDS/ir/323.png (deflated 0%)\n",
            "  adding: content/drive/MyDrive/TarDAL/TarDAL/data/testDS/ir/212.png (deflated 0%)\n",
            "  adding: content/drive/MyDrive/TarDAL/TarDAL/data/testDS/ir/213.png (deflated 0%)\n",
            "  adding: content/drive/MyDrive/TarDAL/TarDAL/data/testDS/ir/115.png (deflated 0%)\n",
            "  adding: content/drive/MyDrive/TarDAL/TarDAL/data/testDS/ir/83.png (deflated 0%)\n",
            "  adding: content/drive/MyDrive/TarDAL/TarDAL/data/testDS/ir/321.png (deflated 0%)\n",
            "  adding: content/drive/MyDrive/TarDAL/TarDAL/data/testDS/ir/75.png (deflated 0%)\n",
            "  adding: content/drive/MyDrive/TarDAL/TarDAL/data/testDS/ir/308.png (deflated 0%)\n",
            "  adding: content/drive/MyDrive/TarDAL/TarDAL/data/testDS/ir/320.png (deflated 0%)\n",
            "  adding: content/drive/MyDrive/TarDAL/TarDAL/data/testDS/ir/230.png (deflated 0%)\n",
            "  adding: content/drive/MyDrive/TarDAL/TarDAL/data/testDS/ir/32.png (deflated 0%)\n",
            "  adding: content/drive/MyDrive/TarDAL/TarDAL/data/testDS/ir/45.png (deflated 0%)\n",
            "  adding: content/drive/MyDrive/TarDAL/TarDAL/data/testDS/ir/52.png (deflated 0%)\n",
            "  adding: content/drive/MyDrive/TarDAL/TarDAL/data/testDS/ir/173.png (deflated 0%)\n",
            "  adding: content/drive/MyDrive/TarDAL/TarDAL/data/testDS/ir/145.png (deflated 0%)\n",
            "  adding: content/drive/MyDrive/TarDAL/TarDAL/data/testDS/ir/327.png (deflated 0%)\n",
            "  adding: content/drive/MyDrive/TarDAL/TarDAL/data/testDS/ir/160.png (deflated 0%)\n",
            "  adding: content/drive/MyDrive/TarDAL/TarDAL/data/testDS/ir/171.png (deflated 0%)\n",
            "  adding: content/drive/MyDrive/TarDAL/TarDAL/data/testDS/ir/69.png (deflated 0%)\n",
            "  adding: content/drive/MyDrive/TarDAL/TarDAL/data/testDS/ir/99.png (deflated 0%)\n",
            "  adding: content/drive/MyDrive/TarDAL/TarDAL/data/testDS/ir/36.png (deflated 0%)\n",
            "  adding: content/drive/MyDrive/TarDAL/TarDAL/data/testDS/ir/214.png (deflated 0%)\n",
            "  adding: content/drive/MyDrive/TarDAL/TarDAL/data/testDS/ir/301.png (deflated 0%)\n",
            "  adding: content/drive/MyDrive/TarDAL/TarDAL/data/testDS/ir/190.png (deflated 0%)\n",
            "  adding: content/drive/MyDrive/TarDAL/TarDAL/data/testDS/ir/360.png (deflated 0%)\n",
            "  adding: content/drive/MyDrive/TarDAL/TarDAL/data/testDS/ir/63.png (deflated 0%)\n",
            "  adding: content/drive/MyDrive/TarDAL/TarDAL/data/testDS/ir/122.png (deflated 0%)\n",
            "  adding: content/drive/MyDrive/TarDAL/TarDAL/data/testDS/ir/343.png (deflated 0%)\n",
            "  adding: content/drive/MyDrive/TarDAL/TarDAL/data/testDS/ir/102.png (deflated 0%)\n",
            "  adding: content/drive/MyDrive/TarDAL/TarDAL/data/testDS/ir/239.png (deflated 0%)\n",
            "  adding: content/drive/MyDrive/TarDAL/TarDAL/data/testDS/ir/140.png (deflated 0%)\n",
            "  adding: content/drive/MyDrive/TarDAL/TarDAL/data/testDS/ir/238.png (deflated 0%)\n",
            "  adding: content/drive/MyDrive/TarDAL/TarDAL/data/testDS/ir/18.png (deflated 0%)\n",
            "  adding: content/drive/MyDrive/TarDAL/TarDAL/data/testDS/ir/130.png (deflated 0%)\n",
            "  adding: content/drive/MyDrive/TarDAL/TarDAL/data/testDS/ir/185.png (deflated 0%)\n",
            "  adding: content/drive/MyDrive/TarDAL/TarDAL/data/testDS/ir/282.png (deflated 0%)\n",
            "  adding: content/drive/MyDrive/TarDAL/TarDAL/data/testDS/ir/263.png (deflated 0%)\n",
            "  adding: content/drive/MyDrive/TarDAL/TarDAL/data/testDS/ir/283.png (deflated 0%)\n",
            "  adding: content/drive/MyDrive/TarDAL/TarDAL/data/testDS/ir/80.png (deflated 0%)\n",
            "  adding: content/drive/MyDrive/TarDAL/TarDAL/data/testDS/ir/170.png (deflated 0%)\n",
            "  adding: content/drive/MyDrive/TarDAL/TarDAL/data/testDS/ir/117.png (deflated 0%)\n"
          ]
        }
      ]
    },
    {
      "cell_type": "code",
      "source": [
        "from google.colab import files\n",
        "\n",
        "files.download('/content/drive/MyDrive/TarDAL/TarDAL/testDS_infraredImages.zip')"
      ],
      "metadata": {
        "colab": {
          "base_uri": "https://localhost:8080/",
          "height": 17
        },
        "id": "qaPg8woxteOy",
        "outputId": "29c6c7b4-a5a5-47d7-d6ab-a417b8bc6b09"
      },
      "execution_count": null,
      "outputs": [
        {
          "output_type": "display_data",
          "data": {
            "text/plain": [
              "<IPython.core.display.Javascript object>"
            ],
            "application/javascript": [
              "\n",
              "    async function download(id, filename, size) {\n",
              "      if (!google.colab.kernel.accessAllowed) {\n",
              "        return;\n",
              "      }\n",
              "      const div = document.createElement('div');\n",
              "      const label = document.createElement('label');\n",
              "      label.textContent = `Downloading \"${filename}\": `;\n",
              "      div.appendChild(label);\n",
              "      const progress = document.createElement('progress');\n",
              "      progress.max = size;\n",
              "      div.appendChild(progress);\n",
              "      document.body.appendChild(div);\n",
              "\n",
              "      const buffers = [];\n",
              "      let downloaded = 0;\n",
              "\n",
              "      const channel = await google.colab.kernel.comms.open(id);\n",
              "      // Send a message to notify the kernel that we're ready.\n",
              "      channel.send({})\n",
              "\n",
              "      for await (const message of channel.messages) {\n",
              "        // Send a message to notify the kernel that we're ready.\n",
              "        channel.send({})\n",
              "        if (message.buffers) {\n",
              "          for (const buffer of message.buffers) {\n",
              "            buffers.push(buffer);\n",
              "            downloaded += buffer.byteLength;\n",
              "            progress.value = downloaded;\n",
              "          }\n",
              "        }\n",
              "      }\n",
              "      const blob = new Blob(buffers, {type: 'application/binary'});\n",
              "      const a = document.createElement('a');\n",
              "      a.href = window.URL.createObjectURL(blob);\n",
              "      a.download = filename;\n",
              "      div.appendChild(a);\n",
              "      a.click();\n",
              "      div.remove();\n",
              "    }\n",
              "  "
            ]
          },
          "metadata": {}
        },
        {
          "output_type": "display_data",
          "data": {
            "text/plain": [
              "<IPython.core.display.Javascript object>"
            ],
            "application/javascript": [
              "download(\"download_6473179f-ea22-4f22-bfed-f439f09e7580\", \"testDS_infraredImages.zip\", 37768636)"
            ]
          },
          "metadata": {}
        }
      ]
    },
    {
      "cell_type": "code",
      "source": [],
      "metadata": {
        "id": "fJIVJv6VvHBd"
      },
      "execution_count": null,
      "outputs": []
    }
  ]
}